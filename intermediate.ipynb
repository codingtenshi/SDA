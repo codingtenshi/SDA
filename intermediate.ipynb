{
 "cells": [
  {
   "cell_type": "markdown",
   "metadata": {},
   "source": [
    "# Python Średniozaawansowany"
   ]
  },
  {
   "cell_type": "markdown",
   "metadata": {},
   "source": [
    "#### Instrukcja instalacji VS Code <a class=\"anchor\" id=\"install\"></a>\n",
    "\n",
    " - Zainstaluj narzędzia [Python](https://www.python.org/downloads/).\n",
    "\n",
    " - Pobierz [VS Code](https://code.visualstudio.com/).\n",
    "\n",
    " - Zainstaluj rozszerzenie [Python](https://marketplace.visualstudio.com/items?itemName=ms-python.python).\n",
    "\n",
    " - Zainstaluj rozszerzenie [Jupyter](https://marketplace.visualstudio.com/items?itemName=ms-toolsai.jupyter).\n",
    "\n",
    "  - Zainstaluj rozszerzenie [Git Extension Pack](https://marketplace.visualstudio.com/items?itemName=donjayamanne.git-extension-pack)."
   ]
  },
  {
   "attachments": {},
   "cell_type": "markdown",
   "metadata": {},
   "source": [
    "#### Potrzebne importy\n",
    "\n",
    " - [matplotlib](https://matplotlib.org/) - wymagana instalacja\n",
    "    * [pyplot](https://matplotlib.org/stable/tutorials/introductory/pyplot.html)\n",
    " - [numpy](https://numpy.org/) - wymagana instalacja\n",
    " - [pandas](https://pandas.pydata.org/) - wymagana instalacja\n",
    " - os\n",
    " - [inspect](https://docs.python.org/3/library/inspect.html) - biblioteka zawierająca [funkcjonalność przydatną przy analizowaniu struktur klas](https://docs.python.org/3/library/inspect.html#classes-and-functions).\n",
    " - [abc](https://docs.python.org/3/library/abc.html) - biblioteka do abstrakcji klasowej\n"
   ]
  },
  {
   "cell_type": "code",
   "execution_count": 25,
   "metadata": {},
   "outputs": [],
   "source": [
    "from IPython.display import clear_output\n",
    "from IPython import get_ipython\n",
    "%pip install matplotlib\n",
    "%pip install numpy\n",
    "%pip install pandas\n",
    "clear_output()"
   ]
  },
  {
   "attachments": {},
   "cell_type": "markdown",
   "metadata": {},
   "source": [
    "#### Przydatne definicje [magicznych komend](https://ipython.readthedocs.io/en/stable/interactive/magics.html)"
   ]
  },
  {
   "attachments": {},
   "cell_type": "markdown",
   "metadata": {},
   "source": [
    " * `%%captureErrors` - przechwytuje wszelkie błędy występujące w komórce i drukuje je jako zwykły tekst. Kolorowanie wzorowane na [wątku](https://stackoverflow.com/questions/61139640/is-it-possible-to-print-traceback-format-exc-in-color-using-colored-tracebac) ze StackOverFlow."
   ]
  },
  {
   "cell_type": "code",
   "execution_count": null,
   "metadata": {},
   "outputs": [],
   "source": [
    "import traceback\n",
    "from pygments import formatters, highlight, lexers\n",
    "from IPython.core.magic import register_cell_magic\n",
    "\n",
    "@register_cell_magic('captureErrors')\n",
    "def captureErrors(line, cell):\n",
    "    try:\n",
    "        exec(cell)\n",
    "    except:\n",
    "        tb_text = \"\".join(traceback.format_exc())\n",
    "\n",
    "        lexer = lexers.get_lexer_by_name(\"pytb\", stripall=True)\n",
    "        formatter = formatters.get_formatter_by_name(\"terminal256\")\n",
    "        tb_colored = highlight(tb_text, lexer, formatter)\n",
    "\n",
    "        print(tb_colored)\n"
   ]
  },
  {
   "cell_type": "markdown",
   "metadata": {},
   "source": [
    "## Wyjątki"
   ]
  },
  {
   "cell_type": "markdown",
   "metadata": {},
   "source": [
    "### Problem:\n",
    "\n",
    "W przypadku źle napisanego kodu, nieoczekiwanych przypadków brzegowych lub awarii systemu, program może natrafić na osobliwość, która uniemożliwia dalsze działanie i wymaga albo przerwanie wykonania, albo naprawienie stanu w trakcie wykonania. W jaki sposób przekazać informację o błędzie oraz w jaki sposób obsłużyć taki błąd?"
   ]
  },
  {
   "cell_type": "markdown",
   "metadata": {},
   "source": [
    "### [Wyjątki](https://en.wikipedia.org/wiki/Exception_handling) są zdarzeniami, które pojawiają się podczas wykonania programu i przerywają jego normalny przebieg. Technicznie są to obiekty reprezentujące dany błąd."
   ]
  },
  {
   "cell_type": "code",
   "execution_count": null,
   "metadata": {},
   "outputs": [
    {
     "name": "stdout",
     "output_type": "stream",
     "text": [
      "\u001b[38;5;26mTraceback (most recent call last):\u001b[39m\n",
      "  File \u001b[38;5;28m\"C:\\Users\\micha\\AppData\\Local\\Temp/ipykernel_12088/3686090039.py\"\u001b[39m, line \u001b[38;5;241m8\u001b[39m, in captureErrors\n",
      "    exec(cell)\n",
      "  File \u001b[38;5;28m\"<string>\"\u001b[39m, line \u001b[38;5;241m3\u001b[39m, in <module>\n",
      "\u001b[38;5;9mZeroDivisionError\u001b[39m: float division by zero\n",
      "\n"
     ]
    }
   ],
   "source": [
    "%%captureErrors\n",
    "a = 5.0\n",
    "b = 0.0\n",
    "print(a/b)"
   ]
  },
  {
   "cell_type": "markdown",
   "metadata": {},
   "source": [
    "##### Wszystkie wbudowane, nie opuszczające systemu [wyjątki](https://docs.python.org/3/library/exceptions.html) dziedziczą po klasie `Exception`. Wyjątki tworzone przez programistę również powinny dziedziczyć po tej klasie."
   ]
  },
  {
   "cell_type": "markdown",
   "metadata": {},
   "source": [
    "##### Najczęściej spotykane wyjątki to\n",
    "\n",
    " - `AssertionError` - niespełnienie warunku operacji [assert](https://docs.python.org/3/reference/simple_stmts.html#the-assert-statement)\n",
    " - `AttributeError` - odwołanie do nieistniejącego atrybutu\n",
    " - `IOError` - błąd operacji wejścia/wyjścia\n",
    " - `IndexError` - odwołanie do kolekcji za pomocą indeksu poza zakresem\n",
    " - `ImportError` - problem z załadowaniem modułu\n",
    " - `KeyError` - odwołanie do słownika nieistniejącym kluczem\n",
    " - `ValueError` - przekazanie do funkcji argumentu o niepoprawnej wartości\n",
    " - `ZeroDivisionError` - dzielenie przez zero"
   ]
  },
  {
   "cell_type": "markdown",
   "metadata": {},
   "source": [
    "### Obsługa wyjątków"
   ]
  },
  {
   "cell_type": "markdown",
   "metadata": {},
   "source": [
    "##### Wyjątki obsługujemy za pomocą słów kluczowych:\n",
    " - `try` - poprzedza obszar sprawdzany pod kątem wyrzucania wyjątków,\n",
    " - `except` - poprzedza obszar obsługi wyłapanego wyjątku,\n",
    " - `finally` - poprzedza obszar, który jest wykonywany pod koniec obsługi, niezależnie od tego, czy wyjątek został wyrzucony czy też nie\n",
    " - `raise` - wyrzuca zadany wyjątek"
   ]
  },
  {
   "cell_type": "code",
   "execution_count": null,
   "metadata": {},
   "outputs": [
    {
     "name": "stdout",
     "output_type": "stream",
     "text": [
      "0.5   20.0\n",
      "0.3   33.333333333333336\n",
      "0   10000000\n"
     ]
    }
   ],
   "source": [
    "for i in [0.5, 0.3, 0]:\n",
    "    try:\n",
    "        result = 10/i\n",
    "    except:\n",
    "        result = 10000000\n",
    "    print(i, \" \", result)"
   ]
  },
  {
   "cell_type": "code",
   "execution_count": null,
   "metadata": {},
   "outputs": [
    {
     "name": "stdout",
     "output_type": "stream",
     "text": [
      "Hey! I cannot take a root of that\n"
     ]
    }
   ],
   "source": [
    "def root4(x):\n",
    "    return x ** 0.25\n",
    "\n",
    "x = \"Some dummy text\"\n",
    "\n",
    "try:\n",
    "    print(root4(x))\n",
    "except:\n",
    "    print(\"Hey! I cannot take a root of that\")"
   ]
  },
  {
   "cell_type": "code",
   "execution_count": null,
   "metadata": {},
   "outputs": [],
   "source": [
    "def f():\n",
    "    for i in [0.5, 0.3, 0.001, 2.0]:\n",
    "        try:\n",
    "            result = 10/(max(0.1,i) - 0.1)\n",
    "        except:\n",
    "            result = 10000000\n",
    "            raise ValueError(\"Value lower or equal to 0.1\")\n",
    "        finally:\n",
    "            print(i, \" \", result)\n",
    "\n",
    "def g():\n",
    "    def h():\n",
    "        f()\n",
    "    h()"
   ]
  },
  {
   "cell_type": "code",
   "execution_count": null,
   "metadata": {},
   "outputs": [
    {
     "ename": "KeyboardInterrupt",
     "evalue": "",
     "output_type": "error",
     "traceback": [
      "\u001b[0;31m---------------------------------------------------------------------------\u001b[0m",
      "\u001b[0;31mKeyboardInterrupt\u001b[0m                         Traceback (most recent call last)",
      "Cell \u001b[0;32mIn[13], line 1\u001b[0m\n\u001b[0;32m----> 1\u001b[0m get_ipython()\u001b[39m.\u001b[39mrun_cell_magic(\u001b[39m'\u001b[39m\u001b[39mcaptureErrors\u001b[39m\u001b[39m'\u001b[39m, \u001b[39m'\u001b[39m\u001b[39m'\u001b[39m, \u001b[39m'\u001b[39m\u001b[39mg()\u001b[39m\u001b[39m\\n\u001b[39;00m\u001b[39m'\u001b[39m)\n",
      "Cell \u001b[0;32mIn[13], line 1\u001b[0m\n\u001b[0;32m----> 1\u001b[0m get_ipython()\u001b[39m.\u001b[39mrun_cell_magic(\u001b[39m'\u001b[39m\u001b[39mcaptureErrors\u001b[39m\u001b[39m'\u001b[39m, \u001b[39m'\u001b[39m\u001b[39m'\u001b[39m, \u001b[39m'\u001b[39m\u001b[39mg()\u001b[39m\u001b[39m\\n\u001b[39;00m\u001b[39m'\u001b[39m)\n",
      "File \u001b[0;32m~/Library/Python/3.11/lib/python/site-packages/debugpy/_vendored/pydevd/_pydevd_bundle/pydevd_frame.py:988\u001b[0m, in \u001b[0;36mPyDBFrame.trace_dispatch\u001b[0;34m(self, frame, event, arg)\u001b[0m\n\u001b[1;32m    986\u001b[0m \u001b[39m# if thread has a suspend flag, we suspend with a busy wait\u001b[39;00m\n\u001b[1;32m    987\u001b[0m \u001b[39mif\u001b[39;00m info\u001b[39m.\u001b[39mpydev_state \u001b[39m==\u001b[39m STATE_SUSPEND:\n\u001b[0;32m--> 988\u001b[0m     \u001b[39mself\u001b[39;49m\u001b[39m.\u001b[39;49mdo_wait_suspend(thread, frame, event, arg)\n\u001b[1;32m    989\u001b[0m     \u001b[39mreturn\u001b[39;00m \u001b[39mself\u001b[39m\u001b[39m.\u001b[39mtrace_dispatch\n\u001b[1;32m    990\u001b[0m \u001b[39melse\u001b[39;00m:\n",
      "File \u001b[0;32m~/Library/Python/3.11/lib/python/site-packages/debugpy/_vendored/pydevd/_pydevd_bundle/pydevd_frame.py:165\u001b[0m, in \u001b[0;36mPyDBFrame.do_wait_suspend\u001b[0;34m(self, *args, **kwargs)\u001b[0m\n\u001b[1;32m    164\u001b[0m \u001b[39mdef\u001b[39;00m \u001b[39mdo_wait_suspend\u001b[39m(\u001b[39mself\u001b[39m, \u001b[39m*\u001b[39margs, \u001b[39m*\u001b[39m\u001b[39m*\u001b[39mkwargs):\n\u001b[0;32m--> 165\u001b[0m     \u001b[39mself\u001b[39;49m\u001b[39m.\u001b[39;49m_args[\u001b[39m0\u001b[39;49m]\u001b[39m.\u001b[39;49mdo_wait_suspend(\u001b[39m*\u001b[39;49margs, \u001b[39m*\u001b[39;49m\u001b[39m*\u001b[39;49mkwargs)\n",
      "File \u001b[0;32m~/Library/Python/3.11/lib/python/site-packages/debugpy/_vendored/pydevd/pydevd.py:2070\u001b[0m, in \u001b[0;36mPyDB.do_wait_suspend\u001b[0;34m(self, thread, frame, event, arg, exception_type)\u001b[0m\n\u001b[1;32m   2067\u001b[0m             from_this_thread\u001b[39m.\u001b[39mappend(frame_custom_thread_id)\n\u001b[1;32m   2069\u001b[0m     \u001b[39mwith\u001b[39;00m \u001b[39mself\u001b[39m\u001b[39m.\u001b[39m_threads_suspended_single_notification\u001b[39m.\u001b[39mnotify_thread_suspended(thread_id, thread, stop_reason):\n\u001b[0;32m-> 2070\u001b[0m         keep_suspended \u001b[39m=\u001b[39m \u001b[39mself\u001b[39;49m\u001b[39m.\u001b[39;49m_do_wait_suspend(thread, frame, event, arg, suspend_type, from_this_thread, frames_tracker)\n\u001b[1;32m   2072\u001b[0m frames_list \u001b[39m=\u001b[39m \u001b[39mNone\u001b[39;00m\n\u001b[1;32m   2074\u001b[0m \u001b[39mif\u001b[39;00m keep_suspended:\n\u001b[1;32m   2075\u001b[0m     \u001b[39m# This means that we should pause again after a set next statement.\u001b[39;00m\n",
      "File \u001b[0;32m~/Library/Python/3.11/lib/python/site-packages/debugpy/_vendored/pydevd/pydevd.py:2106\u001b[0m, in \u001b[0;36mPyDB._do_wait_suspend\u001b[0;34m(self, thread, frame, event, arg, suspend_type, from_this_thread, frames_tracker)\u001b[0m\n\u001b[1;32m   2103\u001b[0m         \u001b[39mself\u001b[39m\u001b[39m.\u001b[39m_call_input_hook()\n\u001b[1;32m   2105\u001b[0m     \u001b[39mself\u001b[39m\u001b[39m.\u001b[39mprocess_internal_commands()\n\u001b[0;32m-> 2106\u001b[0m     time\u001b[39m.\u001b[39msleep(\u001b[39m0.01\u001b[39m)\n\u001b[1;32m   2108\u001b[0m \u001b[39mself\u001b[39m\u001b[39m.\u001b[39mcancel_async_evaluation(get_current_thread_id(thread), \u001b[39mstr\u001b[39m(\u001b[39mid\u001b[39m(frame)))\n\u001b[1;32m   2110\u001b[0m \u001b[39m# process any stepping instructions\u001b[39;00m\n",
      "\u001b[0;31mKeyboardInterrupt\u001b[0m: "
     ]
    }
   ],
   "source": [
    "%%captureErrors\n",
    "g()"
   ]
  },
  {
   "cell_type": "markdown",
   "metadata": {},
   "source": [
    "##### Do każdego bloku `try` możemy przypisać wiele bloków `except`."
   ]
  },
  {
   "cell_type": "code",
   "execution_count": null,
   "metadata": {},
   "outputs": [
    {
     "name": "stdout",
     "output_type": "stream",
     "text": [
      "0.2\n",
      "Oopsie, whoopsie. You tried to divide by zero\n",
      "0.16666666666666666\n",
      "What did just happened here?\n",
      "0.5\n",
      "I went too far\n"
     ]
    }
   ],
   "source": [
    "l = [5, 0, 6, 2]\n",
    "\n",
    "for i in range(5):\n",
    "    try:\n",
    "        a = 1/l[i]\n",
    "        print(a)\n",
    "        assert a >= 0.2\n",
    "    except KeyError:\n",
    "        print(\"Wrong key\")\n",
    "    except ZeroDivisionError:\n",
    "        print(\"Oopsie, whoopsie. You tried to divide by zero\")\n",
    "    except (IndexError, KeyError):\n",
    "        print(\"I went too far\")\n",
    "    except:\n",
    "        print(\"What did just happened here?\")"
   ]
  },
  {
   "cell_type": "markdown",
   "metadata": {},
   "source": [
    "##### Klauzulę `finally` zazwyczaj używamy, gdy po wykonaniu zadania musimy zwolnić pewne zasoby, niezależnie, czy procedura powiodła się czy nie. Na przykład, obsługa pliku."
   ]
  },
  {
   "cell_type": "code",
   "execution_count": null,
   "metadata": {},
   "outputs": [
    {
     "name": "stderr",
     "output_type": "stream",
     "text": [
      "UsageError: Cell magic `%%captureErrors` not found.\n"
     ]
    }
   ],
   "source": [
    "%%captureErrors\n",
    "dummy_file_name = \"dummy.file\"\n",
    "\n",
    "file = None\n",
    "try:\n",
    "    file = open(dummy_file_name, \"r\")\n",
    "    print(file.read())\n",
    "finally:\n",
    "    if file:\n",
    "        file.close()\n",
    "    if os.path.exists(dummy_file_name):\n",
    "        os.remove(dummy_file_name)\n"
   ]
  },
  {
   "cell_type": "markdown",
   "metadata": {},
   "source": [
    "### Manager kontekstu"
   ]
  },
  {
   "cell_type": "markdown",
   "metadata": {},
   "source": [
    "##### Zamiast tego możemy użyć wyrażenia [with](https://docs.python.org/3/reference/compound_stmts.html#the-with-statement) zwanego managerem kontekstu, które obsługuje obiekty posiadające metody `__enter__` i `__exit__`"
   ]
  },
  {
   "attachments": {},
   "cell_type": "markdown",
   "metadata": {},
   "source": [
    "W poniższym przykładzie [open](https://docs.python.org/3/library/functions.html#open) tworzy uchwyt do pliku. Za pomocą menagera kontekstu zapisujemy uchwyt do zmiennej `file` i zabezpieczamy się przed ewentualnymi błędami w działaniu programu. Jeżeli dojdzie do przerwania, manager kontekstu zamknie uchwyt zwalniając plik."
   ]
  },
  {
   "cell_type": "code",
   "execution_count": null,
   "metadata": {},
   "outputs": [],
   "source": [
    "class MyContextManager:\n",
    "    def __enter__(self):\n",
    "        print(\"enter\")\n",
    "        return 5\n",
    "\n",
    "    def __exit__(self, t, value, tb):\n",
    "        print(\"exit\")\n",
    "        print(t, value, tb)"
   ]
  },
  {
   "cell_type": "code",
   "execution_count": null,
   "metadata": {},
   "outputs": [
    {
     "name": "stdout",
     "output_type": "stream",
     "text": [
      "enter\n",
      "Hi 5\n",
      "exit\n",
      "None None None\n",
      "enter\n",
      "exit\n",
      "<class 'Exception'> Ops <traceback object at 0x00000127EA690500>\n",
      "\u001b[38;5;26mTraceback (most recent call last):\u001b[39m\n",
      "  File \u001b[38;5;28m\"C:\\Users\\micha\\AppData\\Local\\Temp/ipykernel_12088/3686090039.py\"\u001b[39m, line \u001b[38;5;241m8\u001b[39m, in captureErrors\n",
      "    exec(cell)\n",
      "  File \u001b[38;5;28m\"<string>\"\u001b[39m, line \u001b[38;5;241m6\u001b[39m, in <module>\n",
      "\u001b[38;5;9mException\u001b[39m: Ops\n",
      "\n"
     ]
    }
   ],
   "source": [
    "%%captureErrors\n",
    "\n",
    "with MyContextManager() as v:\n",
    "    print(\"Hi\", v)\n",
    "\n",
    "with MyContextManager() as v:\n",
    "    raise Exception(\"Ops\")"
   ]
  },
  {
   "cell_type": "markdown",
   "metadata": {},
   "source": [
    "Podobną funkcjonalność można osiągnąć również z pomocą dekoratora [@contextmanager](https://docs.python.org/3/library/contextlib.html#contextlib.contextmanager)"
   ]
  },
  {
   "cell_type": "code",
   "execution_count": null,
   "metadata": {},
   "outputs": [],
   "source": [
    "from contextlib import contextmanager\n",
    "import os\n",
    "\n",
    "dummy_file_name = \"dummy.file\"\n",
    "\n",
    "class ReadWriteFile:\n",
    "    def __init__(self, address) -> None:\n",
    "        self.writer = open(address, \"w\")\n",
    "        self.reader = open(address, \"r\")\n",
    "\n",
    "    def write(self, text):\n",
    "        self.writer.write(text)\n",
    "\n",
    "    def read(self):\n",
    "        return self.reader.read()\n",
    "\n",
    "@contextmanager\n",
    "def autodestructingFile(address):\n",
    "    file = ReadWriteFile(address)\n",
    "    try:\n",
    "        yield file\n",
    "    finally:\n",
    "        file.reader.close()\n",
    "        file.writer.close()\n",
    "        if os.path.exists(address):\n",
    "            os.remove(address)\n"
   ]
  },
  {
   "cell_type": "code",
   "execution_count": 27,
   "metadata": {},
   "outputs": [
    {
     "name": "stderr",
     "output_type": "stream",
     "text": [
      "UsageError: Cell magic `%%captureErrors` not found.\n"
     ]
    }
   ],
   "source": [
    "%%captureErrors\n",
    "\n",
    "with autodestructingFile(dummy_file_name) as f:\n",
    "    f.write(\"somedummytext\")\n",
    "    print(f.read())\n",
    "\n",
    "    raise Exception(\"some dummy exception\")\n",
    "    print(\"message ignored\")"
   ]
  },
  {
   "cell_type": "markdown",
   "metadata": {},
   "source": [
    "### [Rzucanie wyjątków](https://docs.python.org/3/tutorial/errors.html#raising-exceptions)"
   ]
  },
  {
   "cell_type": "markdown",
   "metadata": {},
   "source": [
    "##### W celu rzucenia wyjątku wykorzystujemy wyrażenie `raise`."
   ]
  },
  {
   "cell_type": "code",
   "execution_count": null,
   "metadata": {},
   "outputs": [
    {
     "name": "stdout",
     "output_type": "stream",
     "text": [
      "\u001b[38;5;26mTraceback (most recent call last):\u001b[39m\n",
      "  File \u001b[38;5;28m\"C:\\Users\\micha\\AppData\\Local\\Temp/ipykernel_12088/3686090039.py\"\u001b[39m, line \u001b[38;5;241m8\u001b[39m, in captureErrors\n",
      "    exec(cell)\n",
      "  File \u001b[38;5;28m\"<string>\"\u001b[39m, line \u001b[38;5;241m1\u001b[39m, in <module>\n",
      "\u001b[38;5;9mException\u001b[39m: My dummy exception\n",
      "\n"
     ]
    }
   ],
   "source": [
    "%%captureErrors\n",
    "raise Exception(\"My dummy exception\")"
   ]
  },
  {
   "attachments": {},
   "cell_type": "markdown",
   "metadata": {},
   "source": [
    "###### <font color=\"gray\">W większości języków odpowiednikiem `raise` jest `throw`</font>"
   ]
  },
  {
   "cell_type": "markdown",
   "metadata": {},
   "source": [
    "### Tworzenie własnych wyjątków"
   ]
  },
  {
   "cell_type": "code",
   "execution_count": null,
   "metadata": {},
   "outputs": [],
   "source": [
    "class CustomException1(Exception):\n",
    "    pass"
   ]
  },
  {
   "cell_type": "code",
   "execution_count": null,
   "metadata": {},
   "outputs": [
    {
     "name": "stdout",
     "output_type": "stream",
     "text": [
      "\u001b[38;5;26mTraceback (most recent call last):\u001b[39m\n",
      "  File \u001b[38;5;28m\"C:\\Users\\micha\\AppData\\Local\\Temp/ipykernel_12088/3686090039.py\"\u001b[39m, line \u001b[38;5;241m8\u001b[39m, in captureErrors\n",
      "    exec(cell)\n",
      "  File \u001b[38;5;28m\"<string>\"\u001b[39m, line \u001b[38;5;241m1\u001b[39m, in <module>\n",
      "\u001b[38;5;9mCustomException1\u001b[39m: Some custom exception\n",
      "\n"
     ]
    }
   ],
   "source": [
    "%%captureErrors\n",
    "raise CustomException1(\"Some custom exception\")"
   ]
  },
  {
   "cell_type": "code",
   "execution_count": null,
   "metadata": {},
   "outputs": [],
   "source": [
    "class CustomException2(Exception):\n",
    "    def __init__(self) -> None:\n",
    "        super().__init__(\"My hardcoded message\")\n",
    "\n",
    "    def sing(self):\n",
    "        print(\"In the marry month of June\")"
   ]
  },
  {
   "cell_type": "code",
   "execution_count": null,
   "metadata": {},
   "outputs": [
    {
     "name": "stdout",
     "output_type": "stream",
     "text": [
      "In the marry month of June\n",
      "\u001b[38;5;26mTraceback (most recent call last):\u001b[39m\n",
      "  File \u001b[38;5;28m\"C:\\Users\\micha\\AppData\\Local\\Temp/ipykernel_12088/3686090039.py\"\u001b[39m, line \u001b[38;5;241m8\u001b[39m, in captureErrors\n",
      "    exec(cell)\n",
      "  File \u001b[38;5;28m\"<string>\"\u001b[39m, line \u001b[38;5;241m5\u001b[39m, in <module>\n",
      "  File \u001b[38;5;28m\"<string>\"\u001b[39m, line \u001b[38;5;241m2\u001b[39m, in <module>\n",
      "\u001b[38;5;9mCustomException2\u001b[39m: My hardcoded message\n",
      "\n"
     ]
    }
   ],
   "source": [
    "%%captureErrors\n",
    "try:\n",
    "    raise CustomException2()\n",
    "except CustomException2 as e:\n",
    "    e.sing()\n",
    "    raise e"
   ]
  },
  {
   "cell_type": "markdown",
   "metadata": {},
   "source": [
    "###### <font color='red'>Uwaga, niektóre wyjątki zabijają jądro Jupyter. Poniższy przykład ma na celu wywołania jednego z takich wyjątków. Po śmierci jądra cały kontekst wywołania zostanie stracony i wszelkie zmienne i importy będą musiały zostać wprowadzone na nowo.</font>"
   ]
  },
  {
   "cell_type": "markdown",
   "metadata": {},
   "source": [
    "Dla jakiego `n` poniższy kod może nigdy się nie zakończyć? Czemu? Czemu jednak się kończy? Jakim błędem się kończy? (wywołaj poza środowiskiem `.ipynb` żeby uzyskać treść błędu) Co to znaczy?"
   ]
  },
  {
   "cell_type": "code",
   "execution_count": null,
   "metadata": {},
   "outputs": [],
   "source": [
    "def fact(n):\n",
    "    if n == 0:\n",
    "        return 1\n",
    "    else:\n",
    "        return fact(n - 1) * n"
   ]
  },
  {
   "cell_type": "markdown",
   "metadata": {},
   "source": [
    "\n",
    " 1. <font size=\"1\" color=\"gray\">Dowolna liczba nie będąca liczbą naturalną</font>\n",
    " 2. <font size=\"1\" color=\"gray\">Funkcja będzie wywoływała siebie samą w nieskończoność. To tak zwana [rekurencja](https://en.wikipedia.org/wiki/Recursion).</font>\n",
    " 3. <font size=\"1\" color=\"gray\">Python przerywa samodzielnie zbyt głęboko schodzące rekursje.</font>\n",
    " 4. <font size=\"1\" color=\"gray\">Przekroczono dopuszczalną głębokość rekurencji. Przerywa to program zanim zostanie wyrzucony systemowy błąd `stackoverflow`.</font>\n",
    "\n"
   ]
  },
  {
   "cell_type": "markdown",
   "metadata": {},
   "source": [
    "## [Programowanie obiektowe](https://en.wikipedia.org/wiki/Object-oriented_programming)"
   ]
  },
  {
   "cell_type": "markdown",
   "metadata": {},
   "source": [
    "### Problem:\n",
    "\n",
    "Program da się zazwyczaj podzielić na małe bloczki, które komunikują się ze sobą nawzajem. Często bloczki te są powtarzalne i da się je zdefiniować wspólnie jedną definicją. W jaki sposób stworzyć strukturę hierarchii i zależności? W jaki sposób przygotować możliwość zastąpienia niektórych dotychczasowych bloczków przez nowe warianty? W jaki sposób uogólnić formułę bloczku tak, by zdefiniować bazę wielu bloczków na raz? W jaki sposób napisać kod, w którym widoczne jest to, co bloczek wykorzystuje na własną potrzebę a co może być wykorzystywane przez inne bloczki?"
   ]
  },
  {
   "cell_type": "markdown",
   "metadata": {},
   "source": [
    "##### Podstawowe koncepcje to\n",
    "\n",
    " - [dziedziczenie](https://en.wikipedia.org/wiki/Inheritance_(object-oriented_programming)),\n",
    " - [kompozycja](https://en.wikipedia.org/wiki/Object_composition),\n",
    " - [abstrakcja](https://en.wikipedia.org/wiki/Abstraction_(computer_science)),\n",
    " - [hermetyzacja](https://en.wikipedia.org/wiki/Encapsulation_(computer_programming)),\n",
    " - [polimorfizm](https://en.wikipedia.org/wiki/Polymorphism_(computer_science))."
   ]
  },
  {
   "cell_type": "markdown",
   "metadata": {},
   "source": [
    "### Dziedziczenie"
   ]
  },
  {
   "cell_type": "markdown",
   "metadata": {},
   "source": [
    "Jeżeli pewna klasa posiada funkcjonalność, która jest nam potrzebna, ale chcielibyśmy jeszcze dodać coś od siebie, możemy rozszerzyć klasę tworząc nową, która dziedziczy funkcjonalności klasy bazowej."
   ]
  },
  {
   "cell_type": "code",
   "execution_count": null,
   "metadata": {},
   "outputs": [
    {
     "name": "stdout",
     "output_type": "stream",
     "text": [
      "Creature : Nom, nom, nom. Tasty other animal\n",
      "Tweety : Nom, nom, nom. Tasty grain\n",
      "Tweety : I can fly\n"
     ]
    }
   ],
   "source": [
    "class Animal:\n",
    "    def __init__(self, name) -> None:\n",
    "        self.name = name\n",
    "\n",
    "    def eat(self, food):\n",
    "        print(self.name, \": Nom, nom, nom. Tasty\", food)\n",
    "\n",
    "class Bird(Animal):\n",
    "    def fly(self):\n",
    "        print(self.name, \": I can fly\")\n",
    "\n",
    "animal = Animal(\"Creature\")\n",
    "animal.eat(\"other animal\")\n",
    "\n",
    "bird = Bird(\"Tweety\")\n",
    "bird.eat(\"grain\")\n",
    "bird.fly()"
   ]
  },
  {
   "cell_type": "markdown",
   "metadata": {},
   "source": [
    "Możemy sprawdzić pochodzenie naszej klasy za pomocą funkcji [getmro](https://docs.python.org/3/library/inspect.html#inspect.getmro) z pakietu `inspect`."
   ]
  },
  {
   "cell_type": "code",
   "execution_count": null,
   "metadata": {},
   "outputs": [
    {
     "name": "stdout",
     "output_type": "stream",
     "text": [
      "(<class '__main__.Bird'>, <class '__main__.Animal'>, <class 'object'>)\n",
      "(<class 'function'>, <class 'object'>)\n",
      "(<class 'AttributeError'>, <class 'Exception'>, <class 'BaseException'>, <class 'object'>)\n",
      "(<class 'float'>, <class 'object'>)\n"
     ]
    }
   ],
   "source": [
    "from inspect import getmro\n",
    "\n",
    "print(getmro(type(bird)))\n",
    "print(getmro(type(getmro)))\n",
    "print(getmro(AttributeError))\n",
    "print(getmro(type(5.0)))"
   ]
  },
  {
   "cell_type": "markdown",
   "metadata": {},
   "source": [
    "Możemy też dziedziczyć po wielu klasach przejmując atrybuty każdej z nich."
   ]
  },
  {
   "cell_type": "code",
   "execution_count": null,
   "metadata": {},
   "outputs": [
    {
     "name": "stdout",
     "output_type": "stream",
     "text": [
      "I am an animal\n",
      "I am an oviparous\n",
      "I am a mammal\n",
      "I am a platypus\n",
      "Perry : plop\n",
      "Perry : blurp\n",
      "Perry : Nom, nom, nom. Tasty algae\n",
      "Perry : phew\n",
      "(<class '__main__.Platypus'>, <class '__main__.Mammal'>, <class '__main__.Oviparous'>, <class '__main__.Animal'>, <class 'object'>)\n"
     ]
    }
   ],
   "source": [
    "class Animal:\n",
    "    def __init__(self, name) -> None:\n",
    "        self.name = name\n",
    "        print(\"I am an animal\")\n",
    "\n",
    "    def eat(self, food):\n",
    "        print(self.name, \": Nom, nom, nom. Tasty\", food)\n",
    "\n",
    "class Oviparous(Animal):\n",
    "    def __init__(self, name) -> None:\n",
    "        super().__init__(name)\n",
    "        print(\"I am an oviparous\")\n",
    "\n",
    "    def bearEgg(self):\n",
    "        print(self.name, \": plop\")\n",
    "\n",
    "    def breath(self):\n",
    "        print(self.name, \": wheez\")\n",
    "\n",
    "class Mammal(Animal):\n",
    "    def __init__(self, name) -> None:\n",
    "        super().__init__(name)\n",
    "        print(\"I am a mammal\")\n",
    "\n",
    "    def giveMilk(self):\n",
    "        print(self.name, \": blurp\")\n",
    "\n",
    "    def breath(self):\n",
    "        print(self.name, \": phew\")\n",
    "\n",
    "class Platypus(Mammal, Oviparous):\n",
    "    def __init__(self, name) -> None:\n",
    "        super().__init__(name)\n",
    "        print(\"I am a platypus\")\n",
    "\n",
    "    def sting(self):\n",
    "        print(self.name, \": sting\")\n",
    "\n",
    "perry = Platypus(\"Perry\")\n",
    "\n",
    "perry.bearEgg()\n",
    "perry.giveMilk()\n",
    "perry.eat(\"algae\")\n",
    "perry.breath()\n",
    "\n",
    "print(getmro(Platypus))"
   ]
  },
  {
   "cell_type": "markdown",
   "metadata": {},
   "source": [
    "Zauważmy, że powyższa klasa rozwiązuje dziedziczenie wpierw rozpatrując klasę `Mammal`. Oznacza to, że jeśli klasy `Mammal` i `Oviparous` będą miały takie samo pole, `Platypus` przejmie tylko pole od `Mammal`."
   ]
  },
  {
   "cell_type": "markdown",
   "metadata": {},
   "source": [
    "### Kompozycja"
   ]
  },
  {
   "cell_type": "markdown",
   "metadata": {},
   "source": [
    "Zamiast dziedziczyć wszystkie atrybuty możemy wkomponować jedną klasę w drugą tworząc obiekt tej pierwszej jako pole drugiej. Następnie pole to możemy wykorzystać do implementacja własnych metod."
   ]
  },
  {
   "cell_type": "code",
   "execution_count": null,
   "metadata": {},
   "outputs": [
    {
     "name": "stdout",
     "output_type": "stream",
     "text": [
      "Master: Fireball!\n",
      "Timothy: Brrr\n"
     ]
    }
   ],
   "source": [
    "class Staff:\n",
    "    def use(self):\n",
    "        pass\n",
    "\n",
    "class Mage():\n",
    "    def __init__(self, name: str, staff: Staff) -> None:\n",
    "        self.name = name\n",
    "        self.staff = staff\n",
    "\n",
    "    def castSpell(self):\n",
    "        return f'{self.name}: {self.staff.use()}'\n",
    "\n",
    "\n",
    "class FireWand(Staff):\n",
    "    def use(self) -> str:\n",
    "        return \"Fireball!\"\n",
    "\n",
    "class FrostWand(Staff):\n",
    "    def use(self) -> str:\n",
    "        return \"Brrr\"\n",
    "\n",
    "mage1 = Mage(\"Master\", FireWand())\n",
    "mage2 = Mage(\"Timothy\", FrostWand())\n",
    "\n",
    "print(mage1.castSpell())\n",
    "print(mage2.castSpell())"
   ]
  },
  {
   "cell_type": "code",
   "execution_count": null,
   "metadata": {},
   "outputs": [
    {
     "name": "stdout",
     "output_type": "stream",
     "text": [
      "I am Master Fireball!\n",
      "I am Timothy Brrr\n"
     ]
    }
   ],
   "source": [
    "from __future__ import annotations\n",
    "\n",
    "class Hero():\n",
    "    def __init__(self, name: str) -> None:\n",
    "        self.name = name\n",
    "\n",
    "    def introduce(self) -> str:\n",
    "        return f\"I am {self.name}\"\n",
    "\n",
    "class Mage(Hero):\n",
    "    def __init__(self, name: str, staff: Staff) -> None:\n",
    "        super().__init__(name)\n",
    "        self.staff = staff\n",
    "\n",
    "    def equipStaff(self, staff: Staff):\n",
    "        self.staff = staff\n",
    "\n",
    "    def castSpell(self):\n",
    "        if self.staff:\n",
    "            return self.staff.use()\n",
    "        else:\n",
    "            return None\n",
    "\n",
    "class Staff:\n",
    "    def use(self):\n",
    "        pass\n",
    "\n",
    "    def setOwner(self, mage: Mage) -> None:\n",
    "        self.mage = mage\n",
    "\n",
    "class FireWand(Staff):\n",
    "    def use(self) -> str:\n",
    "        return \"Fireball!\"\n",
    "\n",
    "class FrostWand(Staff):\n",
    "    def use(self) -> str:\n",
    "        return \"Brrr\"\n",
    "\n",
    "mage1 = Mage(\"Master\", FireWand())\n",
    "mage2 = Mage(\"Timothy\", FrostWand())\n",
    "\n",
    "print(mage1.introduce(), mage1.castSpell())\n",
    "print(mage2.introduce(), mage2.castSpell())"
   ]
  },
  {
   "cell_type": "markdown",
   "metadata": {},
   "source": [
    "Zarówno Tymek jak i Mistrz potrafią czarować, potrzebują jednak do tego różdżek. Czarodziej nie musi wiedzieć, jak zostaje wykonany czar, potrzebuje tylko wiedzieć, jak korzystać z różdżki. W ten sposób rozdzielamy implementację obu klas i obiekt wkomponowany może być w dowolnym momencie zmieniony na nową implementację nie zmieniając implementacji klasy komponującej."
   ]
  },
  {
   "cell_type": "markdown",
   "metadata": {},
   "source": [
    "### Abstrakcja"
   ]
  },
  {
   "cell_type": "markdown",
   "metadata": {},
   "source": [
    "Czasami chcemy stworzyć wzór klasy bez implementowania poszczególnych jej elementów. Przkładowo, chcę stworzyć klasę `Collection`, która pozwoli użytkownikowi na dostęp do elementów, ale pozwoli również zaimplementować różne kontenery przechowujące elementy.\n",
    "\n",
    "Nie jest to podstawowy koncept w Pythonie ze względu na brak [silnej typizacji](https://en.wikipedia.org/wiki/Strong_and_weak_typing), stąd musimy wykorzystać do tego pakiet `abc`."
   ]
  },
  {
   "cell_type": "markdown",
   "metadata": {},
   "source": [
    "###### Python nie posiada silnej typizacji stąd koncept abstrakcji jest czystym formalizmem. W językach z silną typizacją zawsze musimy podać, jakiego typu dane przyjmuje funkcja. Jeżeli nie chcemy podawać gotowej implementacji od razu przy tworzeniu funkcji, możemy stworzyć klasę-wydmuszkę, która będzie tylko szablonem pod klasy obiektów przekazywanych do owej funkcji."
   ]
  },
  {
   "cell_type": "code",
   "execution_count": null,
   "metadata": {},
   "outputs": [
    {
     "name": "stdout",
     "output_type": "stream",
     "text": [
      "None\n",
      "1\n",
      "2\n",
      "4\n",
      "1\n",
      "2\n",
      "4\n",
      "1\n",
      "2\n",
      "4\n",
      "1\n"
     ]
    }
   ],
   "source": [
    "class Collection:\n",
    "    def __init__(self, elements) -> None:\n",
    "        pass\n",
    "\n",
    "    def getNext(self):\n",
    "        pass\n",
    "\n",
    "def iterate(collection: Collection, n: int, f):\n",
    "    for i in range(n):\n",
    "        f(collection.getNext())\n",
    "\n",
    "c = Collection([1, 2, 4])\n",
    "print(c.getNext())\n",
    "\n",
    "class SingleElementCollection(Collection):\n",
    "    def __init__(self, elements) -> None:\n",
    "        super().__init__(elements)\n",
    "        self.element = elements\n",
    "\n",
    "    def getNext(self):\n",
    "        return self.element\n",
    "\n",
    "c = SingleElementCollection([1, 2, 4])\n",
    "\n",
    "class LoopCollection(Collection):\n",
    "    def __init__(self, elements) -> None:\n",
    "        super().__init__(elements)\n",
    "        self.elemnts = elements\n",
    "        self.index = 0\n",
    "\n",
    "    def getNext(self):\n",
    "        element = self.elemnts[self.index]\n",
    "        self.index = (self.index + 1) % len(self.elemnts)\n",
    "        return element\n",
    "\n",
    "c = LoopCollection([1, 2, 4])\n",
    "\n",
    "iterate(c, 10, print)"
   ]
  },
  {
   "cell_type": "markdown",
   "metadata": {},
   "source": [
    "W powyższym kodzie klasa `Collection` jest w pełni poprawną klasą i można stworzyć jej obiekt. Klasa abstrakcyjna nie powinna dawać możliwości stworzenia swojej instancji. Jest to wyłącznie wydmuszka, która służy jako wzorzec do stworzenia poprawnej implementacji.\n",
    "\n",
    "Żeby poinformować, że klasa ta jest wyłącznie wydmuszką stosujemy pakiet [abc](https://docs.python.org/3/library/abc.html). W kodzie poniżej klasa `Collection` dziedziczy po klasie `ABC` i posiada pola z dekoratorem [@abstractmethod](https://docs.python.org/3/library/abc.html#abc.abstractmethod). Z tego powodu nie można stworzyć instancji tej klasy a jedynie instancje klas dziedziczących, które implementują te pola."
   ]
  },
  {
   "cell_type": "code",
   "execution_count": null,
   "metadata": {},
   "outputs": [
    {
     "name": "stdout",
     "output_type": "stream",
     "text": [
      "1\n",
      "1\n",
      "1\n",
      "1\n",
      "1\n",
      "1\n",
      "1\n",
      "1\n",
      "1\n",
      "1\n"
     ]
    }
   ],
   "source": [
    "from abc import ABC, abstractmethod\n",
    "\n",
    "class Collection(ABC):\n",
    "    @abstractmethod\n",
    "    def __init__(self, elements) -> None:\n",
    "        pass\n",
    "\n",
    "    @abstractmethod\n",
    "    def getNext(self):\n",
    "        pass\n",
    "\n",
    "class SingleElement(Collection):\n",
    "    def __init__(self, elements) -> None:\n",
    "        self.element = elements\n",
    "\n",
    "    def getNext(self):\n",
    "        return self.element\n",
    "\n",
    "class LoopCollection(Collection):\n",
    "    def __init__(self, elements) -> None:\n",
    "        self.elements = elements\n",
    "        self.i = 0\n",
    "\n",
    "    def getNext(self):\n",
    "        element = self.elements[self.i]\n",
    "        self.i %= len(self.elements)\n",
    "        return element\n",
    "\n",
    "c = LoopCollection([1, 2, 4])\n",
    "\n",
    "def iterate(collection: Collection, n: int, f):\n",
    "    for i in range(n):\n",
    "        f(collection.getNext())\n",
    "\n",
    "iterate(c, 10, print)"
   ]
  },
  {
   "cell_type": "code",
   "execution_count": null,
   "metadata": {},
   "outputs": [
    {
     "name": "stdout",
     "output_type": "stream",
     "text": [
      "Robyn: tweet tweet\n",
      "Gnilkcud: hsssss\n"
     ]
    }
   ],
   "source": [
    "from abc import ABC, abstractmethod\n",
    "\n",
    "class Animal(ABC):\n",
    "    @abstractmethod\n",
    "    def __init__(self, name: str) -> None:\n",
    "        pass\n",
    "\n",
    "class Bird(Animal, ABC):\n",
    "    @abstractmethod\n",
    "    def tweet(self):\n",
    "        pass\n",
    "\n",
    "class Robin(Bird):\n",
    "    def __init__(self, name: str) -> None:\n",
    "        self.name = name\n",
    "\n",
    "    def tweet(self):\n",
    "        return f\"{self.name}: tweet tweet\"\n",
    "\n",
    "class Swan(Bird):\n",
    "    def __init__(self, name: str) -> None:\n",
    "        self.name = name[::-1]\n",
    "\n",
    "    def tweet(self):\n",
    "        return f\"{self.name}: hsssss\"\n",
    "\n",
    "def feed(bird: Bird):\n",
    "    print(bird.tweet())\n",
    "\n",
    "robin = Robin(\"Robyn\")\n",
    "swan = Swan(\"ducklinG\")\n",
    "feed(robin)\n",
    "feed(swan)"
   ]
  },
  {
   "cell_type": "markdown",
   "metadata": {},
   "source": [
    "### Hermetyzacja"
   ]
  },
  {
   "cell_type": "markdown",
   "metadata": {},
   "source": [
    "Niektóre pola nie powinny być dostępne z zewnątrz. Jeżeli nasza klasa wykonuje jakąś operację na własnych parametrach możemy chcieć chronić te parametry przed zmianą z zewnątrz lub przez klasy dziedziczące."
   ]
  },
  {
   "cell_type": "markdown",
   "metadata": {},
   "source": [
    "Pola [prywatne](https://en.wikipedia.org/wiki/Access_modifiers) są dostępne tylko dla klasy zawierającej owe pole. Klasy dziedziczące nie mają do tego pola dostępu. Podejście takie nazywamy hermetyzacją. Python nie posiada mechanizmu hermetyzacji i pola są zawsze dostępne. Jeżeli chcemy zaznaczyć, że pole jest zamierzone jako chronione zaczynamy jego nazwę od podkreślnika (`_`), jeżeli zaś chcemy, żeby było traktowane jako prywatne zaczynamy jego nazwę od podwójnego podkreślnika (`__`)."
   ]
  },
  {
   "cell_type": "code",
   "execution_count": null,
   "metadata": {},
   "outputs": [
    {
     "data": {
      "text/plain": [
       "0"
      ]
     },
     "execution_count": 29,
     "metadata": {},
     "output_type": "execute_result"
    }
   ],
   "source": [
    "class ProtectedDummy:\n",
    "    def __init__(self) -> None:\n",
    "        self._counter = 0\n",
    "\n",
    "    def add(self):\n",
    "        self._counter += 1\n",
    "\n",
    "    def getCounter(self):\n",
    "        return self._counter\n",
    "\n",
    "class ProtectedChild(ProtectedDummy):\n",
    "    def add(self):\n",
    "        self._counter += 3\n",
    "\n",
    "dummy = ProtectedDummy()\n",
    "dummy.add()\n",
    "dummy.add()\n",
    "dummy.add()\n",
    "dummy._counter = -3\n",
    "dummy.add()\n",
    "dummy.add()\n",
    "dummy.add()\n",
    "dummy.getCounter()"
   ]
  },
  {
   "cell_type": "code",
   "execution_count": null,
   "metadata": {},
   "outputs": [
    {
     "name": "stdout",
     "output_type": "stream",
     "text": [
      "6\n",
      "-3\n"
     ]
    }
   ],
   "source": [
    "class PrivateDummy:\n",
    "    def __init__(self) -> None:\n",
    "        self.__counter = 0\n",
    "\n",
    "    def add(self):\n",
    "        self.__counter += 1\n",
    "\n",
    "    def counter(self):\n",
    "        return self.__counter\n",
    "\n",
    "dummy = PrivateDummy()\n",
    "dir(dummy)\n",
    "\n",
    "dummy.add()\n",
    "dummy.add()\n",
    "dummy.add()\n",
    "dummy.__counter = -3\n",
    "dummy.add()\n",
    "dummy.add()\n",
    "dummy.add()\n",
    "print(dummy.counter())\n",
    "print(dummy.__counter)"
   ]
  },
  {
   "cell_type": "markdown",
   "metadata": {},
   "source": [
    "Pola prywatne wciąż są osiągalne z zewnątrz jako pola o nazwie `_<CLASS_NAME><FIELD_NAME>`."
   ]
  },
  {
   "cell_type": "code",
   "execution_count": null,
   "metadata": {},
   "outputs": [
    {
     "name": "stdout",
     "output_type": "stream",
     "text": [
      "0\n",
      "\u001b[38;5;26mTraceback (most recent call last):\u001b[39m\n",
      "  File \u001b[38;5;28m\"C:\\Users\\micha\\AppData\\Local\\Temp/ipykernel_12088/3686090039.py\"\u001b[39m, line \u001b[38;5;241m8\u001b[39m, in captureErrors\n",
      "    exec(cell)\n",
      "  File \u001b[38;5;28m\"<string>\"\u001b[39m, line \u001b[38;5;241m23\u001b[39m, in <module>\n",
      "\u001b[38;5;9mAttributeError\u001b[39m: 'PrivateDummy' object has no attribute '__private'\n",
      "\n"
     ]
    }
   ],
   "source": [
    "%%captureErrors\n",
    "\n",
    "class PrivateDummy:\n",
    "    def __init__(self) -> None:\n",
    "        self.__private = 0\n",
    "\n",
    "    def add(self):\n",
    "        self.__private += 1\n",
    "\n",
    "    def counter(self):\n",
    "        return self.__private\n",
    "\n",
    "dummy = PrivateDummy()\n",
    "dir(dummy)\n",
    "\n",
    "dummy.add()\n",
    "dummy.add()\n",
    "dummy.add()\n",
    "dummy._PrivateDummy__private = -3\n",
    "dummy.add()\n",
    "dummy.add()\n",
    "dummy.add()\n",
    "print(dummy.counter())\n",
    "print(dummy.__private)"
   ]
  },
  {
   "cell_type": "markdown",
   "metadata": {},
   "source": [
    "### Polimorfizm"
   ]
  },
  {
   "cell_type": "markdown",
   "metadata": {},
   "source": [
    "Python nie implementuje pełnego polimorfizmu. W językach silnie typowanych możemy zdefiniować dwie funkcje o tej samej nazwie, przyjmujące jednak parametry różnego typu."
   ]
  },
  {
   "cell_type": "code",
   "execution_count": null,
   "metadata": {},
   "outputs": [
    {
     "name": "stdout",
     "output_type": "stream",
     "text": [
      "This is a string\n",
      "This is a string\n"
     ]
    }
   ],
   "source": [
    "def f(a: int):\n",
    "    print(\"This is an integer\")\n",
    "\n",
    "def f(b: str):\n",
    "    print(\"This is a string\")\n",
    "\n",
    "f(1)\n",
    "f(\"somedummytext\")"
   ]
  },
  {
   "cell_type": "markdown",
   "metadata": {},
   "source": [
    "Python nie daje takiej możliwości i zostanie wywołana wyłącznie funkcja ostatnio zdefiniowana. Nie istnieje w nim również możliwość tworzenia funkcji o tej samej nazwie ale innej liczbie parametrów."
   ]
  },
  {
   "cell_type": "code",
   "execution_count": null,
   "metadata": {},
   "outputs": [
    {
     "name": "stdout",
     "output_type": "stream",
     "text": [
      "I have got two values\n",
      "\u001b[38;5;26mTraceback (most recent call last):\u001b[39m\n",
      "  File \u001b[38;5;28m\"C:\\Users\\micha\\AppData\\Local\\Temp/ipykernel_12088/3686090039.py\"\u001b[39m, line \u001b[38;5;241m8\u001b[39m, in captureErrors\n",
      "    exec(cell)\n",
      "  File \u001b[38;5;28m\"<string>\"\u001b[39m, line \u001b[38;5;241m8\u001b[39m, in <module>\n",
      "\u001b[38;5;9mTypeError\u001b[39m: f() missing 1 required positional argument: 'b'\n",
      "\n"
     ]
    }
   ],
   "source": [
    "%%captureErrors\n",
    "def f(a):\n",
    "    print(\"I have got a single value\")\n",
    "\n",
    "def f(a, b):\n",
    "    print(\"I have got two values\")\n",
    "\n",
    "f(1, 2)\n",
    "f(3)"
   ]
  },
  {
   "cell_type": "markdown",
   "metadata": {},
   "source": [
    "Jedyne postacie polimorfizmu w Pythonie to funkcje wywołujące te same operacje na obiektach różnych typów, tak zwany [duck typing](https://en.wikipedia.org/wiki/Duck_typing)."
   ]
  },
  {
   "cell_type": "code",
   "execution_count": null,
   "metadata": {},
   "outputs": [],
   "source": [
    "class Duck:\n",
    "    def swim(self):\n",
    "        print(\"Duck swimming\")\n",
    "\n",
    "    def fly(self):\n",
    "        print(\"Duck flying\")\n",
    "\n",
    "class Whale:\n",
    "    def swim(self):\n",
    "        print(\"Whale swimming\")"
   ]
  },
  {
   "cell_type": "code",
   "execution_count": null,
   "metadata": {},
   "outputs": [
    {
     "name": "stdout",
     "output_type": "stream",
     "text": [
      "Duck swimming\n",
      "Duck flying\n",
      "Whale swimming\n",
      "\u001b[38;5;26mTraceback (most recent call last):\u001b[39m\n",
      "  File \u001b[38;5;28m\"C:\\Users\\micha\\AppData\\Local\\Temp/ipykernel_12088/3686090039.py\"\u001b[39m, line \u001b[38;5;241m8\u001b[39m, in captureErrors\n",
      "    exec(cell)\n",
      "  File \u001b[38;5;28m\"<string>\"\u001b[39m, line \u001b[38;5;241m4\u001b[39m, in <module>\n",
      "\u001b[38;5;9mAttributeError\u001b[39m: 'Whale' object has no attribute 'fly'\n",
      "\n"
     ]
    }
   ],
   "source": [
    "%%captureErrors\n",
    "\n",
    "for animal in [Duck(), Whale()]:\n",
    "    animal.swim()\n",
    "    animal.fly()"
   ]
  },
  {
   "attachments": {},
   "cell_type": "markdown",
   "metadata": {},
   "source": [
    "### [dataclass](https://docs.python.org/3/library/dataclasses.html)"
   ]
  },
  {
   "cell_type": "markdown",
   "metadata": {},
   "source": [
    "Aby nie pisać za każdym razem konstruktora (`__init__`), reprezentacji tekstowej (`__repr__`) oraz funkcjonalności porównania (`__eq__`) możemy użyć dekoratora `@dataclass`. Zapisujemy pola takiej klasy pisząc ich nazwy z typami po dwukropku.\n",
    "\n",
    "Co typowe dla Pythona, zadane typy są wyłącznie informacyjne i nic nie stoi na przeszkodzie użyca innych typów."
   ]
  },
  {
   "cell_type": "code",
   "execution_count": null,
   "metadata": {},
   "outputs": [
    {
     "name": "stdout",
     "output_type": "stream",
     "text": [
      "Dummy(a=1, b='some dummy string', c=[1, 2, 3])\n",
      "True\n",
      "1 some dummy string [1, 2, 3]\n"
     ]
    }
   ],
   "source": [
    "from dataclasses import dataclass\n",
    "\n",
    "@dataclass\n",
    "class Dummy:\n",
    "    a: int\n",
    "    b: str\n",
    "    c: list\n",
    "\n",
    "dummy = Dummy(1, \"some dummy string\", [1, 2, 3])\n",
    "dummy2 = Dummy(1, \"some dummy string\", [1, 2, 3])\n",
    "print(dummy)\n",
    "print(dummy == dummy2)\n",
    "print(dummy.a, dummy.b, dummy.c)"
   ]
  },
  {
   "cell_type": "markdown",
   "metadata": {},
   "source": [
    "Dektorator `@dataclass` udostępnia również możliwość tworzenie innej funkcjonalności:"
   ]
  },
  {
   "cell_type": "markdown",
   "metadata": {},
   "source": [
    " * operatory porównania (`<`, `>`, `<=` i `>=`)"
   ]
  },
  {
   "cell_type": "code",
   "execution_count": null,
   "metadata": {},
   "outputs": [
    {
     "data": {
      "text/plain": [
       "True"
      ]
     },
     "execution_count": 37,
     "metadata": {},
     "output_type": "execute_result"
    }
   ],
   "source": [
    "@dataclass(order=True)\n",
    "class Pair:\n",
    "    a: int\n",
    "    b: float\n",
    "\n",
    "Pair(1, 2.0) < Pair(2, 1.0)"
   ]
  },
  {
   "cell_type": "markdown",
   "metadata": {},
   "source": [
    " * [hashowanie](https://en.wikipedia.org/wiki/Hash_function) bez gwarancji niezmienności"
   ]
  },
  {
   "cell_type": "code",
   "execution_count": null,
   "metadata": {},
   "outputs": [
    {
     "name": "stdout",
     "output_type": "stream",
     "text": [
      "\u001b[38;5;26mTraceback (most recent call last):\u001b[39m\n",
      "  File \u001b[38;5;28m\"C:\\Users\\micha\\AppData\\Local\\Temp/ipykernel_12088/3686090039.py\"\u001b[39m, line \u001b[38;5;241m8\u001b[39m, in captureErrors\n",
      "    exec(cell)\n",
      "  File \u001b[38;5;28m\"<string>\"\u001b[39m, line \u001b[38;5;241m10\u001b[39m, in <module>\n",
      "  File \u001b[38;5;28m\"<string>\"\u001b[39m, line \u001b[38;5;241m11\u001b[39m, in Hashable\n",
      "\u001b[38;5;9mNameError\u001b[39m: name 'field' is not defined\n",
      "\n"
     ]
    }
   ],
   "source": [
    "%%captureErrors\n",
    "from dataclasses import field\n",
    "\n",
    "@dataclass\n",
    "class Nonhashable:\n",
    "    l: list\n",
    "    a: int\n",
    "    b: int\n",
    "\n",
    "@dataclass(unsafe_hash=True)\n",
    "class Hashable:\n",
    "    l: list = field(hash=False)\n",
    "    a: int\n",
    "    b: int\n",
    "\n",
    "n = Nonhashable([1, 2, 3], 1, 2)\n",
    "h = Hashable([1, 2, 3], 1, 2)\n",
    "print(hash(h))\n",
    "h.l = [2, 1, 3]\n",
    "print(hash(h))\n",
    "h.a = 2\n",
    "print(hash(h))\n",
    "{n}"
   ]
  },
  {
   "cell_type": "markdown",
   "metadata": {},
   "source": [
    " * niemutowalność pól"
   ]
  },
  {
   "cell_type": "code",
   "execution_count": null,
   "metadata": {},
   "outputs": [
    {
     "name": "stdout",
     "output_type": "stream",
     "text": [
      "FrozenClass(a=2, b=4.5)\n",
      "2 4.5\n",
      "\u001b[38;5;26mTraceback (most recent call last):\u001b[39m\n",
      "  File \u001b[38;5;28m\"C:\\Users\\micha\\AppData\\Local\\Temp/ipykernel_12088/3686090039.py\"\u001b[39m, line \u001b[38;5;241m8\u001b[39m, in captureErrors\n",
      "    exec(cell)\n",
      "  File \u001b[38;5;28m\"<string>\"\u001b[39m, line \u001b[38;5;241m10\u001b[39m, in <module>\n",
      "  File \u001b[38;5;28m\"<string>\"\u001b[39m, line \u001b[38;5;241m4\u001b[39m, in __setattr__\n",
      "\u001b[38;5;9mdataclasses.FrozenInstanceError\u001b[39m: cannot assign to field 'a'\n",
      "\n"
     ]
    }
   ],
   "source": [
    "%%captureErrors\n",
    "\n",
    "@dataclass(frozen=True)\n",
    "class FrozenClass:\n",
    "    a: int\n",
    "    b: float\n",
    "\n",
    "f = FrozenClass(2, 4.5)\n",
    "print(f)\n",
    "print(f.a, f.b)\n",
    "f.a = 4"
   ]
  },
  {
   "cell_type": "markdown",
   "metadata": {},
   "source": [
    "Dlaczego `unsafe_hash` jest odradzane w użyciu? Może to prowadzić do nieprzewidzianych zachowań przy strukturach bazujących na hashu."
   ]
  },
  {
   "cell_type": "code",
   "execution_count": null,
   "metadata": {},
   "outputs": [
    {
     "name": "stdout",
     "output_type": "stream",
     "text": [
      "{Trine(a=2, b=5, c=3), Trine(a=1, b=2, c=3)}\n",
      "{Trine(a=2, b=5, c=3), Trine(a=1, b=2, c=3)}\n",
      "True\n",
      "False\n",
      "{Trine(a=2, b=2, c=3), Trine(a=2, b=5, c=3), Trine(a=2, b=2, c=3)}\n"
     ]
    }
   ],
   "source": [
    "@dataclass(unsafe_hash=True)\n",
    "class Trine:\n",
    "    a: int\n",
    "    b: int\n",
    "    c: int\n",
    "\n",
    "t1 = Trine(1, 2, 3)\n",
    "t2 = Trine(2, 5, 3)\n",
    "\n",
    "s = {t1, t2}\n",
    "print(s)\n",
    "s.add(t1)\n",
    "print(s)\n",
    "print(t1 in s)\n",
    "t1.a = 2\n",
    "print(t1 in s)\n",
    "s.add(t1)\n",
    "print(s)"
   ]
  },
  {
   "cell_type": "markdown",
   "metadata": {},
   "source": [
    "### Kopia płytka a głęboka"
   ]
  },
  {
   "cell_type": "markdown",
   "metadata": {},
   "source": [
    "Kopię listy możemy wykonać za pomocą konstruktora `list`, który tworzy nową listę na podstawie zadanych elementów. Kopia taka nie kopiuje jednak elementów w liście a tworzy referencje do dokładnie tych samych obiektów. Tego typu kopię nazywamy kopią płytką."
   ]
  },
  {
   "cell_type": "code",
   "execution_count": null,
   "metadata": {},
   "outputs": [
    {
     "name": "stdout",
     "output_type": "stream",
     "text": [
      "[Container(field=2), Container(field=2), Container(field=3), Container(field=2)]\n",
      "[Container(field=3), Container(field=2), Container(field=3), Container(field=3)]\n",
      "[Container(field=3), Container(field=2), Container(field=3)]\n"
     ]
    }
   ],
   "source": [
    "@dataclass\n",
    "class Container:\n",
    "    field: int\n",
    "\n",
    "l1 = [Container(1), Container(2), Container(3)]\n",
    "l2 = list(l1)\n",
    "l2[0].field = 2\n",
    "l2.append(l2[0])\n",
    "print(l2)\n",
    "l2[3].field = 3\n",
    "print(l2)\n",
    "print(l1)"
   ]
  },
  {
   "cell_type": "markdown",
   "metadata": {},
   "source": [
    "W opozycji do płytkiej kopii, kopia głęboka kopiuje rekurencyjnie również obiekty wewnątrz. Do tej operacji wykorzystujemy [deepcopy](https://docs.python.org/3/library/copy.html#copy.deepcopy) z biblioteki [copy](https://docs.python.org/3/library/copy.html)."
   ]
  },
  {
   "cell_type": "code",
   "execution_count": null,
   "metadata": {},
   "outputs": [
    {
     "name": "stdout",
     "output_type": "stream",
     "text": [
      "[Container(field=1), Container(field=2), Container(field=3)]\n",
      "Container(field=Container(field=2)) Container(field=Container(field=1))\n"
     ]
    }
   ],
   "source": [
    "from copy import deepcopy\n",
    "from typing import Any\n",
    "\n",
    "@dataclass\n",
    "class Container:\n",
    "    field: Any\n",
    "\n",
    "l1 = [Container(1), Container(2), Container(3)]\n",
    "l2 = deepcopy(l1)\n",
    "l2[0].field = 2\n",
    "print(l1)\n",
    "\n",
    "c1 = Container(2)\n",
    "c2 = Container(c1)\n",
    "c3 = deepcopy(c2)\n",
    "c3.field.field = 1\n",
    "print(c2, c3)"
   ]
  },
  {
   "cell_type": "markdown",
   "metadata": {},
   "source": [
    "Operacja `deepcopy` zapamiętuje już skopiowane pola, dzięki czemu nie tworzy na jednego elementu wielokrotnie jeżeli odniesienia do niego występują w wielu miejscach."
   ]
  },
  {
   "cell_type": "code",
   "execution_count": null,
   "metadata": {},
   "outputs": [
    {
     "data": {
      "text/plain": [
       "Container(field=3)"
      ]
     },
     "execution_count": 43,
     "metadata": {},
     "output_type": "execute_result"
    }
   ],
   "source": [
    "c1 = Container(2)\n",
    "c2 = Container(c1)\n",
    "c1.field = c2\n",
    "\n",
    "c3 = deepcopy(c1)\n",
    "c3.field.field.field = 3\n",
    "c3"
   ]
  },
  {
   "cell_type": "code",
   "execution_count": null,
   "metadata": {},
   "outputs": [
    {
     "name": "stdout",
     "output_type": "stream",
     "text": [
      "Container(field=[Container(field=3), Container(field=3), Container(field=3)])\n"
     ]
    }
   ],
   "source": [
    "c1 = Container(2)\n",
    "c2 = Container([c1, c1, c1])\n",
    "c3 = deepcopy(c2)\n",
    "c3.field[0].field = 3\n",
    "print(c3)"
   ]
  },
  {
   "cell_type": "markdown",
   "metadata": {},
   "source": [
    "## Serializacja"
   ]
  },
  {
   "cell_type": "markdown",
   "metadata": {},
   "source": [
    "### Problem:\n",
    "\n",
    "Dane, które przetwarzamy w programie mogą być potrzebne przy ponownym uruchomieniu programu lub do działania innych programów. W jaki sposób możemy zapisać te dane na dysku? W jaki sposób możemy je odczytać? W jaki sposób przygotować je do transferu pomiędzy maszynami?"
   ]
  },
  {
   "cell_type": "markdown",
   "metadata": {},
   "source": [
    "[Serializacją](https://en.wikipedia.org/wiki/Serialization) nazywamy proces zapisu i odczytu danych do postaci możliwej do przechowywania na dysku. Rozróżniamy dwa rodzaje formatu danych:\n",
    " - [binarny](https://en.wikipedia.org/wiki/Binary_file) - dane przechowywane są w kompaktowej formie analogicznej do formatu w pamięci podręcznej. Format mało czytelny dla człowieka i trudny do odtworzenia, jeżeli nie posiadamy informacji o kodowaniu.\n",
    " - [tekstowy](https://en.wikipedia.org/wiki/Text_file) - dane zapisane są w postaci czytelnego tekstu. Format ten zajmuje o wiele więcej miejsca, jest jednak prosty do odczytania i nie wymaga żadnych informacji o formatowaniu."
   ]
  },
  {
   "cell_type": "markdown",
   "metadata": {},
   "source": [
    "Prostym przykładem serializacji jest zapis wbudowaną funkcjonalnością `write`. Operacja ta przyjmuje wyłącznie tekst, dane w ten sposób zapisane są zawsze danymi tekstowymi. Oznacza to, że dane nietekstowe są trudne w odczycie z takiego formatu."
   ]
  },
  {
   "cell_type": "code",
   "execution_count": null,
   "metadata": {},
   "outputs": [
    {
     "data": {
      "text/plain": [
       "['[', '1', ',', ' ', '2', ',', ' ', '3', ']']"
      ]
     },
     "execution_count": 45,
     "metadata": {},
     "output_type": "execute_result"
    }
   ],
   "source": [
    "import os\n",
    "\n",
    "data = [1, 2, 3]\n",
    "\n",
    "dummy_file_name = \"dummy.txt\"\n",
    "\n",
    "with open(dummy_file_name, \"w\") as writer:\n",
    "    writer.write(str(data))\n",
    "\n",
    "with open(dummy_file_name, \"r\") as reader:\n",
    "    l = reader.read()\n",
    "\n",
    "if os.path.exists(dummy_file_name):\n",
    "    os.remove(dummy_file_name)\n",
    "\n",
    "list(l)"
   ]
  },
  {
   "cell_type": "markdown",
   "metadata": {},
   "source": [
    "Serializacja do pliku binarnego w Pythonie odbywa się z pomocą modułów [marshal](https://en.wikipedia.org/wiki/Text_file) (wykorzystywany do operowania na pseudo-skompilowanym kodzie Pythona, niezalecane do innych zastosowań), [pickle](https://docs.python.org/3/library/pickle.html#module-pickle) czy [shelve](https://docs.python.org/3/library/shelve.html#module-shelve).\n",
    "\n",
    "###### Moduły te nie wykonują samodzielnie operacji zapisu i odczytu a wykorzystują zadane im obiekty buforowe. Pozwala to, na przykład, na czytanie i zapisywanie danych na serwer lub korzystanie z wejścia/wyjścia do konsoli użytkownika lub innych narzędzi."
   ]
  },
  {
   "cell_type": "code",
   "execution_count": null,
   "metadata": {},
   "outputs": [
    {
     "data": {
      "text/plain": [
       "1"
      ]
     },
     "execution_count": 46,
     "metadata": {},
     "output_type": "execute_result"
    }
   ],
   "source": [
    "import pickle\n",
    "\n",
    "data = list(range(100000))\n",
    "\n",
    "dummy_file_name = \"dummy.txt\"\n",
    "\n",
    "with open(dummy_file_name, \"wb\") as writer:\n",
    "    pickle.dump(data, writer)\n",
    "\n",
    "with open(dummy_file_name, \"rb\") as reader:\n",
    "    l = pickle.load(reader)\n",
    "\n",
    "if os.path.exists(dummy_file_name):\n",
    "    os.remove(dummy_file_name)\n",
    "\n",
    "l[1]"
   ]
  },
  {
   "cell_type": "markdown",
   "metadata": {},
   "source": [
    "Serializacja tekstowa może odbywać się na wiele sposobów. Jednym z częstszych jest wykorzystanie tak zwanej JavaScript Object Notation lub [JSON](https://en.wikipedia.org/wiki/JSON). W Pythonie wykorzystujemy do tego moduł [json](https://docs.python.org/3/library/json.html)."
   ]
  },
  {
   "cell_type": "code",
   "execution_count": null,
   "metadata": {},
   "outputs": [
    {
     "data": {
      "text/plain": [
       "15"
      ]
     },
     "execution_count": 47,
     "metadata": {},
     "output_type": "execute_result"
    }
   ],
   "source": [
    "import json\n",
    "\n",
    "dummy_file_name = \"dummy.json\"\n",
    "\n",
    "data = {\n",
    "    \"capitals\":\n",
    "    {\n",
    "        \"Poland\": \"Warsaw\",\n",
    "        \"Sri Lanka\": \"Sri Jayawardenepura Kotte\",\n",
    "        \"Czechia\": \"Prague\"\n",
    "    },\n",
    "    \"numbers\": [1, 2, 3, 4],\n",
    "    \"number\": 15,\n",
    "    15: \"number\",\n",
    "}\n",
    "\n",
    "with open(dummy_file_name, \"w\") as writer:\n",
    "    json.dump(data, writer)\n",
    "\n",
    "with open(dummy_file_name, \"r\") as reader:\n",
    "    l = json.load(reader)\n",
    "\n",
    "if os.path.exists(dummy_file_name):\n",
    "    os.remove(dummy_file_name)\n",
    "\n",
    "l[\"number\"]"
   ]
  },
  {
   "cell_type": "markdown",
   "metadata": {},
   "source": [
    "###### Podobnym w strukturze formatej jest [XML](https://en.wikipedia.org/wiki/XML), do którego wykorzystujemy pakiet [xml.etree.ElementTree](https://docs.python.org/3/library/xml.etree.elementtree.html)."
   ]
  },
  {
   "attachments": {},
   "cell_type": "markdown",
   "metadata": {},
   "source": [
    "Formaty `JSON` i `XML` zapisują dane w formacie drzewiastym jako słowniki zagnieżdżone, to jest, są słownikami zawierającymi wartości, które są tekstem, listą lub słownikiem. Inną formą zapisu danych jest zapis w postaci tablicy dwuwymiarowej. Taką formę uzyskujemy na przykład formatem [csv](https://en.wikipedia.org/wiki/Comma-separated_values). Serializujemy dane w tym formacie z pomocą modułu [csv](https://docs.python.org/3/library/csv.html)."
   ]
  },
  {
   "cell_type": "code",
   "execution_count": null,
   "metadata": {},
   "outputs": [
    {
     "data": {
      "text/plain": [
       "[['pracownik', 'pensja'],\n",
       " ['Jan Kowalski', '2500'],\n",
       " ['Joanna Dolegiewicz', '7500'],\n",
       " ['Katarzyna Kot', '10000']]"
      ]
     },
     "execution_count": 48,
     "metadata": {},
     "output_type": "execute_result"
    }
   ],
   "source": [
    "dummy_file_name = \"pracownicy.csv\"\n",
    "\n",
    "data = [['pracownik', 'pensja'],\n",
    "    ['Jan Kowalski', '2500'],\n",
    "    ['Joanna Dolegiewicz', '7500'],\n",
    "    ['Katarzyna Kot', '10000']]\n",
    "\n",
    "import csv\n",
    "\n",
    "with open(dummy_file_name, 'w', newline='') as writer:\n",
    "    csv_writer = csv.writer(writer)\n",
    "    csv_writer.writerows(data)\n",
    "\n",
    "with open(dummy_file_name, \"r\") as reader:\n",
    "    csv_reader = csv.reader(reader)\n",
    "    l = list(csv_reader)\n",
    "\n",
    "if os.path.exists(dummy_file_name):\n",
    "    os.remove(dummy_file_name)\n",
    "\n",
    "l"
   ]
  },
  {
   "cell_type": "markdown",
   "metadata": {},
   "source": [
    "Wczytywanie z pomocą modułu `csv` tworzy tablicę tablic, która może być problematyczna w operowaniu. Pliki, z których wczytujemy mogą mieć również pewne niestandardowe nagłówki i stópki a także mieć niestandardowe rozdzielanie danych. Dla lepszego operowania na większych zbiorach danych zaleca się zewnętrzny moduł [pandas](https://pandas.pydata.org/)."
   ]
  },
  {
   "cell_type": "code",
   "execution_count": null,
   "metadata": {},
   "outputs": [
    {
     "data": {
      "text/html": [
       "<div>\n",
       "<style scoped>\n",
       "    .dataframe tbody tr th:only-of-type {\n",
       "        vertical-align: middle;\n",
       "    }\n",
       "\n",
       "    .dataframe tbody tr th {\n",
       "        vertical-align: top;\n",
       "    }\n",
       "\n",
       "    .dataframe thead th {\n",
       "        text-align: right;\n",
       "    }\n",
       "</style>\n",
       "<table border=\"1\" class=\"dataframe\">\n",
       "  <thead>\n",
       "    <tr style=\"text-align: right;\">\n",
       "      <th></th>\n",
       "      <th>0</th>\n",
       "      <th>1</th>\n",
       "      <th>2</th>\n",
       "      <th>3</th>\n",
       "    </tr>\n",
       "  </thead>\n",
       "  <tbody>\n",
       "    <tr>\n",
       "      <th>0</th>\n",
       "      <td>22.5229</td>\n",
       "      <td>-0.1666</td>\n",
       "      <td>26 Oct 2022</td>\n",
       "      <td>09:39:09</td>\n",
       "    </tr>\n",
       "    <tr>\n",
       "      <th>1</th>\n",
       "      <td>22.5217</td>\n",
       "      <td>-0.1708</td>\n",
       "      <td>26 Oct 2022</td>\n",
       "      <td>09:39:10</td>\n",
       "    </tr>\n",
       "    <tr>\n",
       "      <th>2</th>\n",
       "      <td>22.5207</td>\n",
       "      <td>-0.1685</td>\n",
       "      <td>26 Oct 2022</td>\n",
       "      <td>09:39:11</td>\n",
       "    </tr>\n",
       "    <tr>\n",
       "      <th>3</th>\n",
       "      <td>22.5196</td>\n",
       "      <td>-0.1688</td>\n",
       "      <td>26 Oct 2022</td>\n",
       "      <td>09:39:12</td>\n",
       "    </tr>\n",
       "    <tr>\n",
       "      <th>4</th>\n",
       "      <td>22.5195</td>\n",
       "      <td>-0.1714</td>\n",
       "      <td>26 Oct 2022</td>\n",
       "      <td>09:39:13</td>\n",
       "    </tr>\n",
       "    <tr>\n",
       "      <th>...</th>\n",
       "      <td>...</td>\n",
       "      <td>...</td>\n",
       "      <td>...</td>\n",
       "      <td>...</td>\n",
       "    </tr>\n",
       "    <tr>\n",
       "      <th>9464</th>\n",
       "      <td>13.3829</td>\n",
       "      <td>-0.1645</td>\n",
       "      <td>26 Oct 2022</td>\n",
       "      <td>12:16:53</td>\n",
       "    </tr>\n",
       "    <tr>\n",
       "      <th>9465</th>\n",
       "      <td>13.3952</td>\n",
       "      <td>-0.1623</td>\n",
       "      <td>26 Oct 2022</td>\n",
       "      <td>12:16:54</td>\n",
       "    </tr>\n",
       "    <tr>\n",
       "      <th>9466</th>\n",
       "      <td>13.4723</td>\n",
       "      <td>-0.1646</td>\n",
       "      <td>26 Oct 2022</td>\n",
       "      <td>12:16:55</td>\n",
       "    </tr>\n",
       "    <tr>\n",
       "      <th>9467</th>\n",
       "      <td>13.5213</td>\n",
       "      <td>-0.1628</td>\n",
       "      <td>26 Oct 2022</td>\n",
       "      <td>12:16:56</td>\n",
       "    </tr>\n",
       "    <tr>\n",
       "      <th>9468</th>\n",
       "      <td>13.5835</td>\n",
       "      <td>-0.1667</td>\n",
       "      <td>26 Oct 2022</td>\n",
       "      <td>12:16:57</td>\n",
       "    </tr>\n",
       "  </tbody>\n",
       "</table>\n",
       "<p>9469 rows × 4 columns</p>\n",
       "</div>"
      ],
      "text/plain": [
       "            0       1             2          3\n",
       "0     22.5229 -0.1666   26 Oct 2022   09:39:09\n",
       "1     22.5217 -0.1708   26 Oct 2022   09:39:10\n",
       "2     22.5207 -0.1685   26 Oct 2022   09:39:11\n",
       "3     22.5196 -0.1688   26 Oct 2022   09:39:12\n",
       "4     22.5195 -0.1714   26 Oct 2022   09:39:13\n",
       "...       ...     ...           ...        ...\n",
       "9464  13.3829 -0.1645   26 Oct 2022   12:16:53\n",
       "9465  13.3952 -0.1623   26 Oct 2022   12:16:54\n",
       "9466  13.4723 -0.1646   26 Oct 2022   12:16:55\n",
       "9467  13.5213 -0.1628   26 Oct 2022   12:16:56\n",
       "9468  13.5835 -0.1667   26 Oct 2022   12:16:57\n",
       "\n",
       "[9469 rows x 4 columns]"
      ]
     },
     "metadata": {},
     "output_type": "display_data"
    },
    {
     "data": {
      "text/html": [
       "<div>\n",
       "<style scoped>\n",
       "    .dataframe tbody tr th:only-of-type {\n",
       "        vertical-align: middle;\n",
       "    }\n",
       "\n",
       "    .dataframe tbody tr th {\n",
       "        vertical-align: top;\n",
       "    }\n",
       "\n",
       "    .dataframe thead th {\n",
       "        text-align: right;\n",
       "    }\n",
       "</style>\n",
       "<table border=\"1\" class=\"dataframe\">\n",
       "  <thead>\n",
       "    <tr style=\"text-align: right;\">\n",
       "      <th></th>\n",
       "      <th>0</th>\n",
       "      <th>1</th>\n",
       "      <th>2</th>\n",
       "      <th>3</th>\n",
       "    </tr>\n",
       "  </thead>\n",
       "  <tbody>\n",
       "    <tr>\n",
       "      <th>9438</th>\n",
       "      <td>14.9072</td>\n",
       "      <td>-0.1662</td>\n",
       "      <td>26 Oct 2022</td>\n",
       "      <td>12:16:27</td>\n",
       "    </tr>\n",
       "    <tr>\n",
       "      <th>9439</th>\n",
       "      <td>14.8085</td>\n",
       "      <td>-0.1628</td>\n",
       "      <td>26 Oct 2022</td>\n",
       "      <td>12:16:28</td>\n",
       "    </tr>\n",
       "    <tr>\n",
       "      <th>9440</th>\n",
       "      <td>14.7843</td>\n",
       "      <td>-0.1673</td>\n",
       "      <td>26 Oct 2022</td>\n",
       "      <td>12:16:29</td>\n",
       "    </tr>\n",
       "    <tr>\n",
       "      <th>9441</th>\n",
       "      <td>14.7475</td>\n",
       "      <td>-0.1676</td>\n",
       "      <td>26 Oct 2022</td>\n",
       "      <td>12:16:30</td>\n",
       "    </tr>\n",
       "    <tr>\n",
       "      <th>9442</th>\n",
       "      <td>14.6152</td>\n",
       "      <td>-0.1656</td>\n",
       "      <td>26 Oct 2022</td>\n",
       "      <td>12:16:31</td>\n",
       "    </tr>\n",
       "    <tr>\n",
       "      <th>9443</th>\n",
       "      <td>14.4687</td>\n",
       "      <td>-0.1670</td>\n",
       "      <td>26 Oct 2022</td>\n",
       "      <td>12:16:32</td>\n",
       "    </tr>\n",
       "    <tr>\n",
       "      <th>9444</th>\n",
       "      <td>14.4415</td>\n",
       "      <td>-0.1641</td>\n",
       "      <td>26 Oct 2022</td>\n",
       "      <td>12:16:33</td>\n",
       "    </tr>\n",
       "    <tr>\n",
       "      <th>9445</th>\n",
       "      <td>14.2935</td>\n",
       "      <td>-0.1686</td>\n",
       "      <td>26 Oct 2022</td>\n",
       "      <td>12:16:34</td>\n",
       "    </tr>\n",
       "    <tr>\n",
       "      <th>9446</th>\n",
       "      <td>14.2080</td>\n",
       "      <td>-0.1686</td>\n",
       "      <td>26 Oct 2022</td>\n",
       "      <td>12:16:35</td>\n",
       "    </tr>\n",
       "    <tr>\n",
       "      <th>9447</th>\n",
       "      <td>14.0593</td>\n",
       "      <td>-0.1676</td>\n",
       "      <td>26 Oct 2022</td>\n",
       "      <td>12:16:36</td>\n",
       "    </tr>\n",
       "    <tr>\n",
       "      <th>9448</th>\n",
       "      <td>14.0298</td>\n",
       "      <td>-0.1667</td>\n",
       "      <td>26 Oct 2022</td>\n",
       "      <td>12:16:37</td>\n",
       "    </tr>\n",
       "    <tr>\n",
       "      <th>9449</th>\n",
       "      <td>13.9317</td>\n",
       "      <td>-0.1655</td>\n",
       "      <td>26 Oct 2022</td>\n",
       "      <td>12:16:38</td>\n",
       "    </tr>\n",
       "    <tr>\n",
       "      <th>9450</th>\n",
       "      <td>13.8605</td>\n",
       "      <td>-0.1639</td>\n",
       "      <td>26 Oct 2022</td>\n",
       "      <td>12:16:39</td>\n",
       "    </tr>\n",
       "    <tr>\n",
       "      <th>9451</th>\n",
       "      <td>13.7957</td>\n",
       "      <td>-0.1668</td>\n",
       "      <td>26 Oct 2022</td>\n",
       "      <td>12:16:40</td>\n",
       "    </tr>\n",
       "    <tr>\n",
       "      <th>9452</th>\n",
       "      <td>13.7602</td>\n",
       "      <td>-0.1656</td>\n",
       "      <td>26 Oct 2022</td>\n",
       "      <td>12:16:41</td>\n",
       "    </tr>\n",
       "    <tr>\n",
       "      <th>9453</th>\n",
       "      <td>13.7172</td>\n",
       "      <td>-0.1672</td>\n",
       "      <td>26 Oct 2022</td>\n",
       "      <td>12:16:42</td>\n",
       "    </tr>\n",
       "    <tr>\n",
       "      <th>9454</th>\n",
       "      <td>13.6726</td>\n",
       "      <td>-0.1629</td>\n",
       "      <td>26 Oct 2022</td>\n",
       "      <td>12:16:43</td>\n",
       "    </tr>\n",
       "    <tr>\n",
       "      <th>9455</th>\n",
       "      <td>13.6382</td>\n",
       "      <td>-0.1695</td>\n",
       "      <td>26 Oct 2022</td>\n",
       "      <td>12:16:44</td>\n",
       "    </tr>\n",
       "    <tr>\n",
       "      <th>9456</th>\n",
       "      <td>13.5855</td>\n",
       "      <td>-0.1696</td>\n",
       "      <td>26 Oct 2022</td>\n",
       "      <td>12:16:45</td>\n",
       "    </tr>\n",
       "    <tr>\n",
       "      <th>9457</th>\n",
       "      <td>13.5696</td>\n",
       "      <td>-0.1649</td>\n",
       "      <td>26 Oct 2022</td>\n",
       "      <td>12:16:46</td>\n",
       "    </tr>\n",
       "    <tr>\n",
       "      <th>9458</th>\n",
       "      <td>13.5421</td>\n",
       "      <td>-0.1658</td>\n",
       "      <td>26 Oct 2022</td>\n",
       "      <td>12:16:47</td>\n",
       "    </tr>\n",
       "    <tr>\n",
       "      <th>9459</th>\n",
       "      <td>13.4457</td>\n",
       "      <td>-0.1653</td>\n",
       "      <td>26 Oct 2022</td>\n",
       "      <td>12:16:48</td>\n",
       "    </tr>\n",
       "    <tr>\n",
       "      <th>9460</th>\n",
       "      <td>13.3469</td>\n",
       "      <td>-0.1660</td>\n",
       "      <td>26 Oct 2022</td>\n",
       "      <td>12:16:49</td>\n",
       "    </tr>\n",
       "    <tr>\n",
       "      <th>9461</th>\n",
       "      <td>13.3112</td>\n",
       "      <td>-0.1642</td>\n",
       "      <td>26 Oct 2022</td>\n",
       "      <td>12:16:50</td>\n",
       "    </tr>\n",
       "    <tr>\n",
       "      <th>9462</th>\n",
       "      <td>13.2922</td>\n",
       "      <td>-0.1617</td>\n",
       "      <td>26 Oct 2022</td>\n",
       "      <td>12:16:51</td>\n",
       "    </tr>\n",
       "    <tr>\n",
       "      <th>9463</th>\n",
       "      <td>13.2964</td>\n",
       "      <td>-0.1638</td>\n",
       "      <td>26 Oct 2022</td>\n",
       "      <td>12:16:52</td>\n",
       "    </tr>\n",
       "    <tr>\n",
       "      <th>9464</th>\n",
       "      <td>13.3829</td>\n",
       "      <td>-0.1645</td>\n",
       "      <td>26 Oct 2022</td>\n",
       "      <td>12:16:53</td>\n",
       "    </tr>\n",
       "    <tr>\n",
       "      <th>9465</th>\n",
       "      <td>13.3952</td>\n",
       "      <td>-0.1623</td>\n",
       "      <td>26 Oct 2022</td>\n",
       "      <td>12:16:54</td>\n",
       "    </tr>\n",
       "    <tr>\n",
       "      <th>9466</th>\n",
       "      <td>13.4723</td>\n",
       "      <td>-0.1646</td>\n",
       "      <td>26 Oct 2022</td>\n",
       "      <td>12:16:55</td>\n",
       "    </tr>\n",
       "    <tr>\n",
       "      <th>9467</th>\n",
       "      <td>13.5213</td>\n",
       "      <td>-0.1628</td>\n",
       "      <td>26 Oct 2022</td>\n",
       "      <td>12:16:56</td>\n",
       "    </tr>\n",
       "    <tr>\n",
       "      <th>9468</th>\n",
       "      <td>13.5835</td>\n",
       "      <td>-0.1667</td>\n",
       "      <td>26 Oct 2022</td>\n",
       "      <td>12:16:57</td>\n",
       "    </tr>\n",
       "  </tbody>\n",
       "</table>\n",
       "</div>"
      ],
      "text/plain": [
       "            0       1             2          3\n",
       "9438  14.9072 -0.1662   26 Oct 2022   12:16:27\n",
       "9439  14.8085 -0.1628   26 Oct 2022   12:16:28\n",
       "9440  14.7843 -0.1673   26 Oct 2022   12:16:29\n",
       "9441  14.7475 -0.1676   26 Oct 2022   12:16:30\n",
       "9442  14.6152 -0.1656   26 Oct 2022   12:16:31\n",
       "9443  14.4687 -0.1670   26 Oct 2022   12:16:32\n",
       "9444  14.4415 -0.1641   26 Oct 2022   12:16:33\n",
       "9445  14.2935 -0.1686   26 Oct 2022   12:16:34\n",
       "9446  14.2080 -0.1686   26 Oct 2022   12:16:35\n",
       "9447  14.0593 -0.1676   26 Oct 2022   12:16:36\n",
       "9448  14.0298 -0.1667   26 Oct 2022   12:16:37\n",
       "9449  13.9317 -0.1655   26 Oct 2022   12:16:38\n",
       "9450  13.8605 -0.1639   26 Oct 2022   12:16:39\n",
       "9451  13.7957 -0.1668   26 Oct 2022   12:16:40\n",
       "9452  13.7602 -0.1656   26 Oct 2022   12:16:41\n",
       "9453  13.7172 -0.1672   26 Oct 2022   12:16:42\n",
       "9454  13.6726 -0.1629   26 Oct 2022   12:16:43\n",
       "9455  13.6382 -0.1695   26 Oct 2022   12:16:44\n",
       "9456  13.5855 -0.1696   26 Oct 2022   12:16:45\n",
       "9457  13.5696 -0.1649   26 Oct 2022   12:16:46\n",
       "9458  13.5421 -0.1658   26 Oct 2022   12:16:47\n",
       "9459  13.4457 -0.1653   26 Oct 2022   12:16:48\n",
       "9460  13.3469 -0.1660   26 Oct 2022   12:16:49\n",
       "9461  13.3112 -0.1642   26 Oct 2022   12:16:50\n",
       "9462  13.2922 -0.1617   26 Oct 2022   12:16:51\n",
       "9463  13.2964 -0.1638   26 Oct 2022   12:16:52\n",
       "9464  13.3829 -0.1645   26 Oct 2022   12:16:53\n",
       "9465  13.3952 -0.1623   26 Oct 2022   12:16:54\n",
       "9466  13.4723 -0.1646   26 Oct 2022   12:16:55\n",
       "9467  13.5213 -0.1628   26 Oct 2022   12:16:56\n",
       "9468  13.5835 -0.1667   26 Oct 2022   12:16:57"
      ]
     },
     "metadata": {},
     "output_type": "display_data"
    },
    {
     "data": {
      "text/html": [
       "<div>\n",
       "<style scoped>\n",
       "    .dataframe tbody tr th:only-of-type {\n",
       "        vertical-align: middle;\n",
       "    }\n",
       "\n",
       "    .dataframe tbody tr th {\n",
       "        vertical-align: top;\n",
       "    }\n",
       "\n",
       "    .dataframe thead th {\n",
       "        text-align: right;\n",
       "    }\n",
       "</style>\n",
       "<table border=\"1\" class=\"dataframe\">\n",
       "  <thead>\n",
       "    <tr style=\"text-align: right;\">\n",
       "      <th></th>\n",
       "      <th>0</th>\n",
       "      <th>1</th>\n",
       "      <th>2</th>\n",
       "      <th>3</th>\n",
       "      <th>4</th>\n",
       "    </tr>\n",
       "  </thead>\n",
       "  <tbody>\n",
       "    <tr>\n",
       "      <th>0</th>\n",
       "      <td>22.5229</td>\n",
       "      <td>-0.1666</td>\n",
       "      <td>26 Oct 2022</td>\n",
       "      <td>09:39:09</td>\n",
       "      <td>12.027756</td>\n",
       "    </tr>\n",
       "    <tr>\n",
       "      <th>1</th>\n",
       "      <td>22.5217</td>\n",
       "      <td>-0.1708</td>\n",
       "      <td>26 Oct 2022</td>\n",
       "      <td>09:39:10</td>\n",
       "      <td>12.029173</td>\n",
       "    </tr>\n",
       "    <tr>\n",
       "      <th>2</th>\n",
       "      <td>22.5207</td>\n",
       "      <td>-0.1685</td>\n",
       "      <td>26 Oct 2022</td>\n",
       "      <td>09:39:11</td>\n",
       "      <td>12.028392</td>\n",
       "    </tr>\n",
       "    <tr>\n",
       "      <th>3</th>\n",
       "      <td>22.5196</td>\n",
       "      <td>-0.1688</td>\n",
       "      <td>26 Oct 2022</td>\n",
       "      <td>09:39:12</td>\n",
       "      <td>12.028493</td>\n",
       "    </tr>\n",
       "    <tr>\n",
       "      <th>4</th>\n",
       "      <td>22.5195</td>\n",
       "      <td>-0.1714</td>\n",
       "      <td>26 Oct 2022</td>\n",
       "      <td>09:39:13</td>\n",
       "      <td>12.029378</td>\n",
       "    </tr>\n",
       "    <tr>\n",
       "      <th>...</th>\n",
       "      <td>...</td>\n",
       "      <td>...</td>\n",
       "      <td>...</td>\n",
       "      <td>...</td>\n",
       "      <td>...</td>\n",
       "    </tr>\n",
       "    <tr>\n",
       "      <th>9464</th>\n",
       "      <td>13.3829</td>\n",
       "      <td>-0.1645</td>\n",
       "      <td>26 Oct 2022</td>\n",
       "      <td>12:16:53</td>\n",
       "      <td>12.027060</td>\n",
       "    </tr>\n",
       "    <tr>\n",
       "      <th>9465</th>\n",
       "      <td>13.3952</td>\n",
       "      <td>-0.1623</td>\n",
       "      <td>26 Oct 2022</td>\n",
       "      <td>12:16:54</td>\n",
       "      <td>12.026341</td>\n",
       "    </tr>\n",
       "    <tr>\n",
       "      <th>9466</th>\n",
       "      <td>13.4723</td>\n",
       "      <td>-0.1646</td>\n",
       "      <td>26 Oct 2022</td>\n",
       "      <td>12:16:55</td>\n",
       "      <td>12.027093</td>\n",
       "    </tr>\n",
       "    <tr>\n",
       "      <th>9467</th>\n",
       "      <td>13.5213</td>\n",
       "      <td>-0.1628</td>\n",
       "      <td>26 Oct 2022</td>\n",
       "      <td>12:16:56</td>\n",
       "      <td>12.026504</td>\n",
       "    </tr>\n",
       "    <tr>\n",
       "      <th>9468</th>\n",
       "      <td>13.5835</td>\n",
       "      <td>-0.1667</td>\n",
       "      <td>26 Oct 2022</td>\n",
       "      <td>12:16:57</td>\n",
       "      <td>12.027789</td>\n",
       "    </tr>\n",
       "  </tbody>\n",
       "</table>\n",
       "<p>9469 rows × 5 columns</p>\n",
       "</div>"
      ],
      "text/plain": [
       "            0       1             2          3          4\n",
       "0     22.5229 -0.1666   26 Oct 2022   09:39:09  12.027756\n",
       "1     22.5217 -0.1708   26 Oct 2022   09:39:10  12.029173\n",
       "2     22.5207 -0.1685   26 Oct 2022   09:39:11  12.028392\n",
       "3     22.5196 -0.1688   26 Oct 2022   09:39:12  12.028493\n",
       "4     22.5195 -0.1714   26 Oct 2022   09:39:13  12.029378\n",
       "...       ...     ...           ...        ...        ...\n",
       "9464  13.3829 -0.1645   26 Oct 2022   12:16:53  12.027060\n",
       "9465  13.3952 -0.1623   26 Oct 2022   12:16:54  12.026341\n",
       "9466  13.4723 -0.1646   26 Oct 2022   12:16:55  12.027093\n",
       "9467  13.5213 -0.1628   26 Oct 2022   12:16:56  12.026504\n",
       "9468  13.5835 -0.1667   26 Oct 2022   12:16:57  12.027789\n",
       "\n",
       "[9469 rows x 5 columns]"
      ]
     },
     "metadata": {},
     "output_type": "display_data"
    },
    {
     "data": {
      "text/html": [
       "<div>\n",
       "<style scoped>\n",
       "    .dataframe tbody tr th:only-of-type {\n",
       "        vertical-align: middle;\n",
       "    }\n",
       "\n",
       "    .dataframe tbody tr th {\n",
       "        vertical-align: top;\n",
       "    }\n",
       "\n",
       "    .dataframe thead th {\n",
       "        text-align: right;\n",
       "    }\n",
       "</style>\n",
       "<table border=\"1\" class=\"dataframe\">\n",
       "  <thead>\n",
       "    <tr style=\"text-align: right;\">\n",
       "      <th></th>\n",
       "      <th>0</th>\n",
       "      <th>1</th>\n",
       "      <th>2</th>\n",
       "      <th>3</th>\n",
       "      <th>4</th>\n",
       "    </tr>\n",
       "  </thead>\n",
       "  <tbody>\n",
       "    <tr>\n",
       "      <th>9462</th>\n",
       "      <td>13.2922</td>\n",
       "      <td>-0.1617</td>\n",
       "      <td>26 Oct 2022</td>\n",
       "      <td>12:16:51</td>\n",
       "      <td>12.026147</td>\n",
       "    </tr>\n",
       "    <tr>\n",
       "      <th>9463</th>\n",
       "      <td>13.2964</td>\n",
       "      <td>-0.1638</td>\n",
       "      <td>26 Oct 2022</td>\n",
       "      <td>12:16:52</td>\n",
       "      <td>12.026830</td>\n",
       "    </tr>\n",
       "    <tr>\n",
       "      <th>9461</th>\n",
       "      <td>13.3112</td>\n",
       "      <td>-0.1642</td>\n",
       "      <td>26 Oct 2022</td>\n",
       "      <td>12:16:50</td>\n",
       "      <td>12.026962</td>\n",
       "    </tr>\n",
       "    <tr>\n",
       "      <th>9460</th>\n",
       "      <td>13.3469</td>\n",
       "      <td>-0.1660</td>\n",
       "      <td>26 Oct 2022</td>\n",
       "      <td>12:16:49</td>\n",
       "      <td>12.027556</td>\n",
       "    </tr>\n",
       "    <tr>\n",
       "      <th>9464</th>\n",
       "      <td>13.3829</td>\n",
       "      <td>-0.1645</td>\n",
       "      <td>26 Oct 2022</td>\n",
       "      <td>12:16:53</td>\n",
       "      <td>12.027060</td>\n",
       "    </tr>\n",
       "    <tr>\n",
       "      <th>...</th>\n",
       "      <td>...</td>\n",
       "      <td>...</td>\n",
       "      <td>...</td>\n",
       "      <td>...</td>\n",
       "      <td>...</td>\n",
       "    </tr>\n",
       "    <tr>\n",
       "      <th>25</th>\n",
       "      <td>22.7309</td>\n",
       "      <td>-0.1688</td>\n",
       "      <td>26 Oct 2022</td>\n",
       "      <td>09:39:34</td>\n",
       "      <td>12.028493</td>\n",
       "    </tr>\n",
       "    <tr>\n",
       "      <th>24</th>\n",
       "      <td>22.7336</td>\n",
       "      <td>-0.1675</td>\n",
       "      <td>26 Oct 2022</td>\n",
       "      <td>09:39:33</td>\n",
       "      <td>12.028056</td>\n",
       "    </tr>\n",
       "    <tr>\n",
       "      <th>23</th>\n",
       "      <td>22.7371</td>\n",
       "      <td>-0.1700</td>\n",
       "      <td>26 Oct 2022</td>\n",
       "      <td>09:39:32</td>\n",
       "      <td>12.028900</td>\n",
       "    </tr>\n",
       "    <tr>\n",
       "      <th>22</th>\n",
       "      <td>22.7389</td>\n",
       "      <td>-0.1744</td>\n",
       "      <td>26 Oct 2022</td>\n",
       "      <td>09:39:31</td>\n",
       "      <td>12.030415</td>\n",
       "    </tr>\n",
       "    <tr>\n",
       "      <th>21</th>\n",
       "      <td>22.7399</td>\n",
       "      <td>-0.1650</td>\n",
       "      <td>26 Oct 2022</td>\n",
       "      <td>09:39:30</td>\n",
       "      <td>12.027225</td>\n",
       "    </tr>\n",
       "  </tbody>\n",
       "</table>\n",
       "<p>9469 rows × 5 columns</p>\n",
       "</div>"
      ],
      "text/plain": [
       "            0       1             2          3          4\n",
       "9462  13.2922 -0.1617   26 Oct 2022   12:16:51  12.026147\n",
       "9463  13.2964 -0.1638   26 Oct 2022   12:16:52  12.026830\n",
       "9461  13.3112 -0.1642   26 Oct 2022   12:16:50  12.026962\n",
       "9460  13.3469 -0.1660   26 Oct 2022   12:16:49  12.027556\n",
       "9464  13.3829 -0.1645   26 Oct 2022   12:16:53  12.027060\n",
       "...       ...     ...           ...        ...        ...\n",
       "25    22.7309 -0.1688   26 Oct 2022   09:39:34  12.028493\n",
       "24    22.7336 -0.1675   26 Oct 2022   09:39:33  12.028056\n",
       "23    22.7371 -0.1700   26 Oct 2022   09:39:32  12.028900\n",
       "22    22.7389 -0.1744   26 Oct 2022   09:39:31  12.030415\n",
       "21    22.7399 -0.1650   26 Oct 2022   09:39:30  12.027225\n",
       "\n",
       "[9469 rows x 5 columns]"
      ]
     },
     "metadata": {},
     "output_type": "display_data"
    }
   ],
   "source": [
    "import pandas as pd\n",
    "\n",
    "data = pd.read_csv(\"./samples/SBE39plus_03907421_2022_10_26.asc\", skiprows=11, header=None)\n",
    "display(data)\n",
    "display(data[(data[0]>1)&(data[0]<15)])\n",
    "data[4] = data[1] ** 2.0 + 12\n",
    "display(data)\n",
    "display(data.sort_values(by=[0]))\n"
   ]
  },
  {
   "cell_type": "markdown",
   "metadata": {},
   "source": [
    "## Dekoratory"
   ]
  },
  {
   "cell_type": "markdown",
   "metadata": {},
   "source": [
    "### Problem:\n",
    "\n",
    "Mając dostępną funkcjonalność możemy chcieć ją rozwinąć. W jaki sposób możemy rozszerzyć działanie funkcji zachowując jej wywołania w dalszym kodzie? W jaki sposób stworzyć funkcjonalność, która rozszerzy dowolną funkcję o pewien powtarzalny zestaw instrukcji?"
   ]
  },
  {
   "cell_type": "markdown",
   "metadata": {},
   "source": [
    "Dekorator w Pythonie to nakładka (formalnie [funkcjonał](https://en.wikipedia.org/wiki/Functional_(mathematics))), którą możemy nałożyć na funkcję. Pozwala na stworzenie kontekstu wywołania dla definiowanej funkcji. Dekorator w ten sposób jest funkcją, która zwraca funkcję, która ma zostać wykonana zamiast funkcji dekorowanej."
   ]
  },
  {
   "cell_type": "code",
   "execution_count": null,
   "metadata": {},
   "outputs": [
    {
     "name": "stdout",
     "output_type": "stream",
     "text": [
      "Function execution called\n",
      "0 obtained as the result of the call\n"
     ]
    }
   ],
   "source": [
    "def log_usage(func):\n",
    "    def wrapper():\n",
    "        print(\"Function execution called\")\n",
    "        result = func()\n",
    "        print(f\"{result} obtained as the result of the call\")\n",
    "        return result\n",
    "    return wrapper\n",
    "\n",
    "@log_usage\n",
    "def dummyFunction():\n",
    "    return 0\n",
    "\n",
    "dummyFunction();"
   ]
  },
  {
   "cell_type": "markdown",
   "metadata": {},
   "source": [
    "Dekorator może również przyjmować argumenty, które zdefiniują jego zachowanie. W tym wypadku musimy otoczyć definicję dekoratora nakładką, która zwróci sam dekorator na podstawie zadanych argumentów."
   ]
  },
  {
   "cell_type": "code",
   "execution_count": null,
   "metadata": {},
   "outputs": [
    {
     "name": "stdout",
     "output_type": "stream",
     "text": [
      "Dummy logger: Dummy hello\n",
      "Dummy logger: Function execution called\n",
      "Hallöchen\n",
      "Dummy logger: 0 obtained as the result of the call\n"
     ]
    },
    {
     "data": {
      "text/plain": [
       "0"
      ]
     },
     "execution_count": 51,
     "metadata": {},
     "output_type": "execute_result"
    }
   ],
   "source": [
    "def log_usage(name, greeting):\n",
    "    def dec(func):\n",
    "        def wrapper():\n",
    "            print(f\"{name}: {greeting}\")\n",
    "            print(f\"{name}: Function execution called\")\n",
    "            result = func()\n",
    "            print(f\"{name}: {result} obtained as the result of the call\")\n",
    "            return result\n",
    "        return wrapper\n",
    "    return dec\n",
    "\n",
    "@log_usage(\"Dummy logger\", \"Dummy hello\")\n",
    "def dummyFunction():\n",
    "    print(\"Hallöchen\")\n",
    "    return 0\n",
    "\n",
    "dummyFunction()"
   ]
  },
  {
   "cell_type": "markdown",
   "metadata": {},
   "source": [
    "Gdy funkcja dekorowana przyjmuje argumenty nie możemy wykorzystać dekoratora wywołującego ją bez nich."
   ]
  },
  {
   "cell_type": "code",
   "execution_count": null,
   "metadata": {},
   "outputs": [
    {
     "name": "stdout",
     "output_type": "stream",
     "text": [
      "\u001b[38;5;26mTraceback (most recent call last):\u001b[39m\n",
      "  File \u001b[38;5;28m\"C:\\Users\\micha\\AppData\\Local\\Temp/ipykernel_12088/3686090039.py\"\u001b[39m, line \u001b[38;5;241m8\u001b[39m, in captureErrors\n",
      "    exec(cell)\n",
      "  File \u001b[38;5;28m\"<string>\"\u001b[39m, line \u001b[38;5;241m10\u001b[39m, in <module>\n",
      "\u001b[38;5;9mTypeError\u001b[39m: wrapper() takes 0 positional arguments but 1 was given\n",
      "\n"
     ]
    }
   ],
   "source": [
    "%%captureErrors\n",
    "def decorated(func):\n",
    "    def wrapper():\n",
    "        func()\n",
    "    return wrapper\n",
    "\n",
    "@decorated\n",
    "def func(a):\n",
    "    print(a)\n",
    "\n",
    "func(2)"
   ]
  },
  {
   "cell_type": "markdown",
   "metadata": {},
   "source": [
    "Zamiast tego powinniśmy użyć przechwycenia listy argumentów z pomocą `*args` i `**kwargs`."
   ]
  },
  {
   "cell_type": "code",
   "execution_count": null,
   "metadata": {},
   "outputs": [
    {
     "name": "stdout",
     "output_type": "stream",
     "text": [
      "2\n"
     ]
    }
   ],
   "source": [
    "def decorated(func):\n",
    "    def wrapper(*args, **kwargs):\n",
    "        func(*args, **kwargs)\n",
    "    return wrapper\n",
    "\n",
    "@decorated\n",
    "def func(a, b):\n",
    "    print(a)\n",
    "\n",
    "func(2, 3)"
   ]
  },
  {
   "cell_type": "markdown",
   "metadata": {},
   "source": [
    "## [Programowanie funkcjonałowe](https://en.wikipedia.org/wiki/Functional_programming)"
   ]
  },
  {
   "cell_type": "markdown",
   "metadata": {},
   "source": [
    "### Problem:\n",
    "\n",
    "Niektóre operacje wymagają dodatkowych instrukcji dla danych lub kontekstu wywołania. Przykładowo sortowanie wymaga operatora porównania. W jaki sposób przekazać instrukcję do wykonania bez definiowania mnóstwa metadanych dookoła?"
   ]
  },
  {
   "cell_type": "markdown",
   "metadata": {},
   "source": [
    "[Wyrażeniem lambda](https://en.wikipedia.org/wiki/Anonymous_function) lub funkcją anonimową nazywamy definicję funkcji jako wartości. Innymi słowy, zamiast definiować funkcję a następnie przekazać ją jako argument do innej funkcji, możemy zdefiniować ją od razu jako ów argument. Nazwa ta wywodzi się z tak zwanego [rachunku $\\lambda$](https://en.wikipedia.org/wiki/Lambda_calculus) będącego bazą [języków funkcjonałowych](https://en.wikipedia.org/wiki/Functional_programming)."
   ]
  },
  {
   "cell_type": "markdown",
   "metadata": {},
   "source": [
    "Jeżeli chcemy posortować listę par po drugim elemencie, musimy podać funkcji [sorted](https://docs.python.org/3/howto/sorting.html#sorting-basics) argument `key` będący funkcją zwracającą klucz, po którym sortujemy."
   ]
  },
  {
   "cell_type": "code",
   "execution_count": null,
   "metadata": {},
   "outputs": [
    {
     "data": {
      "text/plain": [
       "[(12, 0), (2, 1), (5, 1), (1, 2), (12, 3)]"
      ]
     },
     "execution_count": 54,
     "metadata": {},
     "output_type": "execute_result"
    }
   ],
   "source": [
    "def second(pair):\n",
    "    return pair[1]\n",
    "\n",
    "l = [(1, 2), (2, 1), (5, 1), (12, 3), (12, 0)]\n",
    "sorted(l, key=second)"
   ]
  },
  {
   "cell_type": "markdown",
   "metadata": {},
   "source": [
    "Możemy taką funkcję od razu zdefiniować jako argument za pomocą słowa kluczowego `lambda`."
   ]
  },
  {
   "cell_type": "code",
   "execution_count": null,
   "metadata": {},
   "outputs": [
    {
     "data": {
      "text/plain": [
       "[(12, 0), (2, 1), (5, 1), (1, 2), (12, 3)]"
      ]
     },
     "execution_count": 55,
     "metadata": {},
     "output_type": "execute_result"
    }
   ],
   "source": [
    "l = [(1, 2), (2, 1), (5, 1), (12, 3), (12, 0)]\n",
    "sorted(l, key=lambda pair: pair[1])"
   ]
  },
  {
   "attachments": {},
   "cell_type": "markdown",
   "metadata": {},
   "source": [
    "W celu zdefiniowania funkcji anonimowej piszemy słowo-klucz `lambda`, następnie listę parametrów i na koniec, po dwukropku (`:`) samo ciało funkcji. Przykładowo, poniższe funkcje działają identycznie."
   ]
  },
  {
   "cell_type": "code",
   "execution_count": null,
   "metadata": {},
   "outputs": [
    {
     "name": "stdout",
     "output_type": "stream",
     "text": [
      "I received 1 as a, 2 as b and 3 as c\n",
      "I received 1 as a, 2 as b and 3 as c\n"
     ]
    },
    {
     "data": {
      "text/plain": [
       "True"
      ]
     },
     "execution_count": 56,
     "metadata": {},
     "output_type": "execute_result"
    }
   ],
   "source": [
    "def printAndReturnSum(a, b, c):\n",
    "    print(f\"I received {a} as a, {b} as b and {c} as c\")\n",
    "    return a + b + c\n",
    "\n",
    "lambdaPrintAndReturnSum = lambda a, b, c: print(\n",
    "    f\"I received {a} as a, {b} as b and {c} as c\") or a+b+c\n",
    "\n",
    "printAndReturnSum(1, 2, 3) == lambdaPrintAndReturnSum(1, 2, 3)"
   ]
  },
  {
   "attachments": {},
   "cell_type": "markdown",
   "metadata": {},
   "source": [
    "<font color=\"red\">!!!</font> Wyrażenia lambda pozwalają na wykonanie tylko jednej operacji, w powyższym przykładzie pokazane jest jednak, że możemy wykonać takich operacji kilka. Operator `or` zwraca pierwszą wartość jeżeli jest niefałszywa, drugą wartość w przeciwnym wypadku. `print` nie zwraca niczego, stąd jego wartość to `None`, który jest wartością fałszywą. Stąd zwracamy drugi argument operatora `or`.\n",
    "\n",
    "<font color=\"red\" size=\"5\">Nie powinno się z tego korzystać w Pythonie</font>\n",
    "\n",
    "Jeżeli potrzebujemy wykonać kilka operacji, powinniśmy zdefiniować zwyczajną funkcję. Powyższy przykład z `or` jest trikiem optymalizacyjnym w niektórych językach, w Pythonie jednak jest niepoprawnym wzorcem."
   ]
  },
  {
   "cell_type": "markdown",
   "metadata": {},
   "source": [
    "### Typowe zastosowania $\\lambda$-wyrażeń: map i filter."
   ]
  },
  {
   "cell_type": "markdown",
   "metadata": {},
   "source": [
    "Często $\\lambda$-wyrażenia wykorzystujemy do operacji na tablicach. Przykładowo, jeżeli chcemy posortować listę par po drugich elementach, podajemy do funkcji `sorted` jako parametr `key` albo funkcję pozyskującą ten element, albo równoważną $\\lambda$."
   ]
  },
  {
   "cell_type": "code",
   "execution_count": null,
   "metadata": {},
   "outputs": [
    {
     "name": "stdout",
     "output_type": "stream",
     "text": [
      "[(0, 0), (0, 1), (1, 4), (2, 2), (2, 4), (3, 1), (4, 4), (3241, 1)]\n",
      "[(0, 0), (3, 1), (3241, 1), (0, 1), (2, 2), (2, 4), (4, 4), (1, 4)]\n",
      "[(0, 0), (3, 1), (3241, 1), (0, 1), (2, 2), (2, 4), (4, 4), (1, 4)]\n"
     ]
    }
   ],
   "source": [
    "def takeSecond(e):\n",
    "    return e[1]\n",
    "\n",
    "l = [(3, 1), (2, 2), (2, 4), (4, 4), (1, 4), (0, 0), (3241, 1), (0, 1)]\n",
    "print(sorted(l))\n",
    "print(sorted(l, key=takeSecond))\n",
    "print(sorted(l, key=lambda e: e[1]))"
   ]
  },
  {
   "cell_type": "markdown",
   "metadata": {},
   "source": [
    "Analogicznie wykorzystujemy $\\lambda$-wyrażenia z operacjami [max](https://docs.python.org/3/library/functions.html#max) i [min](https://docs.python.org/3/library/functions.html#min)."
   ]
  },
  {
   "cell_type": "code",
   "execution_count": null,
   "metadata": {},
   "outputs": [
    {
     "name": "stdout",
     "output_type": "stream",
     "text": [
      "(2, 4)\n",
      "(2, 4)\n",
      "(0, 0)\n",
      "(0, 0)\n"
     ]
    }
   ],
   "source": [
    "def takeSecond(e):\n",
    "    return e[1]\n",
    "\n",
    "l = [(3, 1), (2, 2), (2, 4), (4, 4), (1, 4), (0, 0), (3241, 1), (0, 1)]\n",
    "print(max(l, key=takeSecond))\n",
    "print(max(l, key=lambda e: e[1]))\n",
    "print(min(l, key=takeSecond))\n",
    "print(min(l, key=lambda e: e[1]))"
   ]
  },
  {
   "cell_type": "markdown",
   "metadata": {},
   "source": [
    "###### <font color=\"gray\">Zarówno max jak i min przechodzą po wszystkich elementach i sprawdzają, czy klucz jest odpowiednio większy lub mniejszy od dotąd największego/najmniejszego znalezionego. Stąd, mimo, że występuje wiele elementów o kluczu 4, to jako maximum bierzemy tylko pierwszy przypadek.</font>"
   ]
  },
  {
   "cell_type": "markdown",
   "metadata": {},
   "source": [
    "Podobnie możemy zaaplikować pewną funkcję do elementów tablicy. Operację taką nazywamy [mapowaniem](https://en.wikipedia.org/wiki/Map_(mathematics))."
   ]
  },
  {
   "cell_type": "code",
   "execution_count": null,
   "metadata": {},
   "outputs": [
    {
     "data": {
      "text/plain": [
       "[1, 3, 5, 7, 9, 11, 13, 15, 17, 19]"
      ]
     },
     "metadata": {},
     "output_type": "display_data"
    },
    {
     "data": {
      "text/plain": [
       "[1, 3, 5, 7, 9, 11, 13, 15, 17, 19]"
      ]
     },
     "metadata": {},
     "output_type": "display_data"
    },
    {
     "data": {
      "text/plain": [
       "<map at 0x127eca85d60>"
      ]
     },
     "metadata": {},
     "output_type": "display_data"
    },
    {
     "data": {
      "text/plain": [
       "<map at 0x127ec1f9700>"
      ]
     },
     "metadata": {},
     "output_type": "display_data"
    }
   ],
   "source": [
    "l = range(10)\n",
    "\n",
    "def doubleAndAdd1(n):\n",
    "    return n * 2 + 1\n",
    "\n",
    "display([doubleAndAdd1(x) for x in l])\n",
    "display([2 * x + 1 for x in l])\n",
    "display(map(doubleAndAdd1, l))\n",
    "display(map(lambda x: 2 * x + 1, l))"
   ]
  },
  {
   "attachments": {},
   "cell_type": "markdown",
   "metadata": {},
   "source": [
    "Warto zauważyć, że operacja [map](https://docs.python.org/3/library/functions.html#map) nie zwraca listy a obiekt typu `map`. O różnicy, w tym o leniwości i gorliwości algorytmu, będzie więcej w dalszej części notatnika."
   ]
  },
  {
   "cell_type": "markdown",
   "metadata": {},
   "source": [
    "Warto zauważyć, że wykonanie operacji `map` czy pętli można zastąpić znacznie krótszymi i szybszymi operacjami na [numpy.ndarray](https://numpy.org/doc/stable/reference/generated/numpy.ndarray.html)."
   ]
  },
  {
   "cell_type": "code",
   "execution_count": null,
   "metadata": {},
   "outputs": [
    {
     "data": {
      "text/plain": [
       "array([    0,     1,     2, ..., 99997, 99998, 99999])"
      ]
     },
     "metadata": {},
     "output_type": "display_data"
    },
    {
     "data": {
      "text/plain": [
       "array([     1,      3,      5, ..., 199995, 199997, 199999])"
      ]
     },
     "metadata": {},
     "output_type": "display_data"
    },
    {
     "data": {
      "text/plain": [
       "array([ 0.00000000e+00, -1.10000000e+01, -2.28904305e+01, ...,\n",
       "       -1.19995838e+06, -1.19997038e+06, -1.19998238e+06])"
      ]
     },
     "metadata": {},
     "output_type": "display_data"
    }
   ],
   "source": [
    "import numpy as np\n",
    "\n",
    "l = np.arange(100000)\n",
    "\n",
    "display(l)\n",
    "display(l * 2 + 1)\n",
    "display(l ** 0.15 - 12 * l)"
   ]
  },
  {
   "cell_type": "markdown",
   "metadata": {},
   "source": [
    "$\\lambda$-wyrażenia są również wykorzystywane przy filtrowaniu danych z pomocą funkcji [filter](https://docs.python.org/3/library/functions.html#filter)."
   ]
  },
  {
   "cell_type": "code",
   "execution_count": null,
   "metadata": {},
   "outputs": [
    {
     "data": {
      "text/plain": [
       "[0, 1, 1024, 59049, 1048576]"
      ]
     },
     "metadata": {},
     "output_type": "display_data"
    },
    {
     "data": {
      "text/plain": [
       "<filter at 0x127ea6cc7f0>"
      ]
     },
     "metadata": {},
     "output_type": "display_data"
    },
    {
     "data": {
      "text/plain": [
       "<filter at 0x127ea6cc3d0>"
      ]
     },
     "metadata": {},
     "output_type": "display_data"
    }
   ],
   "source": [
    "l = range(10000000)\n",
    "\n",
    "def isPower10(n):\n",
    "    return (n ** 0.1).is_integer()\n",
    "\n",
    "display([x for x in l if isPower10(x)])\n",
    "display(filter(isPower10, l))\n",
    "display(filter(lambda x: (x ** 0.1).is_integer(), l))"
   ]
  },
  {
   "cell_type": "markdown",
   "metadata": {},
   "source": [
    "Odpowiednik powyższego dla `numpy`."
   ]
  },
  {
   "cell_type": "code",
   "execution_count": null,
   "metadata": {},
   "outputs": [
    {
     "data": {
      "text/plain": [
       "array([      0,       1,    1024,   59049, 1048576])"
      ]
     },
     "execution_count": 62,
     "metadata": {},
     "output_type": "execute_result"
    }
   ],
   "source": [
    "import numpy as np\n",
    "\n",
    "l = np.arange(10000000)\n",
    "l[l ** 0.1 % 1 == 0]"
   ]
  },
  {
   "cell_type": "markdown",
   "metadata": {},
   "source": [
    "## Generatory i iteratory"
   ]
  },
  {
   "cell_type": "markdown",
   "metadata": {},
   "source": [
    "### Problem:\n",
    "\n",
    "Przetwarzanie ogromnych zbiorów danych może być kosztowne pod względem pamięci. Jeżeli nasz program operuje jedynie na drobnej części tych danych na raz a kolejność ich wykorzystania jest deterministyczna, możemy, zamiast przechowywać wszystko na raz, pozyskiwać dane na bieżąco. Jak odroczyć pozyskanie danych do momentu ich wykorzystania? Jak przechodzić po takich danych z pomocą pętli lub operacji na kolekcjach?"
   ]
  },
  {
   "cell_type": "markdown",
   "metadata": {},
   "source": [
    "### Podejście [gorliwe](https://en.wikipedia.org/wiki/Evaluation_strategy#Eager_evaluation) a [leniwe](https://en.wikipedia.org/wiki/Lazy_evaluation)"
   ]
  },
  {
   "cell_type": "markdown",
   "metadata": {},
   "source": [
    "Podstawowym podejściemy przy uzyskiwaniu danych jest tak zwane podejście gorliwe, to jest, uzyskujemy dane w momencie, gdy je definiujemy. Przykładowo, poniższy kod pokazuje, że lista tworzona z pomocą pętli tworzy się natychmiastowo i zajmuje odpowiednio duży obszar pamięci."
   ]
  },
  {
   "cell_type": "code",
   "execution_count": null,
   "metadata": {},
   "outputs": [
    {
     "data": {
      "text/plain": [
       "8448728"
      ]
     },
     "execution_count": 63,
     "metadata": {},
     "output_type": "execute_result"
    }
   ],
   "source": [
    "from math import sqrt\n",
    "from sys import getsizeof\n",
    "l = []\n",
    "for i in range(1000000):\n",
    "    l.append(sqrt(i))\n",
    "\n",
    "getsizeof(l)"
   ]
  },
  {
   "cell_type": "markdown",
   "metadata": {},
   "source": [
    "Zamiast od razu wyznaczać wartości, możemy przygotować instrukcję, jak je otrzymać a samą procedurę tego wykonać dopiero gdy będziemy tego potrzebowali."
   ]
  },
  {
   "cell_type": "code",
   "execution_count": null,
   "metadata": {},
   "outputs": [
    {
     "data": {
      "text/plain": [
       "56"
      ]
     },
     "execution_count": 64,
     "metadata": {},
     "output_type": "execute_result"
    }
   ],
   "source": [
    "from sys import getsizeof\n",
    "\n",
    "N = 10 ** 15\n",
    "getsizeof(zip(range(N), range(N)))"
   ]
  },
  {
   "attachments": {},
   "cell_type": "markdown",
   "metadata": {},
   "source": [
    "Mimo, że `l` powinna składać się z biliarda ($10^{15}$) elementów, kod ten wykonuje się natychmiastowo, a sam obiekt `l` zajmuje zaledwie $56$ B. Podejście takie nazywamy leniwym."
   ]
  },
  {
   "cell_type": "markdown",
   "metadata": {},
   "source": [
    "Operacje takie, jak [all](https://docs.python.org/3/library/functions.html#all), [any](https://docs.python.org/3/library/functions.html#any), [filter](https://docs.python.org/3/library/functions.html#filter), [map](https://docs.python.org/3/library/functions.html#map), [zip](https://docs.python.org/3/library/functions.html#zip) czy inne są właśnie funkcjami leniwymi."
   ]
  },
  {
   "cell_type": "code",
   "execution_count": null,
   "metadata": {},
   "outputs": [
    {
     "data": {
      "text/plain": [
       "<map at 0x127ea7113a0>"
      ]
     },
     "execution_count": 65,
     "metadata": {},
     "output_type": "execute_result"
    }
   ],
   "source": [
    "map(print, range(200))"
   ]
  },
  {
   "cell_type": "code",
   "execution_count": null,
   "metadata": {},
   "outputs": [
    {
     "name": "stdout",
     "output_type": "stream",
     "text": [
      "0 1 2 3 4 5 6 7 8 9 10 11 12 13 14 15 16 17 18 19 20 21 22 23 24 25 26 27 28 29 30 31 32 33 34 35 36 37 38 39 40 41 42 43 44 45 46 47 48 49 50 51 52 53 54 55 56 57 58 59 60 61 62 63 64 65 66 67 68 69 70 71 72 73 74 75 76 77 78 79 80 81 82 83 84 85 86 87 88 89 90 91 92 93 94 95 96 97 98 99 100 101 102 103 104 105 106 107 108 109 110 111 112 113 114 115 116 117 118 119 120 121 122 123 124 125 126 127 128 129 130 131 132 133 134 135 136 137 138 139 140 141 142 143 144 145 146 147 148 149 150 151 152 153 154 155 156 157 158 159 160 161 162 163 164 165 166 167 168 169 170 171 172 173 174 175 176 177 178 179 180 181 182 183 184 185 186 187 188 189 190 191 192 193 194 195 196 197 198 199 "
     ]
    },
    {
     "data": {
      "text/plain": [
       "False"
      ]
     },
     "execution_count": 66,
     "metadata": {},
     "output_type": "execute_result"
    }
   ],
   "source": [
    "any(map(lambda x: print(x, end=\" \"), range(200)))"
   ]
  },
  {
   "attachments": {},
   "cell_type": "markdown",
   "metadata": {},
   "source": [
    "Powyższy kod pokazuje, że `map` wykonuje się leniwie i dopiero gdy wartości są potrzebne. Z drugiej strony `any` spowodował zewaluowanie (pobranie wartości) dla całej tablicy. Czemu więc wciąż nazywamy funkcje `any` i `all` leniwymi?"
   ]
  },
  {
   "cell_type": "markdown",
   "metadata": {},
   "source": [
    "`zip` również nie wykonuje się a wyłącznie zwraca obiekt, który ma zostać wykonany w przyszłości."
   ]
  },
  {
   "cell_type": "code",
   "execution_count": null,
   "metadata": {},
   "outputs": [
    {
     "data": {
      "text/plain": [
       "<zip at 0x127ea5879c0>"
      ]
     },
     "execution_count": 67,
     "metadata": {},
     "output_type": "execute_result"
    }
   ],
   "source": [
    "zip(map(lambda x: x ** 1.3 - x ** 1.2 + x, range(1000000)), range(1000000))"
   ]
  },
  {
   "cell_type": "markdown",
   "metadata": {},
   "source": [
    "### Nieskończone kolekcje z [itertools](https://docs.python.org/3/library/itertools.html)"
   ]
  },
  {
   "cell_type": "markdown",
   "metadata": {},
   "source": [
    "Czasami potrzebujemy szukać pewnych wartości na nieokreślenie długich zakresach. Może być wtedy przydatne stworzenie nieskończonej kolekcji. Moduł `itertools` udostępnia nam wiele takich funkcjonalności, jak [count](https://docs.python.org/3/library/itertools.html#itertools.count), [cycle](https://docs.python.org/3/library/itertools.html#itertools.cycle) czy [repeat](https://docs.python.org/3/library/itertools.html#itertools.repeat)."
   ]
  },
  {
   "cell_type": "code",
   "execution_count": null,
   "metadata": {},
   "outputs": [
    {
     "data": {
      "text/plain": [
       "[0, 1, 2, 3, 4, 5, 6, 7, 8, 9, 10, 11, 12, 13, 14, 15, 16, 17, 18, 19]"
      ]
     },
     "metadata": {},
     "output_type": "display_data"
    },
    {
     "data": {
      "text/plain": [
       "[0, 2, 1, 2, 5, 6, 0, 2, 1, 2, 5, 6, 0, 2, 1, 2, 5, 6, 0, 2]"
      ]
     },
     "metadata": {},
     "output_type": "display_data"
    },
    {
     "data": {
      "text/plain": [
       "[0, 2, 1, 2, 5, 6, 0, 2, 1, 2, 5, 6, 0, 2, 1, 2, 5, 6, 0, 2]"
      ]
     },
     "metadata": {},
     "output_type": "display_data"
    },
    {
     "data": {
      "text/plain": [
       "([5, 5, 5, 5, 5, 5, 5], [5, 5, 5, 5, 5, 5, 5])"
      ]
     },
     "execution_count": 68,
     "metadata": {},
     "output_type": "execute_result"
    }
   ],
   "source": [
    "from itertools import count, cycle, repeat, takewhile\n",
    "\n",
    "display(list(takewhile(lambda x: x < 20, count())))\n",
    "\n",
    "l = [0, 2, 1, 2, 5, 6]\n",
    "display(list(map(lambda x: x[1], takewhile(lambda x: x[0] < 20, zip(count(), cycle(l))))))\n",
    "display(list(map(lambda x: x[1], zip(range(20), cycle(l)))))\n",
    "\n",
    "list(repeat(5, 7)), [5] * 7"
   ]
  },
  {
   "cell_type": "code",
   "execution_count": null,
   "metadata": {},
   "outputs": [
    {
     "data": {
      "text/plain": [
       "190"
      ]
     },
     "execution_count": 69,
     "metadata": {},
     "output_type": "execute_result"
    }
   ],
   "source": [
    "import functools\n",
    "functools.reduce(lambda acc, x: acc + x, range(20), 0)"
   ]
  },
  {
   "cell_type": "markdown",
   "metadata": {},
   "source": [
    "### [Iteratory](https://wiki.python.org/moin/Iterator)"
   ]
  },
  {
   "cell_type": "markdown",
   "metadata": {},
   "source": [
    "Leniwe podejście przedstawione powyżej daje możliwość odroczenia pozyskania wartości. Możemy jednak również chcieć czasami nie tylko odraczać obliczanie wartości ale również nie przechowywać ich po wykorzystaniu."
   ]
  },
  {
   "cell_type": "markdown",
   "metadata": {},
   "source": [
    "Dla przykładu, $n$-tą liczbą Fibonacciego $F_n$ nazywamy taką liczbę, że $F_n = F_{n - 1} + F_{n - 2}$ i $F_0 = 0, F_1 = 1$. Oznacza to, że po wyznaczeniu iluś liczb Fibonacciego, do wyznaczenia kolejnej potrzebujemy wyłącznie dwóch poprzednich. Do tego typu zadań możemy wykorzystać tak zwane iteratory, to jest klasy, które udostępniają metody `__iter__` i `__next__`."
   ]
  },
  {
   "cell_type": "markdown",
   "metadata": {},
   "source": [
    "Załóżmy, że chcemy dostarczyć funkcjonalność zwracającą listę liczb Fibonacciego, a użytkownik chce, na przykład, policzyć sumę $n$ pierwszych. Prostym rozwiązaniem wtedy będzie:"
   ]
  },
  {
   "cell_type": "code",
   "execution_count": null,
   "metadata": {},
   "outputs": [
    {
     "name": "stdout",
     "output_type": "stream",
     "text": [
      "[0, 1, 1, 2, 3, 5, 8, 13, 21, 34]\n",
      "88\n"
     ]
    }
   ],
   "source": [
    "def fibs(n):\n",
    "    l = [0, 1]\n",
    "    for i in range(2, n):\n",
    "        l.append(l[-1] + l[-2])\n",
    "    return l\n",
    "\n",
    "print(fibs(10))\n",
    "print(sum(fibs(10)))"
   ]
  },
  {
   "cell_type": "markdown",
   "metadata": {},
   "source": [
    "Aby nie tworzyć całej wielkiej tablicy zajmującej mnóstwo pamięci, możemy stwożyć tak zwany iterator, który pozwoli nam na wykonywanie operacji, tak, jakby tablica istniała, zarazem przechowując wyłącznie kilka wartości na raz."
   ]
  },
  {
   "cell_type": "code",
   "execution_count": null,
   "metadata": {},
   "outputs": [
    {
     "name": "stdout",
     "output_type": "stream",
     "text": [
      "0 1 1 2 3 5 8 13 21 34 55 89 144 233 377 610 987 1597 2584 4181 6765 10946 17711 28657 46368 75025 121393 196418 317811 514229 832040 1346269 2178309 3524578 5702887 9227465 14930352 24157817 39088169 63245986 102334155 165580141 267914296 433494437 701408733 1134903170 1836311903 2971215073 4807526976 7778742049 12586269025 20365011074 32951280099 53316291173 86267571272 139583862445 225851433717 365435296162 591286729879 956722026041 1548008755920 2504730781961 4052739537881 6557470319842 10610209857723 17167680177565 27777890035288 44945570212853 72723460248141 117669030460994 190392490709135 308061521170129 498454011879264 806515533049393 1304969544928657 2111485077978050 3416454622906707 5527939700884757 8944394323791464 14472334024676221 23416728348467685 37889062373143906 61305790721611591 99194853094755497 160500643816367088 259695496911122585 420196140727489673 679891637638612258 1100087778366101931 1779979416004714189 2880067194370816120 4660046610375530309 7540113804746346429 12200160415121876738 19740274219868223167 31940434634990099905 51680708854858323072 83621143489848422977 135301852344706746049 218922995834555169026 "
     ]
    }
   ],
   "source": [
    "class FibonacciIterator:\n",
    "    def __init__(self, n):\n",
    "        self.n = n\n",
    "        self.a = 0\n",
    "        self.b = 1\n",
    "\n",
    "    def __iter__(self):\n",
    "        return self\n",
    "\n",
    "    def __next__(self):\n",
    "        self.n -= 1\n",
    "        if self.n < 0:\n",
    "            raise StopIteration\n",
    "        else:\n",
    "            self.a, self.b = self.a + self.b, self.a\n",
    "            return self.b\n",
    "\n",
    "\n",
    "iter = FibonacciIterator(100)\n",
    "for elem in iter:\n",
    "    print(elem, end=' ')"
   ]
  },
  {
   "attachments": {},
   "cell_type": "markdown",
   "metadata": {},
   "source": [
    "Teraz możemy na przykład stworzyć iterator Fibonacciego i pobrać z niego wyłącznie elementy będące podzielne przez $137$ i wyświetlić, na przykład, logarytm dziesiętny z tej liczby powiększonej o $11$.\n",
    "\n",
    "###### Logarytm to operacja będąca odwrotnością potęgowania. To jest, $\\log_a b = c \\iff a^c = b$\n",
    "###### Logarytm dziesiętny to $\\log_{10}$\n",
    "<font size = '1' color=\"red\">Logarytmy będą bardzo istotne w bloku \"Algorytmy i Struktury Danych\".</font>"
   ]
  },
  {
   "cell_type": "markdown",
   "metadata": {},
   "source": [
    "###### <font color=\"gray\">Ten kod jest czysto przykładowy a sam ciąg nie ma jakiegoś większego ukrytego sensu.</font>"
   ]
  },
  {
   "cell_type": "code",
   "execution_count": null,
   "metadata": {},
   "outputs": [
    {
     "name": "stdout",
     "output_type": "stream",
     "text": [
      "1.0413926851582251\n",
      "14.070662175080564\n",
      "28.490809352329055\n",
      "42.91095652957759\n",
      "57.33110370682612\n",
      "71.75125088407465\n",
      "86.17139806132319\n",
      "100.59154523857173\n",
      "115.01169241582025\n",
      "129.4318395930688\n",
      "143.85198677031732\n",
      "158.27213394756586\n",
      "172.69228112481437\n",
      "187.1124283020629\n",
      "201.53257547931145\n",
      "215.95272265655998\n",
      "230.37286983380852\n",
      "244.79301701105703\n",
      "259.2131641883056\n",
      "273.6333113655541\n",
      "288.0534585428026\n",
      "302.4736057200512\n",
      "316.8937528972997\n",
      "331.3139000745482\n",
      "345.73404725179677\n",
      "360.1541944290453\n",
      "374.57434160629384\n",
      "388.99448878354235\n",
      "403.4146359607909\n"
     ]
    }
   ],
   "source": [
    "from math import log10\n",
    "\n",
    "for f in map(lambda x: log10(x + 11), filter(lambda x: x % 137 == 0, FibonacciIterator(2000))):\n",
    "    print(f)"
   ]
  },
  {
   "cell_type": "markdown",
   "metadata": {},
   "source": [
    "### [Generatory](https://wiki.python.org/moin/Generators)"
   ]
  },
  {
   "cell_type": "markdown",
   "metadata": {},
   "source": [
    "Analogiczne działanie możemy uzyskać za pomocą tak zwanych generatorów. Zamiast tworzyć całą klasę z polami `__iter__` i `__next__` możemy skorzystać ze słowa kluczowego [yield](https://docs.python.org/3/reference/expressions.html#yield-expressions)."
   ]
  },
  {
   "cell_type": "markdown",
   "metadata": {},
   "source": [
    "Obszerniej w teorii programowania słowo-klucz `yield` zachowuje się jak `return` i zwraca wartość kończąc wywołanie funkcji. Przy kolejnym wywołaniu funkcji jednak ta kontynuuje działanie po tym `yield` właśnie.\n",
    "\n",
    "W Pythonie `yield` jest leniwy, co oznacza, że zamiast wyniku zwraca wyłącznie instrukcję jego wykonania i iteracji."
   ]
  },
  {
   "cell_type": "code",
   "execution_count": null,
   "metadata": {},
   "outputs": [
    {
     "name": "stdout",
     "output_type": "stream",
     "text": [
      "First execution\n",
      "1\n",
      "Second execution\n",
      "2\n"
     ]
    },
    {
     "data": {
      "text/plain": [
       "<generator object f at 0x00000127EF262660>"
      ]
     },
     "execution_count": 73,
     "metadata": {},
     "output_type": "execute_result"
    }
   ],
   "source": [
    "def f():\n",
    "    print(\"First execution\")\n",
    "    yield 1\n",
    "    print(\"Second execution\")\n",
    "    yield 2\n",
    "\n",
    "for i in f():\n",
    "    print(i)\n",
    "\n",
    "f()"
   ]
  },
  {
   "attachments": {},
   "cell_type": "markdown",
   "metadata": {},
   "source": [
    "Ciąg Fibonacciego zrobiony z pomocą generatora."
   ]
  },
  {
   "cell_type": "code",
   "execution_count": null,
   "metadata": {},
   "outputs": [
    {
     "name": "stdout",
     "output_type": "stream",
     "text": [
      "0 1 1 2 3 5 8 13 21 34 55 89 144 233 377 610 987 1597 2584 4181 6765 10946 17711 28657 46368 75025 121393 196418 317811 514229 832040 1346269 2178309 3524578 5702887 9227465 14930352 24157817 39088169 63245986 102334155 165580141 267914296 433494437 701408733 1134903170 1836311903 2971215073 4807526976 7778742049 12586269025 20365011074 32951280099 53316291173 86267571272 139583862445 225851433717 365435296162 591286729879 956722026041 1548008755920 2504730781961 4052739537881 6557470319842 10610209857723 17167680177565 27777890035288 44945570212853 72723460248141 117669030460994 190392490709135 308061521170129 498454011879264 806515533049393 1304969544928657 2111485077978050 3416454622906707 5527939700884757 8944394323791464 14472334024676221 23416728348467685 37889062373143906 61305790721611591 99194853094755497 160500643816367088 259695496911122585 420196140727489673 679891637638612258 1100087778366101931 1779979416004714189 2880067194370816120 4660046610375530309 7540113804746346429 12200160415121876738 19740274219868223167 31940434634990099905 51680708854858323072 83621143489848422977 135301852344706746049 218922995834555169026 "
     ]
    }
   ],
   "source": [
    "def fib():\n",
    "    a, b = 1, 0\n",
    "    while True:\n",
    "        yield b\n",
    "        a, b = a + b, a\n",
    "\n",
    "l = zip(range(100), fib())\n",
    "for (i, f) in l:\n",
    "    print(f, end=' ')"
   ]
  },
  {
   "cell_type": "markdown",
   "metadata": {},
   "source": [
    "## Wyrażenia regularne"
   ]
  },
  {
   "cell_type": "markdown",
   "metadata": {},
   "source": [
    "### Problem:\n",
    "\n",
    "Często przeszukując tekst musimy znaleźć wystąpienia pewnych podciągów spełniających pewien wzorzec. Kiedy indziej musimy wyodrębnić dane (data, numer serii, nazwa zbioru...) z nazw lub nagłówków plików.\n",
    "Jak możemy znaleźć wystąpienia pewnego wzorca w tekście? Jak wyodrębnić te wystąpienia? Jak odczytać numer zawarty w nazwie pliku?"
   ]
  },
  {
   "attachments": {},
   "cell_type": "markdown",
   "metadata": {},
   "source": [
    "### [Wyrażenie regularne](https://en.wikipedia.org/wiki/Regular_expression) lub regex jest tekstem opisującym cechy spełniane przez inny tekst.\n",
    "\n",
    "Przykładowo `\"(Ala ma kota|Sierotka ma rysia).*\"` oznacza, że opisany tekst będzie zaczynał się od `\"Ala ma kota\"` albo od `\"Sierotka ma rysia\"`.\n",
    "\n",
    "Instrukcje tworzenia oraz interaktywny tester wyrażeń regularnych są udostępnione przez [RegExr](https://regexr.com/)."
   ]
  },
  {
   "cell_type": "markdown",
   "metadata": {},
   "source": [
    "### Pakiet [re](https://docs.python.org/3/library/re.html)"
   ]
  },
  {
   "cell_type": "markdown",
   "metadata": {},
   "source": [
    "Poniższy przykład został wygenerowany przez [asystenta OpenAI](https://chat.openai.com/chat) w odpowiedzi na pytanie `do you have some nice examples of package re in python?`."
   ]
  },
  {
   "cell_type": "code",
   "execution_count": null,
   "metadata": {},
   "outputs": [
    {
     "name": "stdout",
     "output_type": "stream",
     "text": [
      "['The', 'the']\n",
      "THE quick brown fox jumps over THE lazy dog.\n",
      "['', ' quick brown fox jumps over ', ' lazy dog.']\n",
      "<re.Match object; span=(0, 44), match='The quick brown fox jumps over the lazy dog.'>\n"
     ]
    }
   ],
   "source": [
    "# This code is an example of how to use the re package in Python.\n",
    "# The code was provided by Assistant, a large language model trained by OpenAI.\n",
    "\n",
    "import re\n",
    "\n",
    "# Find all occurrences of a pattern in a string\n",
    "string = \"The quick brown fox jumps over the lazy dog.\"\n",
    "pattern = \"the\"\n",
    "result = re.findall(pattern, string, flags=re.IGNORECASE)\n",
    "print(result)\n",
    "# Output: ['The', 'the', 'the']\n",
    "\n",
    "# Replace all occurrences of a pattern in a string\n",
    "string = \"The quick brown fox jumps over the lazy dog.\"\n",
    "pattern = \"the\"\n",
    "replacement = \"THE\"\n",
    "result = re.sub(pattern, replacement, string, flags=re.IGNORECASE)\n",
    "print(result)\n",
    "# Output: \"THE quick brown fox jumps over THE lazy dog.\"\n",
    "\n",
    "# Split a string by a pattern\n",
    "string = \"The quick brown fox jumps over the lazy dog.\"\n",
    "pattern = \"the\"\n",
    "result = re.split(pattern, string, flags=re.IGNORECASE)\n",
    "print(result)\n",
    "# Output: ['The quick brown fox jumps over ', ' lazy dog.']\n",
    "\n",
    "# Check if a string matches a pattern\n",
    "string = \"The quick brown fox jumps over the lazy dog.\"\n",
    "pattern = \"the quick brown Fox jumps over the lazy Dog.\"\n",
    "result = re.fullmatch(pattern, string, flags=re.IGNORECASE)\n",
    "print(result)\n",
    "# Output: <re.Match object; span=(0, 44), match='The quick brown fox jumps over the lazy dog.'>"
   ]
  },
  {
   "cell_type": "code",
   "execution_count": null,
   "metadata": {},
   "outputs": [
    {
     "name": "stdout",
     "output_type": "stream",
     "text": [
      "<re.Match object; span=(0, 17), match='Tomasz W. (33 l.)'>\n",
      "('Tomasz W.', '33')\n",
      "Tomasz W. (33 l.)\n",
      "Tomasz W.\n",
      "33\n",
      "[('Tomasz', '33'), ('Ewa', '24')]\n"
     ]
    }
   ],
   "source": [
    "text = \"Tomasz W. (33 l.), widziany ostatnio w Krakowie\"\n",
    "pattern = r\"([A-Z][a-z]+ [A-Z]\\.) \\((\\d+) l\\.\\)\"\n",
    "match = re.search(pattern, text)\n",
    "if match:\n",
    "    print(match)\n",
    "    print(match.groups())\n",
    "    print(match.group(0))\n",
    "    print(match.group(1))\n",
    "    print(match.group(2))\n",
    "\n",
    "text = \"Tomasz (33 l.) i Ewa (24 l.) umówili się na jutro na wspólne zakupy\"\n",
    "pattern = r\"([A-Z][a-z]+) \\((\\d+) l\\.\\)\"\n",
    "print(re.findall(pattern, text))"
   ]
  },
  {
   "attachments": {},
   "cell_type": "markdown",
   "metadata": {},
   "source": [
    "### Elementy wzorców"
   ]
  },
  {
   "attachments": {},
   "cell_type": "markdown",
   "metadata": {},
   "source": [
    "#### Grupy\n",
    "\n",
    "Jeżeli chcemy przechwycić konkretną część tekstu, otoczonego przez inny tekst, używamy okrągłych nawiasów (`( )`). W przypadku, gdy chcemy, by grupa była wykorzystana do tworzenia wzorca, ale nie była rozpatrywana jako przechwycona dodajemy za otwierającym nawiasem `?:`."
   ]
  },
  {
   "attachments": {},
   "cell_type": "markdown",
   "metadata": {},
   "source": [
    "#### Kwantyfikatory i alteracje"
   ]
  },
  {
   "attachments": {},
   "cell_type": "markdown",
   "metadata": {},
   "source": [
    "Żeby zaznaczyć, że wzorzec ma wystąpić `n` razy używamy nawiasów klamrowych (`{ }`) z `n` w środku (`{n}`). Gdy chcemy, żeby dopasowało co najmniej `n` razy dodajemy po `n` przecinek (`{n,}`). Gdy chcemy by wystąpienia były pomiędzy `n` a `m` razy, rozdzielamy je przecinkiem (`{n,m}`).\n",
    "\n",
    "Możemy również napisać po wzorcu `*` gdy chcemy, żeby wzorzec wystąpił dowolną ilość razy, `+` gdy chcemy, żeby wzorzec wystąpił co najmniej raz oraz `?` gdy chcemy, żeby wzorzec wystąpił najwyżej raz."
   ]
  },
  {
   "attachments": {},
   "cell_type": "markdown",
   "metadata": {},
   "source": [
    "Możemy przekazać dwa wzorce do spełnienia jako alternatywy rozdzielając je `|`."
   ]
  },
  {
   "attachments": {},
   "cell_type": "markdown",
   "metadata": {},
   "source": [
    "#### Ukotwiczenia"
   ]
  },
  {
   "attachments": {},
   "cell_type": "markdown",
   "metadata": {},
   "source": [
    "#### Klasy znaków"
   ]
  },
  {
   "attachments": {},
   "cell_type": "markdown",
   "metadata": {},
   "source": [
    "#### Przeszukiwanie"
   ]
  },
  {
   "attachments": {},
   "cell_type": "markdown",
   "metadata": {},
   "source": [
    "Wykorzystajmy pakiet `re` do sprawdzenia ile razy w Bibli ([World English Bible](https://github.com/scrollmapper/bible_databases)) występują słowa `hate`, `kill` i `love`."
   ]
  },
  {
   "cell_type": "code",
   "execution_count": null,
   "metadata": {},
   "outputs": [],
   "source": [
    "%pip install freebible\n",
    "clear_output()\n",
    "\n",
    "from freebible import read_web\n",
    "import re"
   ]
  },
  {
   "cell_type": "code",
   "execution_count": null,
   "metadata": {},
   "outputs": [
    {
     "data": {
      "text/plain": [
       "4374410"
      ]
     },
     "execution_count": 78,
     "metadata": {},
     "output_type": "execute_result"
    }
   ],
   "source": [
    "web = read_web()\n",
    "text = ''.join(\n",
    "    [''.join(\n",
    "        [''.join(\n",
    "            [str(verse) for verse in chapter]\n",
    "            ) for chapter in web[key]]\n",
    "        ) for key in web.keys()]\n",
    "    )\n",
    "len(text)"
   ]
  },
  {
   "cell_type": "code",
   "execution_count": null,
   "metadata": {},
   "outputs": [
    {
     "name": "stdout",
     "output_type": "stream",
     "text": [
      "97\n",
      "230\n",
      "352\n"
     ]
    }
   ],
   "source": [
    "print(len(re.findall(r\"[\\s\\]]hate[ \\.,;\\?!]\", text, flags=re.IGNORECASE)))\n",
    "print(len(re.findall(r\"[\\s\\]]kill[ \\.,;\\?!]\", text, flags=re.IGNORECASE)))\n",
    "print(len(re.findall(r\"[\\s\\]]love[ \\.,;\\?!]\", text, flags=re.IGNORECASE)))"
   ]
  },
  {
   "attachments": {},
   "cell_type": "markdown",
   "metadata": {},
   "source": [
    "Policzmy też, jak często występują zdania o różnych długościach."
   ]
  },
  {
   "cell_type": "code",
   "execution_count": null,
   "metadata": {},
   "outputs": [
    {
     "data": {
      "text/plain": [
       "[<matplotlib.lines.Line2D at 0x127eeeba760>]"
      ]
     },
     "execution_count": 80,
     "metadata": {},
     "output_type": "execute_result"
    },
    {
     "data": {
      "image/png": "[encoded data removed]",
      "text/plain": [
       "<Figure size 432x288 with 1 Axes>"
      ]
     },
     "metadata": {
      "needs_background": "light"
     },
     "output_type": "display_data"
    }
   ],
   "source": [
    "sentences = re.findall(r\"[A-Z](?:\\w*[,;]? )*\\w*[\\.!\\?]\", text)\n",
    "lengths = [len(re.findall(r\"\\w*\", sentence)) for sentence in sentences]\n",
    "buckets = [0] * (max(lengths) + 1)\n",
    "for length in lengths:\n",
    "    buckets[length] += 1\n",
    "\n",
    "from matplotlib import pyplot as plt\n",
    "plt.plot(buckets)"
   ]
  },
  {
   "attachments": {},
   "cell_type": "markdown",
   "metadata": {},
   "source": [
    "Czy to poprawna metoda?"
   ]
  },
  {
   "cell_type": "markdown",
   "metadata": {},
   "source": [
    "## Profilowanie kodu"
   ]
  },
  {
   "cell_type": "markdown",
   "metadata": {},
   "source": [
    "### Problem:\n",
    "\n",
    "Często bardzo mała część kodu odpowiada za znaczną część czasu wykonania. W jaki sposób możemy zmierzyć czas i wydajność kodu? Jak powinniśmy porównywać wydajność?"
   ]
  },
  {
   "attachments": {},
   "cell_type": "markdown",
   "metadata": {},
   "source": [
    "### Przykładowe biblioteki do profilowania kodu"
   ]
  },
  {
   "cell_type": "markdown",
   "metadata": {},
   "source": [
    "Odpowiedź [asystenta OpenAI](https://chat.openai.com/chat) na pytanie `what method of code profiling would you recommend for Python?`.\n",
    "\n",
    "There are several methods of code profiling that can be used with Python, and the best method to use will depend on your specific goals and needs. Some common methods of code profiling in Python include:\n",
    "\n",
    " * The [timeit](https://docs.python.org/3/library/timeit.html) module, which can be used to measure the execution time of small pieces of code\n",
    " * The [cProfile](https://docs.python.org/3/library/profile.html#module-cProfile) module, which provides a detailed breakdown of the execution time of a program\n",
    " * The [line_profiler](https://github.com/pyutils/line_profiler) and [memory_profiler](https://github.com/pythonprofilers/memory_profiler) modules, which can be used to profile the execution time and memory usage of specific lines of code\n",
    "\n",
    "Each of these methods has its own strengths and limitations, and the best method to use will depend on the specific goals and needs of your project. Here is some more information about each of these methods:\n",
    "\n",
    " * The `timeit` module is a simple and easy-to-use method of profiling the execution time of small pieces of code. It provides a `timeit.timeit()` function that can be used to measure the time it takes for a given piece of code to run a specified number of times. This method is best suited for measuring the execution time of small, isolated pieces of code.\n",
    "\n",
    " * The `cProfile` module provides a more detailed and comprehensive view of the execution time of a Python program. It provides a `cProfile.run()` function that can be used to profile a Python program and generate a report that includes information about the execution time of each function in the program. This method is best suited for profiling larger, more complex programs and understanding the performance characteristics of different parts of the code.\n",
    "\n",
    " * The `line_profiler` and `memory_profiler` modules provide more specialized methods of profiling the execution time and memory usage of specific lines of code. These modules can be used to profile a Python program and generate a report that includes information about the execution time and memory usage of individual lines of code. This method is best suited for identifying and optimizing the performance of specific parts of a program."
   ]
  },
  {
   "cell_type": "markdown",
   "metadata": {},
   "source": [
    "### timeit"
   ]
  },
  {
   "cell_type": "code",
   "execution_count": null,
   "metadata": {},
   "outputs": [
    {
     "name": "stdout",
     "output_type": "stream",
     "text": [
      "8.800000003361674e-06\n"
     ]
    }
   ],
   "source": [
    "import timeit\n",
    "\n",
    "setup = \"from math import sqrt\"\n",
    "\n",
    "code = '''\n",
    "def func():\n",
    "    return [sqrt(x) for x in range(1000000000000000000000)]\n",
    "'''\n",
    "\n",
    "print(timeit.timeit(stmt=code, setup=setup, number=100))"
   ]
  },
  {
   "cell_type": "markdown",
   "metadata": {},
   "source": [
    "Czemu powyższy kod działa tak szybko?"
   ]
  },
  {
   "cell_type": "code",
   "execution_count": null,
   "metadata": {},
   "outputs": [
    {
     "name": "stdout",
     "output_type": "stream",
     "text": [
      "1.0251647999999989\n"
     ]
    }
   ],
   "source": [
    "setup = \"from math import sqrt\"\n",
    "\n",
    "code = '''\n",
    "[sqrt(x) for x in range(10000)]\n",
    "'''\n",
    "\n",
    "print(timeit.timeit(stmt=code, setup=setup, number=1000))"
   ]
  },
  {
   "attachments": {},
   "cell_type": "markdown",
   "metadata": {},
   "source": [
    "Po wykonaniu kodu z `setup` `timeit.timeit` wywołuje kod wprowadzony w `stmt` `number` powtórzeń.\n",
    "\n",
    "Analogicznie możemy to wykonać własnoręcznie pobierając aktualny czas z `timeit.default_timer`."
   ]
  },
  {
   "cell_type": "code",
   "execution_count": null,
   "metadata": {},
   "outputs": [
    {
     "name": "stdout",
     "output_type": "stream",
     "text": [
      "9.8934274\n"
     ]
    }
   ],
   "source": [
    "from math import sqrt\n",
    "\n",
    "start = timeit.default_timer()\n",
    "for i in range(1000000):\n",
    "    [sqrt(x) for x in range(100)]\n",
    "print(timeit.default_timer() - start)"
   ]
  },
  {
   "cell_type": "code",
   "execution_count": null,
   "metadata": {},
   "outputs": [
    {
     "name": "stdout",
     "output_type": "stream",
     "text": [
      "982 µs ± 2.2 µs per loop (mean ± std. dev. of 7 runs, 1000 loops each)\n"
     ]
    }
   ],
   "source": [
    "%timeit [sqrt(x) for x in range(10000)]"
   ]
  },
  {
   "cell_type": "code",
   "execution_count": null,
   "metadata": {},
   "outputs": [
    {
     "name": "stdout",
     "output_type": "stream",
     "text": [
      "37.6 ms ± 183 µs per loop (mean ± std. dev. of 7 runs, 10 loops each)\n"
     ]
    }
   ],
   "source": [
    "%%timeit\n",
    "c = 0\n",
    "for i in range(1000000):\n",
    "    c += i"
   ]
  },
  {
   "cell_type": "markdown",
   "metadata": {},
   "source": [
    "### cProfile"
   ]
  },
  {
   "cell_type": "markdown",
   "metadata": {},
   "source": [
    "Kod wygenerowany przez [asystenta OpenAI](https://chat.openai.com/chat)"
   ]
  },
  {
   "cell_type": "code",
   "execution_count": null,
   "metadata": {},
   "outputs": [
    {
     "name": "stdout",
     "output_type": "stream",
     "text": [
      "         11 function calls in 0.000 seconds\n",
      "\n",
      "   Ordered by: standard name\n",
      "\n",
      "   ncalls  tottime  percall  cumtime  percall filename:lineno(function)\n",
      "        1    0.000    0.000    0.000    0.000 157748990.py:12(main)\n",
      "        1    0.000    0.000    0.000    0.000 157748990.py:6(add_lists)\n",
      "        1    0.000    0.000    0.000    0.000 <string>:1(<module>)\n",
      "        1    0.000    0.000    0.000    0.000 {built-in method builtins.exec}\n",
      "        1    0.000    0.000    0.000    0.000 {built-in method builtins.len}\n",
      "        5    0.000    0.000    0.000    0.000 {method 'append' of 'list' objects}\n",
      "        1    0.000    0.000    0.000    0.000 {method 'disable' of '_lsprof.Profiler' objects}\n",
      "\n",
      "\n"
     ]
    }
   ],
   "source": [
    "# This code is an example of how to use the re package in Python.\n",
    "# The code was provided by Assistant, a large language model trained by OpenAI.\n",
    "\n",
    "import cProfile\n",
    "\n",
    "def add_lists(a, b):\n",
    "    c = []\n",
    "    for i in range(len(a)):\n",
    "        c.append(a[i] + b[i])\n",
    "    return c\n",
    "\n",
    "def main():\n",
    "    a = [1, 2, 3, 4, 5]\n",
    "    b = [6, 7, 8, 9, 10]\n",
    "    c = add_lists(a, b)\n",
    "\n",
    "# Profile the execution of the main() function\n",
    "cProfile.run('main()')\n"
   ]
  },
  {
   "cell_type": "markdown",
   "metadata": {},
   "source": [
    "### Graficzna reprezentacja wydajności"
   ]
  },
  {
   "cell_type": "markdown",
   "metadata": {},
   "source": [
    "Do wyświetlania wykresów wykorzystujemy bibliotekę [matplotlib](https://matplotlib.org/)."
   ]
  },
  {
   "cell_type": "code",
   "execution_count": null,
   "metadata": {},
   "outputs": [
    {
     "data": {
      "image/png": "[encoded data removed]",
      "text/plain": [
       "<Figure size 432x288 with 1 Axes>"
      ]
     },
     "metadata": {
      "needs_background": "light"
     },
     "output_type": "display_data"
    }
   ],
   "source": [
    "from matplotlib import pyplot as plt\n",
    "\n",
    "plt.plot([1, 5, 2, 3])\n",
    "plt.show()"
   ]
  },
  {
   "cell_type": "code",
   "execution_count": null,
   "metadata": {},
   "outputs": [
    {
     "data": {
      "text/plain": [
       "[<matplotlib.lines.Line2D at 0x127eefa89a0>]"
      ]
     },
     "execution_count": 88,
     "metadata": {},
     "output_type": "execute_result"
    },
    {
     "data": {
      "image/png": "[encoded data removed]",
      "text/plain": [
       "<Figure size 432x288 with 1 Axes>"
      ]
     },
     "metadata": {
      "needs_background": "light"
     },
     "output_type": "display_data"
    }
   ],
   "source": [
    "from random import random\n",
    "from timeit import default_timer\n",
    "N = 1000\n",
    "times = []\n",
    "ns = range(N, N * 100, N)\n",
    "for n in ns:\n",
    "    l = [random() for _ in range(n)]\n",
    "    start = default_timer()\n",
    "    l.sort()\n",
    "    times.append(default_timer() - start)\n",
    "\n",
    "plt.plot(list(ns), times)\n"
   ]
  },
  {
   "cell_type": "markdown",
   "metadata": {},
   "source": [
    "## Wielowątkowość"
   ]
  },
  {
   "attachments": {},
   "cell_type": "markdown",
   "metadata": {},
   "source": [
    "### Problem:\n",
    "\n",
    "Czas wykonania kodu może być ograniczony przez trzy czynniki: przetwarzanie danych, pobieranie danych oraz zewnętrzne systemy. Jeżeli jest to kwestia zewnętrznych systemów, to nasz program jest nieaktywny. Możemy w tym czasie wykonywać inne zadania. W jaki sposób możemy uruchomić zadanie w czasie, gdy kod czeka na otrzymanie wyniku z innego? W jaki sposób możemy wykonać kilka zadań w tym samym czasie? W jaki sposób możemy podzielić wykonanie zadania na kilka równoległych?"
   ]
  },
  {
   "cell_type": "markdown",
   "metadata": {},
   "source": [
    "### Wątek"
   ]
  },
  {
   "cell_type": "markdown",
   "metadata": {},
   "source": [
    "Program jest [procesem](https://en.wikipedia.org/wiki/Process_(computing)) z ewentualnym zestawem podprocesów. Każdy proces posiada swój zarezerwowany obszar pamięci oraz swój proces-rodzica, który nim zarządza. Tworzenie oddzielnych procesów jest kosztowne, dla małych, równoległych operacji możemy zamiast tego wykorzystać tak zwane [wątki](https://en.wikipedia.org/wiki/Thread_(computing)). Są to lekkie, równolegle wykonujące się zestawy operacji, które korzystają z tej samej przestrzeni pamięci."
   ]
  },
  {
   "cell_type": "markdown",
   "metadata": {},
   "source": [
    "Do tworzenia i zarządzania wątkami w Pythonie korzystamy z biblioteki [threading](https://docs.python.org/3/library/threading.html)."
   ]
  },
  {
   "cell_type": "markdown",
   "metadata": {},
   "source": [
    "#### [threading.start](https://docs.python.org/3/library/threading.html#threading.Thread.start)"
   ]
  },
  {
   "cell_type": "code",
   "execution_count": null,
   "metadata": {},
   "outputs": [
    {
     "name": "stdout",
     "output_type": "stream",
     "text": [
      "Am I finished?\n"
     ]
    }
   ],
   "source": [
    "from threading import Thread\n",
    "from time import sleep\n",
    "from random import random\n",
    "\n",
    "def countTo10():\n",
    "    for i in range(10):\n",
    "        sleep(random() * 0.1)\n",
    "        print(i, end='')\n",
    "\n",
    "t1 = Thread(target=countTo10)\n",
    "t2 = Thread(target=countTo10)\n",
    "t1.start()\n",
    "t2.start()\n",
    "print(\"Am I finished?\")"
   ]
  },
  {
   "cell_type": "markdown",
   "metadata": {},
   "source": [
    "#### [threading.join](https://docs.python.org/3/library/threading.html#threading.Thread.join)"
   ]
  },
  {
   "cell_type": "code",
   "execution_count": null,
   "metadata": {},
   "outputs": [
    {
     "name": "stdout",
     "output_type": "stream",
     "text": [
      "0102I start my sleep\n",
      "Am I finished?\n",
      "12343564758967890 1 2 3 4 I go asleep again\n",
      "5 6 7 8 9 I am finished now\n"
     ]
    }
   ],
   "source": [
    "from threading import Thread\n",
    "from time import sleep\n",
    "from random import random\n",
    "\n",
    "def countTo10():\n",
    "    for i in range(10):\n",
    "        sleep(random())\n",
    "        print(i, end=' ')\n",
    "\n",
    "def sleep6s():\n",
    "    print(\"I start my sleep\")\n",
    "    sleep(3)\n",
    "    print(\"I go asleep again\")\n",
    "    sleep(3)\n",
    "\n",
    "t1 = Thread(target=countTo10)\n",
    "t2 = Thread(target=sleep6s)\n",
    "t1.start()\n",
    "t2.start()\n",
    "print(\"Am I finished?\")\n",
    "t1.join()\n",
    "t2.join()\n",
    "print(\"I am finished now\")"
   ]
  },
  {
   "cell_type": "markdown",
   "metadata": {},
   "source": [
    "#### Wątki z argumentami"
   ]
  },
  {
   "cell_type": "code",
   "execution_count": null,
   "metadata": {},
   "outputs": [
    {
     "name": "stdout",
     "output_type": "stream",
     "text": [
      "Am I finished?\n",
      "010212345346789"
     ]
    }
   ],
   "source": [
    "import threading\n",
    "from time import sleep\n",
    "from random import random\n",
    "\n",
    "def countToN(n):\n",
    "    for i in range(n):\n",
    "        sleep(random() * 0.1)\n",
    "        print(i, end='')\n",
    "\n",
    "t1 = threading.Thread(target=countToN, args=(5,))\n",
    "t2 = threading.Thread(target=countToN, args=(10,))\n",
    "t1.start()\n",
    "t2.start()\n",
    "print(\"Am I finished?\")\n",
    "t1.join()\n",
    "t2.join()"
   ]
  },
  {
   "cell_type": "code",
   "execution_count": null,
   "metadata": {},
   "outputs": [
    {
     "name": "stdout",
     "output_type": "stream",
     "text": [
      "Am I finished?\n",
      "1: Hello 0th time\n",
      "0: Hello 0th time\n",
      "1: Hello 1th time\n",
      "0: Hello 1th time\n",
      "1: Hello 2th time\n",
      "1: Hello 3th time0: Hello 2th time\n",
      "\n",
      "1: Hello 4th time0: Hello 3th time\n",
      "\n",
      "0: Hello 4th time\n",
      "1: Hello 5th time\n",
      "0: Hello 5th time\n",
      "1: Hello 6th time\n",
      "0: Hello 6th time\n",
      "1: Hello 7th time\n",
      "0: Hello 7th time\n",
      "1: Hello 8th time\n",
      "0: Hello 8th time\n",
      "1: Hello 9th time\n",
      "0: Hello 9th time\n",
      "1: Hello 10th time\n",
      "0: Hello 10th time\n",
      "0: Hello 11th time\n",
      "1: Hello 11th time\n",
      "0: Hello 12th time1: Hello 12th time\n",
      "\n",
      "0: Hello 13th time\n",
      "0: Hello 14th time\n",
      "0: Hello 15th time1: Hello 13th time\n",
      "\n",
      "0: Hello 16th time\n",
      "0: Hello 17th time\n",
      "1: Hello 14th time\n",
      "1: Hello 15th time\n",
      "1: Hello 16th time\n",
      "0: Hello 18th time\n",
      "0: Hello 19th time\n",
      "1: Hello 17th time\n",
      "0: Hello 20th time\n",
      "1: Hello 18th time\n",
      "1: Hello 19th time\n",
      "0: Hello 21th time\n",
      "0: Hello 22th time\n",
      "1: Hello 20th time\n",
      "1: Hello 21th time\n",
      "1: Hello 22th time0: Hello 23th time\n",
      "\n",
      "0: Hello 24th time\n",
      "1: Hello 23th time0: Hello 25th time\n",
      "\n",
      "0: Hello 26th time\n",
      "0: Hello 27th time\n",
      "1: Hello 24th time\n",
      "0: Hello 28th time\n",
      "1: Hello 25th time0: Hello 29th time\n",
      "\n",
      "1: Hello 26th time\n",
      "0: Hello 30th time\n",
      "0: Hello 31th time\n",
      "1: Hello 27th time\n",
      "1: Hello 28th time\n",
      "1: Hello 29th time\n",
      "1: Hello 30th time\n",
      "0: Hello 32th time\n",
      "1: Hello 31th time\n",
      "0: Hello 33th time\n",
      "1: Hello 32th time0: Hello 34th time\n",
      "\n",
      "1: Hello 33th time\n",
      "1: Hello 34th time0: Hello 35th time\n",
      "\n",
      "1: Hello 35th time\n",
      "0: Hello 36th time\n",
      "0: Hello 37th time1: Hello 36th time\n",
      "\n",
      "0: Hello 38th time\n",
      "1: Hello 37th time\n",
      "1: Hello 38th time\n",
      "0: Hello 39th time\n",
      "1: Hello 39th time\n",
      "1: Hello 40th time\n",
      "1: Hello 41th time\n",
      "0: Hello 40th time1: Hello 42th time\n",
      "\n",
      "0: Hello 41th time\n",
      "0: Hello 42th time\n",
      "1: Hello 43th time\n",
      "0: Hello 43th time\n",
      "0: Hello 44th time\n",
      "1: Hello 44th time0: Hello 45th time\n",
      "\n",
      "1: Hello 45th time0: Hello 46th time\n",
      "\n",
      "1: Hello 46th time0: Hello 47th time\n",
      "\n",
      "0: Hello 48th time\n",
      "0: Hello 49th time1: Hello 47th time\n",
      "\n",
      "1: Hello 48th time\n",
      "1: Hello 49th time\n"
     ]
    }
   ],
   "source": [
    "import threading\n",
    "from time import sleep\n",
    "from random import random\n",
    "\n",
    "def greet(k, n):\n",
    "    for i in range(n):\n",
    "        sleep(random() * 0.1)\n",
    "        print(f\"{k}: Hello {i}th time\")\n",
    "\n",
    "t1 = threading.Thread(target=greet, args=(0, 50))\n",
    "t2 = threading.Thread(target=greet, args=(1, 50))\n",
    "t1.start()\n",
    "t2.start()\n",
    "print(\"Am I finished?\")\n",
    "t1.join()\n",
    "t2.join()"
   ]
  },
  {
   "cell_type": "markdown",
   "metadata": {},
   "source": [
    "#### [Wyścig](https://en.wikipedia.org/wiki/Race_condition)"
   ]
  },
  {
   "cell_type": "code",
   "execution_count": null,
   "metadata": {},
   "outputs": [
    {
     "name": "stdout",
     "output_type": "stream",
     "text": [
      "1041470\n"
     ]
    }
   ],
   "source": [
    "from threading import Thread\n",
    "from time import sleep\n",
    "from random import random\n",
    "\n",
    "sharedCounter = 0\n",
    "def add1000000():\n",
    "    global sharedCounter\n",
    "    for i in range(1000000):\n",
    "        sharedCounter += 1\n",
    "\n",
    "t1 = Thread(target=add1000000)\n",
    "t2 = Thread(target=add1000000)\n",
    "t1.start()\n",
    "t2.start()\n",
    "t1.join()\n",
    "t2.join()\n",
    "print(sharedCounter)"
   ]
  },
  {
   "attachments": {},
   "cell_type": "markdown",
   "metadata": {},
   "source": [
    "#### [Lock](https://docs.python.org/3/library/threading.html#threading.Lock)"
   ]
  },
  {
   "cell_type": "code",
   "execution_count": null,
   "metadata": {},
   "outputs": [
    {
     "name": "stdout",
     "output_type": "stream",
     "text": [
      "2000000\n"
     ]
    }
   ],
   "source": [
    "from threading import Thread, Lock\n",
    "from time import sleep\n",
    "from random import random\n",
    "\n",
    "lock = Lock()\n",
    "sharedCounter = 0\n",
    "\n",
    "def add1():\n",
    "    global sharedCounter\n",
    "    lock.acquire()\n",
    "    sharedCounter += 1\n",
    "    lock.release()\n",
    "\n",
    "def add1_2():\n",
    "    global sharedCounter\n",
    "    with lock:\n",
    "        sharedCounter += 1\n",
    "\n",
    "def add1000000():\n",
    "    global sharedCounter\n",
    "    for i in range(1000000):\n",
    "        add1()\n",
    "\n",
    "t1 = Thread(target=add1000000)\n",
    "t2 = Thread(target=add1000000)\n",
    "t1.start()\n",
    "t2.start()\n",
    "t1.join()\n",
    "t2.join()\n",
    "print(sharedCounter)"
   ]
  },
  {
   "cell_type": "markdown",
   "metadata": {},
   "source": [
    "#### Zwracanie wartości przez wątek"
   ]
  },
  {
   "cell_type": "code",
   "execution_count": null,
   "metadata": {},
   "outputs": [
    {
     "data": {
      "text/plain": [
       "50003252.168345265"
      ]
     },
     "execution_count": 95,
     "metadata": {},
     "output_type": "execute_result"
    }
   ],
   "source": [
    "from threading import Thread\n",
    "from random import random\n",
    "\n",
    "N = 10000\n",
    "M = 100\n",
    "results = [0] * M\n",
    "\n",
    "\n",
    "arr = [[random() for j in range(N)] for i in range(N)]\n",
    "\n",
    "def calculateSum(arr, n, k, results):\n",
    "    results[n] = sum([sum(row) for row in arr[n * k: n * k + k]])\n",
    "\n",
    "threads = [Thread(target=calculateSum, args=(arr, i, N // M, results)) for i in range(M)]\n",
    "for thread in threads:\n",
    "    thread.start()\n",
    "\n",
    "for thread in threads:\n",
    "    thread.join()\n",
    "\n",
    "sum(results)"
   ]
  },
  {
   "cell_type": "markdown",
   "metadata": {},
   "source": [
    "### [Global Interpreter Lock](https://en.wikipedia.org/wiki/Global_interpreter_lock)"
   ]
  },
  {
   "cell_type": "markdown",
   "metadata": {},
   "source": [
    "Zmierzmy czas wykonania tego wywołania dla wielu wątków."
   ]
  },
  {
   "cell_type": "code",
   "execution_count": null,
   "metadata": {},
   "outputs": [],
   "source": [
    "import threading\n",
    "from random import random\n",
    "\n",
    "N = 10000\n",
    "M = 100\n",
    "results = [None] * M\n",
    "\n",
    "\n",
    "arr = [[random() for _ in range(N)] for _ in range(N)]\n",
    "\n",
    "def calculateSum(arr, n, k, results):\n",
    "    results[n] = sum([sum(row) for row in arr[n * k: n * k + k]])\n"
   ]
  },
  {
   "cell_type": "code",
   "execution_count": null,
   "metadata": {},
   "outputs": [
    {
     "name": "stdout",
     "output_type": "stream",
     "text": [
      "541 ms ± 6.02 ms per loop (mean ± std. dev. of 7 runs, 1 loop each)\n"
     ]
    }
   ],
   "source": [
    "%%timeit\n",
    "threads = [threading.Thread(target=calculateSum, args=[arr, i, N // M, results]) for i in range(M)]\n",
    "\n",
    "for thread in threads:\n",
    "    thread.start()\n",
    "\n",
    "for thread in threads:\n",
    "    thread.join()"
   ]
  },
  {
   "cell_type": "markdown",
   "metadata": {},
   "source": [
    "Zmierzmy również czas wykonania dla jednego wątku."
   ]
  },
  {
   "cell_type": "code",
   "execution_count": null,
   "metadata": {},
   "outputs": [
    {
     "name": "stdout",
     "output_type": "stream",
     "text": [
      "489 ms ± 6.87 ms per loop (mean ± std. dev. of 7 runs, 1 loop each)\n"
     ]
    }
   ],
   "source": [
    "result = [None]\n",
    "\n",
    "%timeit calculateSum(arr, 0, N, result)"
   ]
  },
  {
   "attachments": {},
   "cell_type": "markdown",
   "metadata": {},
   "source": [
    "Czemu te czasy są podobne? Python nie pozwala na rzeczywistą wielowątkowość zezwalając na działanie wyłącznie jednego wątku na raz. Zaimplementowane jest z pomocą tak zwanej Globalnej Blokady Interpretera. Jeżeli jeden wątek korzysta z danych i coś na nich wykonuje wszystkie pozostałe czekają na zwolnienie tych zasobów."
   ]
  },
  {
   "cell_type": "markdown",
   "metadata": {},
   "source": [
    "### Multiprocessing"
   ]
  },
  {
   "attachments": {},
   "cell_type": "markdown",
   "metadata": {},
   "source": [
    "Zamiast tworzyć wątki w ramach naszego procesu możemy stworzyć oddzielny podproces. Procesy posiadają własną przestrzeń pamięci i działają niezależnie od siebie. Nie współdzielą domyślnie żadnych zmiennych i nie ma potrzeby tworzenia blokad na obiektach jak w przypadku wątków. Zaletą jest możliwość wykonywania ich równolegle na kilku jądrach procesora, wadą zaś, droga procedura tworzenia oraz droga procedura komunikowania się pomiędzy procesami."
   ]
  },
  {
   "attachments": {},
   "cell_type": "markdown",
   "metadata": {},
   "source": [
    "Biblioteka [multiprocessing](https://docs.python.org/3/library/multiprocessing.html) udostępnia nam funkcjonalności takie jak:\n",
    "\n",
    " * [Process](https://docs.python.org/3/library/multiprocessing.html#multiprocessing.Process) - klasa pojedynczego procesu, analogiczna do `Thread`.\n",
    " * [Pool](https://docs.python.org/3/library/multiprocessing.html#multiprocessing.pool.Pool) - klasa zarządzająca wieloma procesami i rozdzielająca zadania pomiędzy nie. Działa dla funkcjonalności iterowania po listach.\n",
    " * [Manager](https://docs.python.org/3/library/multiprocessing.html#multiprocessing.Manager) - pozwala na współdzielenie obiektów pomiędzy procesami.\n"
   ]
  }
 ],
 "metadata": {
  "kernelspec": {
   "display_name": "Python 3",
   "language": "python",
   "name": "python3"
  },
  "language_info": {
   "codemirror_mode": {
    "name": "ipython",
    "version": 3
   },
   "file_extension": ".py",
   "mimetype": "text/x-python",
   "name": "python",
   "nbconvert_exporter": "python",
   "pygments_lexer": "ipython3",
   "version": "3.11.0"
  },
  "orig_nbformat": 4,
  "vscode": {
   "interpreter": {
    "hash": "aee8b7b246df8f9039afb4144a1f6fd8d2ca17a180786b69acc140d282b71a49"
   }
  }
 },
 "nbformat": 4,
 "nbformat_minor": 2
}
