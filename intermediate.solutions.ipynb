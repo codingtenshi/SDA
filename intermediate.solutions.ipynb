{
 "cells": [
  {
   "cell_type": "markdown",
   "metadata": {},
   "source": [
    "# Rozwiązania do zadań dla bloku Python Średniozaawansowany"
   ]
  },
  {
   "cell_type": "markdown",
   "metadata": {},
   "source": [
    "## Wyjątki"
   ]
  },
  {
   "cell_type": "markdown",
   "metadata": {},
   "source": [
    "#### Przechwyć wynik wyjątku wyrzucanego przez funkcję `raiseErr` i wypisz go z pomocą operacji `print`."
   ]
  },
  {
   "cell_type": "markdown",
   "metadata": {},
   "source": [
    "##### Rozwiązanie:\n",
    "\n",
    " * wykorzystaj klauzulę `try-except`.\n",
    "\n",
    " * przechwyć wyjątek za pomocą `except as`."
   ]
  },
  {
   "cell_type": "code",
   "execution_count": 1,
   "metadata": {},
   "outputs": [
    {
     "name": "stdout",
     "output_type": "stream",
     "text": [
      "Hah! You got me!\n"
     ]
    }
   ],
   "source": [
    "def raiseErr():\n",
    "    raise Exception(\"Hah! You got me!\")\n",
    "\n",
    "try:\n",
    "    raiseErr()\n",
    "except Exception as e:\n",
    "    print(e)"
   ]
  },
  {
   "attachments": {},
   "cell_type": "markdown",
   "metadata": {},
   "source": [
    "#### Stwórz funkcję `properDivide`, które przy dzieleniu przez $0$ nie wyrzuci wyjątku a zwróci `inf`. Funkcja wciąż powinna kończyć się poprawnym błędem gdy na przykład dzielimy $\\frac{0}{0}$."
   ]
  },
  {
   "attachments": {},
   "cell_type": "markdown",
   "metadata": {},
   "source": [
    "##### Rozwiązanie:\n",
    "\n",
    " * wykorzystaj klauzulę `try-except`.\n",
    "\n",
    " * przechwyć wyjątek `ZeroDivisionError`.\n",
    "\n",
    " * zwróć `inf` z biblioteki `math`."
   ]
  },
  {
   "cell_type": "code",
   "execution_count": 2,
   "metadata": {},
   "outputs": [
    {
     "data": {
      "text/plain": [
       "inf"
      ]
     },
     "execution_count": 2,
     "metadata": {},
     "output_type": "execute_result"
    }
   ],
   "source": [
    "from math import inf\n",
    "\n",
    "def properDivide(a, b):\n",
    "    try:\n",
    "        result = a/b\n",
    "    except ZeroDivisionError:\n",
    "        return inf\n",
    "    return result\n",
    "\n",
    "properDivide(5, 0)"
   ]
  },
  {
   "attachments": {},
   "cell_type": "markdown",
   "metadata": {},
   "source": [
    "#### Stwórz plik `dummy.file` i zapisz do niego liczby od $1$ do $10$, każdą w nowej linii. Wykorzystaj do tego manager kontekstu"
   ]
  },
  {
   "attachments": {},
   "cell_type": "markdown",
   "metadata": {},
   "source": [
    "##### Rozwiązanie:\n",
    "\n",
    " * otwórz plik z pomocą `open` z opcją `w`.\n",
    "\n",
    " * wykorzystaj funkcję `write` do zapisania liczb.\n",
    "\n",
    " * przypisz wynik `open` do zmiennej z pomocą klauzuli `with`."
   ]
  },
  {
   "cell_type": "code",
   "execution_count": 3,
   "metadata": {},
   "outputs": [],
   "source": [
    "dummy_file = \"dummy.file\"\n",
    "\n",
    "with open(dummy_file, 'w') as f:\n",
    "    f.writelines([f'{i}\\n' for i in range(1, 11)])"
   ]
  },
  {
   "attachments": {},
   "cell_type": "markdown",
   "metadata": {},
   "source": [
    "#### Korzystając z pliku z poprzedniego zadania, wykorzystując manager kontekstu, dopisz pierwsze $20$ liczb Fibonacciego. Liczby te definiujemy jako\n",
    "\n",
    "$F_n = F_{n - 1} + F_{n - 2}$"
   ]
  },
  {
   "attachments": {},
   "cell_type": "markdown",
   "metadata": {},
   "source": [
    "##### Rozwiązanie:\n",
    "\n",
    " * otwórz plik z pomocą `open` z opcją `a`.\n",
    "\n",
    " * wykorzystaj funkcję `write` do zapisania `fib(i)` w pętli.\n",
    "\n",
    " * przypisz wynik `open` do zmiennej z pomocą klauzuli `with`."
   ]
  },
  {
   "cell_type": "code",
   "execution_count": 4,
   "metadata": {},
   "outputs": [],
   "source": [
    "def fib(n):\n",
    "    a, b = 0, 1\n",
    "    for i in range(n):\n",
    "        a, b = b, a + b\n",
    "    return a\n",
    "\n",
    "with open(dummy_file, 'a') as f:\n",
    "    f.writelines([f'{fib(i)}\\n' for i in range(20)])"
   ]
  },
  {
   "attachments": {},
   "cell_type": "markdown",
   "metadata": {},
   "source": [
    "#### Dopisz do pliku z poprzedniego zadania tekst \"`Ala ma kota`\". Odczytaj z tego pliku $50$ linii i wyświetl każdą jako liczbę zwiększoną o $1$. Wykorzystaj manager kontekstu. Linie, których nie można zinterpretować jako liczb, mają zostać pominięte z pomocą `try-except`."
   ]
  },
  {
   "cell_type": "code",
   "execution_count": 5,
   "metadata": {},
   "outputs": [
    {
     "name": "stdout",
     "output_type": "stream",
     "text": [
      "1\n",
      "2\n",
      "3\n",
      "4\n",
      "5\n",
      "6\n",
      "7\n",
      "8\n",
      "9\n",
      "10\n",
      "0\n",
      "1\n",
      "1\n",
      "2\n",
      "3\n",
      "5\n",
      "8\n",
      "13\n",
      "21\n",
      "34\n",
      "55\n",
      "89\n",
      "144\n",
      "233\n",
      "377\n",
      "610\n",
      "987\n",
      "1597\n",
      "2584\n",
      "4181\n"
     ]
    }
   ],
   "source": [
    "import os\n",
    "\n",
    "with open(dummy_file, 'r') as f:\n",
    "    for i in range(50):\n",
    "        line = f.readline()\n",
    "        try:\n",
    "            print(int(line))\n",
    "        except:\n",
    "            pass\n",
    "\n",
    "if os.path.exists(dummy_file):\n",
    "    os.remove(dummy_file)"
   ]
  },
  {
   "cell_type": "markdown",
   "metadata": {},
   "source": [
    "#### Stwórz klasę wyjątku `TimedException`, która, wraz z wiadomością, będzie przechowywała dane o czasie wystąpienia błędu. Skorzystaj z modułu [datetime](https://docs.python.org/3/library/datetime.html)."
   ]
  },
  {
   "cell_type": "markdown",
   "metadata": {},
   "source": [
    "##### Rozwiązanie:\n",
    "\n",
    " * stwórz klasę dziedziczącą po `Exception`.\n",
    "\n",
    " * w konstruktorze ustaw pole `time` na aktualny czas pobrany z `datetime.datetime.now()`.\n",
    "\n",
    " * przechwyć wyjątek i wypisz jego czas i wiadomość."
   ]
  },
  {
   "cell_type": "code",
   "execution_count": 6,
   "metadata": {},
   "outputs": [
    {
     "name": "stdout",
     "output_type": "stream",
     "text": [
      "2023-01-21 09:22:15.932167: Hello\n"
     ]
    }
   ],
   "source": [
    "from datetime import datetime\n",
    "\n",
    "class TimedException(Exception):\n",
    "    def __init__(self, *args: object) -> None:\n",
    "        super().__init__(*args)\n",
    "        self.time = datetime.now()\n",
    "\n",
    "try:\n",
    "    raise TimedException(\"Hello\")\n",
    "except TimedException as e:\n",
    "    print(f\"{e.time}: {e}\")"
   ]
  },
  {
   "cell_type": "markdown",
   "metadata": {},
   "source": [
    "#### Napisz klasę `AutodestructingFile` która stworzy plik o lokalizacji zadanej w konstruktorze i pozwoli na zapisywanie i odczytywanie z owego pliku. Obiekt tej klasy, gdy użyty w ramach klauzuli `with`, ma usunąć automatycznie plik z dysku w momencie zakończenia działania, niezależnie od tego, czy klauzula zakończyła się poprawnie czy błędem. Należy zastąpić wszystkie wystąpienia `pass` odpowiednim kodem."
   ]
  },
  {
   "cell_type": "markdown",
   "metadata": {},
   "source": [
    "##### Rozwiązanie\n",
    "\n",
    " * zapisz zmienną `address` w konstruktorze jako pole obiektu. Następnie stwórz pola `reader` i `writer` i przypisz do nich odpowiednio `open(address, \"w\")` i `open(address, \"r\")`.\n",
    "\n",
    " * w operacji `write` zapisz tekst do pliku odwołując się do pola `self.writer`. Analogicznie zczytaj treść pliku z pomocą `self.reader` w operacji `write`.\n",
    "\n",
    " * w operacji `__exit__` zamknij `self.writer` i `self.reader` oraz usuń plik z pomocą operacji `os.path.exists` i `os.remove`.\n",
    "\n",
    "Wywołanie powinno zakończyć się tekstem *\"This code should fail here and dummy.file should not exist\"*."
   ]
  },
  {
   "cell_type": "code",
   "execution_count": 7,
   "metadata": {},
   "outputs": [
    {
     "name": "stdout",
     "output_type": "stream",
     "text": [
      "\n",
      "This code should fail here and dummy.file should not exist\n"
     ]
    }
   ],
   "source": [
    "import os\n",
    "\n",
    "class AutodestructingFile:\n",
    "\n",
    "    def __init__(self, address) -> None:\n",
    "        self.address = address\n",
    "        self.writer = open(address, \"w\")\n",
    "        self.reader = open(address, \"r\")\n",
    "\n",
    "    def write(self, text):\n",
    "        self.writer.write(text)\n",
    "\n",
    "    def read(self):\n",
    "        return self.reader.read()\n",
    "\n",
    "    def __enter__(self):\n",
    "        return self\n",
    "\n",
    "    def __exit__(self, type, value, traceback):\n",
    "        self.reader.close()\n",
    "        self.writer.close()\n",
    "        if os.path.exists(self.address):\n",
    "            os.remove(self.address)\n",
    "\n",
    "\n",
    "dummy_file_name = \"dummy.file\"\n",
    "some_dummy_message = \"somedummymessage\"\n",
    "\n",
    "assert not os.path.exists(dummy_file_name)\n",
    "exception = Exception(f\"This code should fail here and {dummy_file_name} should not exist\")\n",
    "\n",
    "try:\n",
    "    with AutodestructingFile(dummy_file_name) as file:\n",
    "        assert os.path.exists(dummy_file_name)\n",
    "        file.write(some_dummy_message)\n",
    "        print(file.read())\n",
    "\n",
    "        raise exception\n",
    "        print(\"This message should not be displayed\")\n",
    "except Exception as e:\n",
    "    assert e == exception\n",
    "    print(e)\n",
    "assert not os.path.exists(dummy_file_name)"
   ]
  },
  {
   "cell_type": "markdown",
   "metadata": {},
   "source": [
    "## Programowanie obiektowe"
   ]
  },
  {
   "cell_type": "markdown",
   "metadata": {},
   "source": [
    "#### Wczytaj plik za pomocą `reader`, przetwórz treść za pomocą `converter` i zapisz do pliku za pomocą `writer`. Stwórz klasę `LUFileConverter`, która będzie konwertowała zadany plik zmieniając małe litery w wielkie i vice versa. Stwórz klasę `DoubleFileConverter`, która wykona operacje `converter` dwukrotnie.\n",
    "\n",
    "`convertFile` w `FileConverter` ma być metodą abstrakcyjną.\n",
    "`reader` ma posiadać operację `read()`, która zczyta obiekt typu `str` z pewnego pliku.\n",
    "`writer` ma posiadać operację `write()`, która zapisze do pewnego pliku zadany obiekt typu `str`.\n",
    "`converter` ma przyjąć obiekt typu `str` i zwrócić obiekt typu `str`.\n",
    "\n",
    "Skorzystaj z modułu [abc](https://docs.python.org/3/library/abc.html)."
   ]
  },
  {
   "cell_type": "markdown",
   "metadata": {},
   "source": [
    "##### Rozwiązanie\n",
    "\n",
    " - Stwórz plik (`dummy.txt` lub jakikolwiek inny) z dowolną treścią (`Ala ma kota` lub cokolwiek innego).\n",
    " - Wczytaj treść tego pliku za pomocą operacji `open` i `read`.\n",
    " - Zapisz treść tego pliku za pomocą `open` i `write` do innego pliku (`temp.file` lub jakikolwiek inny).\n",
    " - Stwórz funkcję `toUpper`, która przyjmie obiekt typu `str` i zwróci ów tekst z wszystkimi małymi literami zamienionymi na wielkie.\n",
    " - Stwórz obiekt typu `FileConverter` i zapisz jako jego pola `reader`, `writer` oraz `toUpper`.\n",
    " - Zmień pole `convertFile` w `FileConverter` na metodę abstrakcyjną."
   ]
  },
  {
   "cell_type": "code",
   "execution_count": 8,
   "metadata": {},
   "outputs": [],
   "source": [
    "from abc import ABC, abstractmethod\n",
    "\n",
    "def swapCase(text: str) -> str:\n",
    "    return text.swapcase()\n",
    "\n",
    "class FileConverter(ABC):\n",
    "    def __init__(self, reader, writer, converter) -> None:\n",
    "        self.reader = reader\n",
    "        self.writer = writer\n",
    "        self.converter = converter\n",
    "\n",
    "    @abstractmethod\n",
    "    def convertFile(self):\n",
    "        pass\n",
    "\n",
    "class LUFileConverter(FileConverter):\n",
    "    def __init__(self, reader, writer) -> None:\n",
    "        super().__init__(reader, writer, swapCase)\n",
    "\n",
    "    def convertFile(self):\n",
    "        content = self.reader.read()\n",
    "        content = self.converter(content)\n",
    "        self.writer.write(content)\n",
    "\n",
    "class DoubleFileConverter(FileConverter):\n",
    "    def convertFile(self):\n",
    "        content = self.reader.read()\n",
    "        content = self.converter(content)\n",
    "        content = self.converter(content)\n",
    "        self.writer.write(content)"
   ]
  },
  {
   "cell_type": "code",
   "execution_count": 9,
   "metadata": {},
   "outputs": [],
   "source": [
    "def doubleText(text):\n",
    "    return text + text\n",
    "\n",
    "in_file = \"dummy.txt\"\n",
    "out_file = \"temp.file\"\n",
    "\n",
    "with open(in_file, \"w\") as writer:\n",
    "    writer.write(\"Ala ma kota\\nA sierotka ma rysia\\n\\n\")\n",
    "\n",
    "with open(in_file, \"r\") as reader:\n",
    "    with open(out_file, \"w\") as writer:\n",
    "        fc = DoubleFileConverter(reader, writer, doubleText)\n",
    "        fc.convertFile()\n",
    "\n",
    "if os.path.exists(in_file):\n",
    "    os.remove(in_file)\n",
    "if os.path.exists(out_file):\n",
    "    os.remove(out_file)"
   ]
  },
  {
   "cell_type": "code",
   "execution_count": 10,
   "metadata": {},
   "outputs": [],
   "source": [
    "def doubleText(text):\n",
    "    return text + text\n",
    "\n",
    "in_file = \"dummy.txt\"\n",
    "out_file = \"temp.file\"\n",
    "\n",
    "with open(in_file, \"w\") as writer:\n",
    "    writer.write(\"Ala ma kota\\nA sierotka ma rysia\\n\\n\")\n",
    "\n",
    "with open(in_file, \"r\") as reader:\n",
    "    with open(out_file, \"w\") as writer:\n",
    "        fc = LUFileConverter(reader, writer)\n",
    "        fc.convertFile()\n",
    "\n",
    "if os.path.exists(in_file):\n",
    "    os.remove(in_file)\n",
    "if os.path.exists(out_file):\n",
    "    os.remove(out_file)"
   ]
  },
  {
   "cell_type": "markdown",
   "metadata": {},
   "source": [
    "#### Napisz strukturę o trzech niemutowalnych polach, którą można posortować oraz przechowywać jako element zbioru."
   ]
  },
  {
   "cell_type": "code",
   "execution_count": 11,
   "metadata": {},
   "outputs": [
    {
     "name": "stdout",
     "output_type": "stream",
     "text": [
      "[Triple(a=1, b=2, c=1), Triple(a=1, b=2, c=3), Triple(a=1, b=3, c=2), Triple(a=2, b=1, c=19)]\n",
      "{Triple(a=1, b=2, c=1), Triple(a=1, b=3, c=2), Triple(a=1, b=2, c=3), Triple(a=2, b=1, c=19)}\n"
     ]
    }
   ],
   "source": [
    "from dataclasses import dataclass\n",
    "\n",
    "@dataclass(frozen=True, order=True)\n",
    "class Triple:\n",
    "    a: float\n",
    "    b: float\n",
    "    c: float\n",
    "\n",
    "print(sorted([Triple(1, 2, 3), Triple(2, 1, 19), Triple(1, 2, 1), Triple(1, 3, 2)]))\n",
    "print({Triple(1, 2, 3), Triple(2, 1, 19), Triple(1, 2, 1), Triple(1, 3, 2)})"
   ]
  },
  {
   "cell_type": "markdown",
   "metadata": {},
   "source": [
    "## Serializacja"
   ]
  },
  {
   "cell_type": "markdown",
   "metadata": {},
   "source": [
    "## Dekoratory"
   ]
  },
  {
   "cell_type": "markdown",
   "metadata": {},
   "source": [
    "#### Napisz dekorator `doubleResult`, który sprawi, że funkcja dekorowana zwróci wynik przemnożony przez $2$. Udekoruj nim funkcję `returnNumber`."
   ]
  },
  {
   "cell_type": "markdown",
   "metadata": {},
   "source": [
    "Rozwiązanie:\n",
    " * dekorator powinien zwracać funkcję, która zastąpi funkcję dekorowaną. Napisz definicję funkcji `wrapper` wewnątrz `doubleResult`.\n",
    " * funkcja ta nie powinna przyjmować jakichkolwiek argumentów i powinna zwracać wynik funkcji będącej argumentem dekoratora.\n",
    " * wartość zwracaną przez `wrapper` przemnóż przez $2$.\n",
    " * dekorator powinien na koniec zwrócić `wrapper`."
   ]
  },
  {
   "cell_type": "code",
   "execution_count": 12,
   "metadata": {},
   "outputs": [],
   "source": [
    "from random import random\n",
    "\n",
    "def doubleResult(func):\n",
    "    def wrapper():\n",
    "        return 2 * func()\n",
    "    return wrapper\n",
    "\n",
    "number = random()\n",
    "\n",
    "@doubleResult\n",
    "def returnNumber():\n",
    "    return number\n",
    "\n",
    "assert returnNumber() == number * 2"
   ]
  },
  {
   "cell_type": "markdown",
   "metadata": {},
   "source": [
    "#### Napisz dekorator `multiplyResultBy` będący modyfikacją dekoratora z zadania powyżej. Niech `multiplyResultBy` przyjmuje jeden argument, którym będzie liczba, przez którą zostanie przemnożony wynik funkcji dekorowanej. Udekoruj nim funkcję `returnNumber`."
   ]
  },
  {
   "cell_type": "markdown",
   "metadata": {},
   "source": [
    "Rozwiązanie <font size=\"1\" color=\"gray\">(złożone w opisie, bo sam problem niestety jest złożony)</font>:\n",
    "\n",
    " * dekorator wywołamy jako `@multiplyResultBy(n)`, czyli sam `multiplyResultBy(n)` jest funkcją, która zwróci dekorator. Stąd dopiero ta funkcja powinna zwrócić dekorator analogiczny do zadania powyżej.\n",
    "\n",
    " * w poprzednim zadaniu `doubleResult` zwracał funkcję zastępującą funkcję dekorowaną. Tym razem musimy na podstawie parametru zwrócić dekorator, który przyjmie funkcję dekorowaną i zwróci jej zastępstwo (uff, złożone, co?).\n",
    "\n",
    " * <font size=\"1\" color=\"red\">dla matematycznych formalistów</font> dekorator jest postaci $\\R\\to(\\emptyset\\to\\R)\\to\\emptyset\\to\\R$, to jest, pobiera liczbę, przez którą przemnożymy wynik naszej funkcji ($\\R\\to$) i zwraca funkcję, która bierze funkcję bezparametrową do udekorowania ($(\\emptyset\\to\\R)\\to$), ta funkcja zaś zwraca funkcję o tej samej sygnaturze co funkcja dekorowana ($\\emptyset\\to\\R$)."
   ]
  },
  {
   "cell_type": "code",
   "execution_count": 13,
   "metadata": {},
   "outputs": [],
   "source": [
    "from random import random\n",
    "\n",
    "def multiplyResultBy(multiplier):\n",
    "    def dec(func):\n",
    "        def wrapper():\n",
    "            return multiplier * func()\n",
    "        return wrapper\n",
    "    return dec\n",
    "\n",
    "number = random()\n",
    "n = random()\n",
    "\n",
    "@multiplyResultBy(multiplier=n)\n",
    "def returnNumber():\n",
    "    return number\n",
    "\n",
    "assert returnNumber() == number * n"
   ]
  },
  {
   "cell_type": "markdown",
   "metadata": {},
   "source": [
    "#### Ponownie napisz dekorator `multiplyResultBy` o działaniu jak w zadaniu powyżej. Tym razem jednak niech dekorator ten będzie w stanie dekorować funkcje o dowolnej ilości parametrów. Udekoruj nim funkcję `multAddPrint`."
   ]
  },
  {
   "cell_type": "markdown",
   "metadata": {},
   "source": [
    "Rozwiązanie:\n",
    " * `wrapper` powinien przechwycić wszelkie argumenty za pomocą słów-kluczy `*args` i `**kwargs`."
   ]
  },
  {
   "cell_type": "code",
   "execution_count": 14,
   "metadata": {},
   "outputs": [
    {
     "name": "stdout",
     "output_type": "stream",
     "text": [
      "I am working as intended\n"
     ]
    }
   ],
   "source": [
    "from random import random\n",
    "\n",
    "def multiplyResultBy(multiplier):\n",
    "    def dec(func):\n",
    "        def wrapper(*args, **kwargs):\n",
    "            return multiplier * func(*args, **kwargs)\n",
    "        return wrapper\n",
    "    return dec\n",
    "\n",
    "number1, number2, number3 = random(), random(), random()\n",
    "text = \"I am working as intended\"\n",
    "n = random()\n",
    "\n",
    "@multiplyResultBy(multiplier=n)\n",
    "def returnNumbers(number1, number2, number3, text):\n",
    "    print(text)\n",
    "    return number1 * number2 + number3\n",
    "\n",
    "assert returnNumbers(number1, number2, number3, text) == (number1 * number2 + number3) * n"
   ]
  },
  {
   "cell_type": "markdown",
   "metadata": {},
   "source": [
    "#### Napisz dekorator, który przechwyci wyjątek wyrzucany przez funkcję i wypisze jego treść i ślad na wyjściu konsoli (domyślnie wyjątki wypisują się na `stderr`, standardowe wyjście konsoli to `stdout`).\n",
    "\n",
    "Do zadania wykorzystaj pakiet [traceback](https://docs.python.org/3/library/traceback.html)."
   ]
  },
  {
   "cell_type": "markdown",
   "metadata": {},
   "source": [
    "##### Rozwiązanie\n",
    "\n",
    " * otocz wywołanie funkcji dekorowanej klauzulą `try-except`.\n",
    " * w klauzuli `except` wyświetl stos wywołania za pomocą [print_exc](https://docs.python.org/3/library/traceback.html#traceback.print_exc) z pakietu `traceback`."
   ]
  },
  {
   "cell_type": "code",
   "execution_count": 15,
   "metadata": {},
   "outputs": [
    {
     "name": "stdout",
     "output_type": "stream",
     "text": [
      "First print\n",
      "This should be printed\n"
     ]
    },
    {
     "name": "stderr",
     "output_type": "stream",
     "text": [
      "Traceback (most recent call last):\n",
      "  File \"C:\\Users\\micha\\AppData\\Local\\Temp/ipykernel_1664/546976238.py\", line 6, in wrapper\n",
      "    return func()\n",
      "  File \"C:\\Users\\micha\\AppData\\Local\\Temp/ipykernel_1664/546976238.py\", line 17, in function1\n",
      "    function2()\n",
      "  File \"C:\\Users\\micha\\AppData\\Local\\Temp/ipykernel_1664/546976238.py\", line 15, in function2\n",
      "    raise AssertionError(\"Why index error? Just so\")\n",
      "AssertionError: Why index error? Just so\n"
     ]
    }
   ],
   "source": [
    "import traceback\n",
    "\n",
    "def captureError(func):\n",
    "    def wrapper():\n",
    "        try:\n",
    "            return func()\n",
    "        except:\n",
    "            traceback.print_exc()\n",
    "    return wrapper\n",
    "\n",
    "\n",
    "@captureError\n",
    "def function1():\n",
    "    def function2():\n",
    "        raise AssertionError(\"Why index error? Just so\")\n",
    "    print(\"First print\")\n",
    "    function2()\n",
    "    print(\"Second print, should not be printed\")\n",
    "\n",
    "function1()\n",
    "print(\"This should be printed\")"
   ]
  },
  {
   "cell_type": "markdown",
   "metadata": {},
   "source": [
    "#### Napisz dekorator `encrypted`, który przyjmuje jako parametry adres pliku oraz funkcję szyfrującą a następnie zapisuje do tego pliku zaszyfrowany wynik funkcji."
   ]
  },
  {
   "cell_type": "code",
   "execution_count": 16,
   "metadata": {},
   "outputs": [],
   "source": [
    "from random import shuffle\n",
    "import string\n",
    "\n",
    "basis = list(string.printable)\n",
    "permutation = list(basis)\n",
    "shuffle(permutation)\n",
    "\n",
    "dictionary = {}\n",
    "for i in range(len(basis)):\n",
    "    dictionary[basis[i]] = permutation[i]\n",
    "\n",
    "def encryptor(text):\n",
    "    return ''.join([dictionary[c] for c in text])"
   ]
  },
  {
   "cell_type": "code",
   "execution_count": 17,
   "metadata": {},
   "outputs": [],
   "source": [
    "dummy_file_name = \"dummy.file\"\n",
    "\n",
    "def encrypted(encryptor, address):\n",
    "    def dec(func):\n",
    "        def wrapper():\n",
    "            with open(address, \"w\") as writer:\n",
    "                writer.write(encryptor(func()))\n",
    "        return wrapper\n",
    "    return dec\n",
    "\n",
    "@encrypted(encryptor, dummy_file_name)\n",
    "def strfunc():\n",
    "    return \"Ala ma kota\"\n",
    "\n",
    "strfunc()\n",
    "\n",
    "if os.path.exists(dummy_file_name):\n",
    "    os.remove(dummy_file_name)"
   ]
  },
  {
   "cell_type": "markdown",
   "metadata": {},
   "source": [
    "#### Napisz powyższe zadanie, tym razem jednak dla funkcji, która przyjmuje argumenty"
   ]
  },
  {
   "cell_type": "code",
   "execution_count": 18,
   "metadata": {},
   "outputs": [],
   "source": [
    "from random import shuffle\n",
    "import string\n",
    "\n",
    "basis = list(string.printable)\n",
    "permutation = list(basis)\n",
    "shuffle(permutation)\n",
    "\n",
    "dictionary = {}\n",
    "for i in range(len(basis)):\n",
    "    dictionary[basis[i]] = permutation[i]\n",
    "\n",
    "def encryptor(text):\n",
    "    return ''.join([dictionary[c] for c in text])"
   ]
  },
  {
   "cell_type": "code",
   "execution_count": 19,
   "metadata": {},
   "outputs": [],
   "source": [
    "dummy_file_name = \"dummy.file\"\n",
    "\n",
    "def encrypted(encryptor, address):\n",
    "    def dec(func):\n",
    "        def wrapper(*args, **kwargs):\n",
    "            with open(address, \"w\") as writer:\n",
    "                writer.write(encryptor(func(*args, **kwargs)))\n",
    "        return wrapper\n",
    "    return dec\n",
    "\n",
    "@encrypted(encryptor, dummy_file_name)\n",
    "def strfunc(text, n):\n",
    "    return f\"My encrypted text is '{text}' and it should occure {n} times after this line\\n\" + \"\\n\".join([text] * n)\n",
    "\n",
    "strfunc(\"Ala ma kota\", 5)\n",
    "\n",
    "if os.path.exists(dummy_file_name):\n",
    "    os.remove(dummy_file_name)"
   ]
  },
  {
   "attachments": {},
   "cell_type": "markdown",
   "metadata": {},
   "source": [
    "## Programowanie funkcjonałowe"
   ]
  },
  {
   "cell_type": "markdown",
   "metadata": {},
   "source": [
    "#### Posortuj listę tekstów po długościach tych tekstów."
   ]
  },
  {
   "cell_type": "markdown",
   "metadata": {},
   "source": [
    "Rozwiązanie:\n",
    "\n",
    " * zarówno `sorted` jak i `list.sort` przyjmują nazywany argument `key`, który jest obiektem funkcji. Argument ten odpowiada za pobranie wagi, po której sortujemy naszą listę."
   ]
  },
  {
   "cell_type": "code",
   "execution_count": 20,
   "metadata": {},
   "outputs": [
    {
     "data": {
      "text/plain": [
       "['Kot ma Alę',\n",
       " 'Ala ma kota',\n",
       " 'Sierotka ma rysia',\n",
       " 'Sri Jayavardenepura Kotte',\n",
       " 'Ala ma kota a sierotka ma rysia']"
      ]
     },
     "execution_count": 20,
     "metadata": {},
     "output_type": "execute_result"
    }
   ],
   "source": [
    "l = [\n",
    "    \"Ala ma kota\",\n",
    "    \"Kot ma Alę\",\n",
    "    \"Sierotka ma rysia\",\n",
    "    \"Sri Jayavardenepura Kotte\",\n",
    "    \"Ala ma kota a sierotka ma rysia\"]\n",
    "l.sort(key=len)\n",
    "l"
   ]
  },
  {
   "cell_type": "markdown",
   "metadata": {},
   "source": [
    "#### Posortuj listę tekstów alfabetycznie po literach od końca"
   ]
  },
  {
   "cell_type": "markdown",
   "metadata": {},
   "source": [
    "Rozwiązanie:\n",
    "\n",
    " * kluczem takiego sortowania może być odwrócony tekst, to jest, używamy $\\lambda$, która odwróci obiekt typu `str`.\n",
    "\n",
    " * `[::-1]` pobiera wszystkie elementy idąc od końca."
   ]
  },
  {
   "cell_type": "code",
   "execution_count": 21,
   "metadata": {},
   "outputs": [
    {
     "data": {
      "text/plain": [
       "['Sierotka ma rysia',\n",
       " 'Ala ma kota a sierotka ma rysia',\n",
       " 'Ala ma kota',\n",
       " 'Sri Jayavardenepura Kotte',\n",
       " 'Kot ma Alę']"
      ]
     },
     "execution_count": 21,
     "metadata": {},
     "output_type": "execute_result"
    }
   ],
   "source": [
    "l = [\n",
    "    \"Ala ma kota\",\n",
    "    \"Kot ma Alę\",\n",
    "    \"Sierotka ma rysia\",\n",
    "    \"Sri Jayavardenepura Kotte\",\n",
    "    \"Ala ma kota a sierotka ma rysia\"]\n",
    "l.sort(key = lambda x: x[::-1])\n",
    "l"
   ]
  },
  {
   "cell_type": "markdown",
   "metadata": {},
   "source": [
    "#### Stwórz obiekt `map`, który będzie tworzył listę $10000$ losowych liczb. Skorzystaj z funkcji [random](https://docs.python.org/3/library/random.html#random.random) z biblioteki [random](https://docs.python.org/3/library/random.html). Nie korzystaj z pętli. Nie twórz tablicy."
   ]
  },
  {
   "cell_type": "markdown",
   "metadata": {},
   "source": [
    "Rozwiązanie:\n",
    "\n",
    " * `map` może przyjąć parametr i zignorować jego wartość, zwracając liczbę losową.\n",
    "\n",
    " * leniwą listę długości $10000$ możemy uzyskać z pomocą `range`."
   ]
  },
  {
   "cell_type": "code",
   "execution_count": 22,
   "metadata": {},
   "outputs": [
    {
     "data": {
      "text/plain": [
       "<map at 0x29072eb3220>"
      ]
     },
     "execution_count": 22,
     "metadata": {},
     "output_type": "execute_result"
    }
   ],
   "source": [
    "from random import random\n",
    "\n",
    "map(lambda x: random(), range(10000))"
   ]
  },
  {
   "cell_type": "markdown",
   "metadata": {},
   "source": [
    "#### Stwórz $\\lambda$-wyrażenie, które, dla parametru `x`, wyznaczy $x^{17}\\mod 1001$. Stwórz tablicę takich wyników dla kolejnych $10000$ liczb naturalnych."
   ]
  },
  {
   "cell_type": "markdown",
   "metadata": {},
   "source": [
    "Rozwiązanie:\n",
    "\n",
    " * $a\\mod b$ zapisujemy w Pythonie jako `a % b`.\n",
    "\n",
    " * możemy przekazać do `map` funkcję, która wykona powyższe działanie na każdym elemencie."
   ]
  },
  {
   "cell_type": "code",
   "execution_count": 23,
   "metadata": {},
   "outputs": [
    {
     "data": {
      "text/plain": [
       "<map at 0x29072eba070>"
      ]
     },
     "execution_count": 23,
     "metadata": {},
     "output_type": "execute_result"
    }
   ],
   "source": [
    "map(lambda x: x**17 % 1001, range(10000))"
   ]
  },
  {
   "cell_type": "markdown",
   "metadata": {},
   "source": [
    "Równanie z powyższego zadania jest bardzo prostą funkcją hashującą. Poniżej wykres wyświetla rozkład wyznaczonych tak punktów."
   ]
  },
  {
   "cell_type": "code",
   "execution_count": 24,
   "metadata": {},
   "outputs": [
    {
     "data": {
      "text/plain": [
       "[<matplotlib.lines.Line2D at 0x2907ffb91c0>]"
      ]
     },
     "execution_count": 24,
     "metadata": {},
     "output_type": "execute_result"
    },
    {
     "data": {
      "image/png": "[encoded data removed]",
      "text/plain": [
       "<Figure size 720x720 with 1 Axes>"
      ]
     },
     "metadata": {
      "needs_background": "light"
     },
     "output_type": "display_data"
    }
   ],
   "source": [
    "from matplotlib import pyplot as plt\n",
    "from matplotlib import rcParams\n",
    "\n",
    "plt.show()\n",
    "rcParams['figure.figsize'] = [10, 10]\n",
    "plt.plot(list(map(lambda x: x ** 17 % 1001, range(10000))), '.')"
   ]
  },
  {
   "cell_type": "markdown",
   "metadata": {},
   "source": [
    "#### Dla wyniku z powyższego zadania policz, ile razy występuje liczba $13$. Nie korzystaj z pętli."
   ]
  },
  {
   "cell_type": "markdown",
   "metadata": {},
   "source": [
    "Rozwiązanie:\n",
    "\n",
    " * możemy stworzyć listę z wyniku i wykonać operację `list.count(13)`, stworzy to jednak całą tablicę w pamięci.\n",
    "\n",
    " * zamiast tego możemy odfiltrować wszelkie liczby nierówne $13$ i sprawdzić długość nowej listy.\n",
    "\n",
    " * zmieniając wszystkie elementy w $1$ i sumując te jedynki uzyskujemy długość kolekcji."
   ]
  },
  {
   "cell_type": "code",
   "execution_count": 25,
   "metadata": {},
   "outputs": [
    {
     "data": {
      "text/plain": [
       "10"
      ]
     },
     "execution_count": 25,
     "metadata": {},
     "output_type": "execute_result"
    }
   ],
   "source": [
    "numbers = map(lambda x: x**17 % 1001, range(10000))\n",
    "thirteens = filter(lambda x: x == 13, numbers)\n",
    "\n",
    "sum(map(lambda x: 1, thirteens))"
   ]
  },
  {
   "cell_type": "markdown",
   "metadata": {},
   "source": [
    "#### Dla listy liczb weź te, dla których pierwszą cyfrą po przecinku jest $5$ lub $7$. Skorzystaj z obiektu `map` z zadania o tworzeniu listy liczb losowych. Nie korzystaj z pętli."
   ]
  },
  {
   "cell_type": "markdown",
   "metadata": {},
   "source": [
    "Rozwiązanie:\n",
    "\n",
    " * wykonanie operacji `str` na liczbie daje nam zapis dziesiętny zmienno-przecinkowy.\n",
    "\n",
    " * dla liczb ze zbioru $[0,1)$ przecinek jest zawsze drugim znakiem, pierwsza cyfra za przecinkiem jest w takim razie znakiem o indeksie $2$.\n",
    "\n",
    " * poniższe rozwiązanie uwzględnia również przypadki bardzo małych liczb, które mogą być zapisane na przykład jako \"7.52131e-09\"."
   ]
  },
  {
   "cell_type": "code",
   "execution_count": 26,
   "metadata": {},
   "outputs": [
    {
     "data": {
      "text/plain": [
       "<filter at 0x290154eafa0>"
      ]
     },
     "execution_count": 26,
     "metadata": {},
     "output_type": "execute_result"
    }
   ],
   "source": [
    "from random import random\n",
    "\n",
    "l = map(lambda x: random(), range(10000))\n",
    "filter(lambda x: str(x)[2] == '5' or str(x)[2] == '7', l)"
   ]
  },
  {
   "cell_type": "markdown",
   "metadata": {},
   "source": [
    "Poniższy kod wyświetla wszelkie liczby spełniające wyżej wspomniany warunek."
   ]
  },
  {
   "cell_type": "code",
   "execution_count": 27,
   "metadata": {},
   "outputs": [
    {
     "data": {
      "text/plain": [
       "[<matplotlib.lines.Line2D at 0x29015100100>]"
      ]
     },
     "execution_count": 27,
     "metadata": {},
     "output_type": "execute_result"
    },
    {
     "data": {
      "image/png": "[encoded data removed]",
      "text/plain": [
       "<Figure size 720x720 with 1 Axes>"
      ]
     },
     "metadata": {
      "needs_background": "light"
     },
     "output_type": "display_data"
    }
   ],
   "source": [
    "from matplotlib import pyplot as plt\n",
    "from matplotlib import rcParams\n",
    "from random import random\n",
    "\n",
    "l = map(lambda x: random(), range(10000))\n",
    "\n",
    "plt.show()\n",
    "rcParams['figure.figsize'] = [10, 10]\n",
    "plt.plot(list(filter(lambda x: str(x)[2] == '5' or str(x)[2] == '7', l)), '.')"
   ]
  },
  {
   "attachments": {},
   "cell_type": "markdown",
   "metadata": {},
   "source": [
    "#### Stwórz analogiczną operację do `sum` z pomocą `reduce` z `functools`."
   ]
  },
  {
   "cell_type": "code",
   "execution_count": 28,
   "metadata": {},
   "outputs": [
    {
     "data": {
      "text/plain": [
       "True"
      ]
     },
     "execution_count": 28,
     "metadata": {},
     "output_type": "execute_result"
    }
   ],
   "source": [
    "from random import random\n",
    "\n",
    "l = [random() for i in range(100000)]\n",
    "from functools import reduce\n",
    "\n",
    "sum(l) == reduce(lambda acc, x: acc + x, l)"
   ]
  },
  {
   "cell_type": "markdown",
   "metadata": {},
   "source": [
    "## Generatory i iteratory"
   ]
  },
  {
   "attachments": {},
   "cell_type": "markdown",
   "metadata": {},
   "source": [
    "#### Stwórz nieskończony iterator po liczbach parzystych"
   ]
  },
  {
   "cell_type": "code",
   "execution_count": 29,
   "metadata": {},
   "outputs": [
    {
     "name": "stdout",
     "output_type": "stream",
     "text": [
      "[0, 2, 4, 6, 8, 10, 12, 14, 16, 18, 20, 22, 24, 26, 28, 30, 32, 34, 36, 38, 40, 42, 44, 46, 48, 50, 52, 54, 56, 58, 60, 62, 64, 66, 68, 70, 72, 74, 76, 78, 80, 82, 84, 86, 88, 90, 92, 94, 96, 98, 100, 102, 104, 106, 108, 110, 112, 114, 116, 118, 120, 122, 124, 126, 128, 130, 132, 134, 136, 138, 140, 142, 144, 146, 148, 150, 152, 154, 156, 158, 160, 162, 164, 166, 168, 170, 172, 174, 176, 178, 180, 182, 184, 186, 188, 190, 192, 194, 196, 198, 200, 202, 204, 206, 208, 210, 212, 214, 216, 218, 220, 222, 224, 226, 228, 230, 232, 234, 236, 238, 240, 242, 244, 246, 248, 250, 252, 254, 256, 258, 260, 262, 264, 266, 268, 270, 272, 274, 276, 278, 280, 282, 284, 286, 288, 290, 292, 294, 296, 298, 300, 302, 304, 306, 308, 310, 312, 314, 316, 318, 320, 322, 324, 326, 328, 330, 332, 334, 336, 338, 340, 342, 344, 346, 348, 350, 352, 354, 356, 358, 360, 362, 364, 366, 368, 370, 372, 374, 376, 378, 380, 382, 384, 386, 388, 390, 392, 394, 396, 398]\n"
     ]
    }
   ],
   "source": [
    "class EvenIterator:\n",
    "    def __init__(self) -> None:\n",
    "        self.v = -2\n",
    "\n",
    "    def __iter__(self):\n",
    "        return self\n",
    "\n",
    "    def __next__(self):\n",
    "        self.v += 2\n",
    "        return self.v\n",
    "\n",
    "iter = EvenIterator()\n",
    "print([pair[1] for pair in zip(range(200), iter)])"
   ]
  },
  {
   "attachments": {},
   "cell_type": "markdown",
   "metadata": {},
   "source": [
    "#### Stwórz analogiczny generator"
   ]
  },
  {
   "cell_type": "code",
   "execution_count": 30,
   "metadata": {},
   "outputs": [
    {
     "name": "stdout",
     "output_type": "stream",
     "text": [
      "[0, 2, 4, 6, 8, 10, 12, 14, 16, 18, 20, 22, 24, 26, 28, 30, 32, 34, 36, 38, 40, 42, 44, 46, 48, 50, 52, 54, 56, 58, 60, 62, 64, 66, 68, 70, 72, 74, 76, 78, 80, 82, 84, 86, 88, 90, 92, 94, 96, 98, 100, 102, 104, 106, 108, 110, 112, 114, 116, 118, 120, 122, 124, 126, 128, 130, 132, 134, 136, 138, 140, 142, 144, 146, 148, 150, 152, 154, 156, 158, 160, 162, 164, 166, 168, 170, 172, 174, 176, 178, 180, 182, 184, 186, 188, 190, 192, 194, 196, 198, 200, 202, 204, 206, 208, 210, 212, 214, 216, 218, 220, 222, 224, 226, 228, 230, 232, 234, 236, 238, 240, 242, 244, 246, 248, 250, 252, 254, 256, 258, 260, 262, 264, 266, 268, 270, 272, 274, 276, 278, 280, 282, 284, 286, 288, 290, 292, 294, 296, 298, 300, 302, 304, 306, 308, 310, 312, 314, 316, 318, 320, 322, 324, 326, 328, 330, 332, 334, 336, 338, 340, 342, 344, 346, 348, 350, 352, 354, 356, 358, 360, 362, 364, 366, 368, 370, 372, 374, 376, 378, 380, 382, 384, 386, 388, 390, 392, 394, 396, 398]\n"
     ]
    }
   ],
   "source": [
    "def f():\n",
    "    a = 0\n",
    "    while True:\n",
    "        yield a\n",
    "        a += 2\n",
    "\n",
    "print([pair[1] for pair in zip(range(200), f())])"
   ]
  },
  {
   "attachments": {},
   "cell_type": "markdown",
   "metadata": {},
   "source": [
    "#### Stwórz iterator po liczbach parzystych przyjmujący jako argument ilość elementów."
   ]
  },
  {
   "cell_type": "code",
   "execution_count": 31,
   "metadata": {},
   "outputs": [
    {
     "name": "stdout",
     "output_type": "stream",
     "text": [
      "[0, 2, 4, 6, 8, 10, 12, 14, 16, 18, 20, 22, 24, 26, 28, 30, 32, 34, 36, 38, 40, 42, 44, 46, 48, 50, 52, 54, 56, 58, 60, 62, 64, 66, 68, 70, 72, 74, 76, 78, 80, 82, 84, 86, 88, 90, 92, 94, 96, 98, 100, 102, 104, 106, 108, 110, 112, 114, 116, 118, 120, 122, 124, 126, 128, 130, 132, 134, 136, 138, 140, 142, 144, 146, 148, 150, 152, 154, 156, 158, 160, 162, 164, 166, 168, 170, 172, 174, 176, 178, 180, 182, 184, 186, 188, 190, 192, 194, 196, 198, 200, 202, 204, 206, 208, 210, 212, 214, 216, 218, 220, 222, 224, 226, 228, 230, 232, 234, 236, 238, 240, 242, 244, 246, 248, 250, 252, 254, 256, 258, 260, 262, 264, 266, 268, 270, 272, 274, 276, 278, 280, 282, 284, 286, 288, 290, 292, 294, 296, 298, 300, 302, 304, 306, 308, 310, 312, 314, 316, 318, 320, 322, 324, 326, 328, 330, 332, 334, 336, 338, 340, 342, 344, 346, 348, 350, 352, 354, 356, 358, 360, 362, 364, 366, 368, 370, 372, 374, 376, 378, 380, 382, 384, 386, 388, 390, 392, 394, 396, 398]\n"
     ]
    }
   ],
   "source": [
    "class EvenIterator:\n",
    "    def __init__(self, n) -> None:\n",
    "        self.a = -2\n",
    "        self.n = n\n",
    "\n",
    "    def __iter__(self):\n",
    "        return self\n",
    "\n",
    "    def __next__(self):\n",
    "        self.a += 2\n",
    "        self.n -= 1\n",
    "        if self.n < 0:\n",
    "            raise StopIteration\n",
    "        else:\n",
    "            return self.a\n",
    "\n",
    "iter = EvenIterator(200)\n",
    "print(list(iter))"
   ]
  },
  {
   "attachments": {},
   "cell_type": "markdown",
   "metadata": {},
   "source": [
    "#### Stwórz analogiczny generator"
   ]
  },
  {
   "cell_type": "code",
   "execution_count": 32,
   "metadata": {},
   "outputs": [
    {
     "name": "stdout",
     "output_type": "stream",
     "text": [
      "[0, 2, 4, 6, 8, 10, 12, 14, 16, 18, 20, 22, 24, 26, 28, 30, 32, 34, 36, 38, 40, 42, 44, 46, 48, 50, 52, 54, 56, 58, 60, 62, 64, 66, 68, 70, 72, 74, 76, 78, 80, 82, 84, 86, 88, 90, 92, 94, 96, 98, 100, 102, 104, 106, 108, 110, 112, 114, 116, 118, 120, 122, 124, 126, 128, 130, 132, 134, 136, 138, 140, 142, 144, 146, 148, 150, 152, 154, 156, 158, 160, 162, 164, 166, 168, 170, 172, 174, 176, 178, 180, 182, 184, 186, 188, 190, 192, 194, 196, 198, 200, 202, 204, 206, 208, 210, 212, 214, 216, 218, 220, 222, 224, 226, 228, 230, 232, 234, 236, 238, 240, 242, 244, 246, 248, 250, 252, 254, 256, 258, 260, 262, 264, 266, 268, 270, 272, 274, 276, 278, 280, 282, 284, 286, 288, 290, 292, 294, 296, 298, 300, 302, 304, 306, 308, 310, 312, 314, 316, 318, 320, 322, 324, 326, 328, 330, 332, 334, 336, 338, 340, 342, 344, 346, 348, 350, 352, 354, 356, 358, 360, 362, 364, 366, 368, 370, 372, 374, 376, 378, 380, 382, 384, 386, 388, 390, 392, 394, 396, 398]\n"
     ]
    }
   ],
   "source": [
    "def f(n):\n",
    "    a = 0\n",
    "    for i in range(n):\n",
    "        yield a\n",
    "        a += 2\n",
    "\n",
    "print(list(f(200)))"
   ]
  },
  {
   "attachments": {},
   "cell_type": "markdown",
   "metadata": {},
   "source": [
    "#### Stwórz iterator analogiczny do ciągu Fibonacciego, tym razem jednak ze wzorem\n",
    "\n",
    "$S_{n} = S_{n - 1} - S_{n - 2} + 2S_{n - 3}$\n",
    "\n",
    "Niech warunki początkowe to $S_0 = 0, S_1 = 1, S_2 = 1$"
   ]
  },
  {
   "attachments": {},
   "cell_type": "markdown",
   "metadata": {},
   "source": [
    "Rozwiązanie:\n",
    "\n",
    " * Stwórz klasę przyjmującą jeden parametr `n` określający, ile elementów ma mieć nasz docelowy ciąg.\n",
    " * Przygotuj trzy pola odpowiadające odpowiednio, wiodącemu, drugiemu i trzeciemu elementowi ciągu. Poniżej nazwane `a`, `b` i `c`.\n",
    " * Stwórz metodę `__iter__`, z pomocą której nasz obiekt zwróci sam siebie.\n",
    " * Stwórz metodę `__next__`, która będzie zwracała kolejne elementy ciągu.\n",
    " * W metodzie `__next__` sprawdź, czy wykonaliśmy się mniej niż `n` razy.\n",
    " * Jeśli tak, to podstaw $a\\coloneqq a - b + 2c, b\\coloneqq a, c\\coloneqq b$ i zwróć odpowiedni wyraz ciągu (poniżej zwracamy `c` przed podmianami żeby ciąg zacząć od wyrazu $0$).\n",
    " * Jeśli nie, wyrzuć `StopIteration` kończąc działanie iteratora."
   ]
  },
  {
   "cell_type": "code",
   "execution_count": 33,
   "metadata": {},
   "outputs": [
    {
     "name": "stdout",
     "output_type": "stream",
     "text": [
      "1 1 0 1 3 2 1 5 8 5 7 18 21 17 32 57 59 66 121 173 184 253 415 530 621 921 1360 1681 2163 3202 4401 5525 7528 10805 14327 18578 25861 35937 47232 63017 87659 119106 157481 213693 294424 395693 528655 721810 984541 1320041 1779120 2428161 3289123 4419202 5986401 8145445 10997448 14824805 20118247 27288338 36819701 49767857 67524832 91396377 123407259 167060546 226446041 306200013 413875064 560567133 759092095 1026275090 1388317261 1880226361 2544459280 3440867441 4656860883 6304912002 8529786001 11538595765 15618633768 21139610005 28598167767 38695825298 52376877541 70877387777 95892160832 129768528137 175631142859 237646936386 321552849801 435168199133 588909222104 796846722573 1078273898735 1459245620370 1974665166781 2671967343881 3615793417840 4893156407521 "
     ]
    }
   ],
   "source": [
    "class PMPIterator:\n",
    "    def __init__(self, n):\n",
    "        self.n = n\n",
    "        self.a = 1\n",
    "        self.b = 1\n",
    "        self.c = 0\n",
    "\n",
    "    def __iter__(self):\n",
    "        return self\n",
    "\n",
    "    def __next__(self):\n",
    "        self.n -= 1\n",
    "        if self.n < 0:\n",
    "            raise StopIteration\n",
    "        else:\n",
    "            self.a, self.b, self.c = self.a - self.b + 2 * self.c, self.a, self.b\n",
    "            return self.c\n",
    "\n",
    "\n",
    "iter = PMPIterator(100)\n",
    "for elem in iter:\n",
    "    print(elem, end=' ')"
   ]
  },
  {
   "attachments": {},
   "cell_type": "markdown",
   "metadata": {},
   "source": [
    "#### Stwórz generator analogiczny do zadania powyżej."
   ]
  },
  {
   "cell_type": "code",
   "execution_count": 34,
   "metadata": {},
   "outputs": [
    {
     "name": "stdout",
     "output_type": "stream",
     "text": [
      "1 1 0 1 3 2 1 5 8 5 7 18 21 17 32 57 59 66 121 173 184 253 415 530 621 921 1360 1681 2163 3202 4401 5525 7528 10805 14327 18578 25861 35937 47232 63017 87659 119106 157481 213693 294424 395693 528655 721810 984541 1320041 1779120 2428161 3289123 4419202 5986401 8145445 10997448 14824805 20118247 27288338 36819701 49767857 67524832 91396377 123407259 167060546 226446041 306200013 413875064 560567133 759092095 1026275090 1388317261 1880226361 2544459280 3440867441 4656860883 6304912002 8529786001 11538595765 15618633768 21139610005 28598167767 38695825298 52376877541 70877387777 95892160832 129768528137 175631142859 237646936386 321552849801 435168199133 588909222104 796846722573 1078273898735 1459245620370 1974665166781 2671967343881 3615793417840 4893156407521 "
     ]
    }
   ],
   "source": [
    "def PMPGenerator():\n",
    "    a, b, c = 1, 1, 0\n",
    "    while True:\n",
    "        yield b\n",
    "        a, b, c = a - b + 2 * c, a, b\n",
    "\n",
    "k = 0\n",
    "for s in PMPGenerator():\n",
    "    k += 1\n",
    "    if k > 100:\n",
    "        break\n",
    "    print(s, end=' ')"
   ]
  },
  {
   "cell_type": "markdown",
   "metadata": {},
   "source": [
    "## Wyrażenia regularne"
   ]
  },
  {
   "cell_type": "markdown",
   "metadata": {},
   "source": [
    "## Profilowanie kodu"
   ]
  },
  {
   "cell_type": "markdown",
   "metadata": {},
   "source": [
    "## Wielowątkowość"
   ]
  }
 ],
 "metadata": {
  "kernelspec": {
   "display_name": "Python 3",
   "language": "python",
   "name": "python3"
  },
  "language_info": {
   "codemirror_mode": {
    "name": "ipython",
    "version": 3
   },
   "file_extension": ".py",
   "mimetype": "text/x-python",
   "name": "python",
   "nbconvert_exporter": "python",
   "pygments_lexer": "ipython3",
   "version": "3.11.0 (v3.11.0:deaf509e8f, Oct 24 2022, 14:43:23) [Clang 13.0.0 (clang-1300.0.29.30)]"
  },
  "orig_nbformat": 4,
  "vscode": {
   "interpreter": {
    "hash": "aee8b7b246df8f9039afb4144a1f6fd8d2ca17a180786b69acc140d282b71a49"
   }
  }
 },
 "nbformat": 4,
 "nbformat_minor": 2
}
